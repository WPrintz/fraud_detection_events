{
 "cells": [
  {
   "cell_type": "markdown",
   "metadata": {},
   "source": [
    "# Fraud Detection Case Study"
   ]
  },
  {
   "cell_type": "code",
   "execution_count": 1,
   "metadata": {
    "collapsed": false
   },
   "outputs": [],
   "source": [
    "import numpy as np\n",
    "import pandas as pd\n",
    "from itertools import *\n",
    "from collections import Counter\n",
    "\n",
    "from sklearn.model_selection import train_test_split\n",
    "from sklearn.feature_extraction.text import TfidfVectorizer\n",
    "from sklearn.naive_bayes import MultinomialNB\n",
    "from sklearn.ensemble import GradientBoostingClassifier as GBC\n",
    "from sklearn.ensemble import RandomForestClassifier as RFC\n",
    "\n",
    "from numpy.linalg import svd\n",
    "\n",
    "import matplotlib.pyplot as plt\n",
    "%matplotlib inline\n",
    "\n",
    "import random\n",
    "import cPickle as pickle\n"
   ]
  },
  {
   "cell_type": "code",
   "execution_count": 2,
   "metadata": {
    "collapsed": false
   },
   "outputs": [],
   "source": [
    "data = pd.read_json('../../data.json')"
   ]
  },
  {
   "cell_type": "markdown",
   "metadata": {},
   "source": [
    "Singular Value Decomposition (To reduce the number of features) -\n",
    "\n",
    "https://docs.scipy.org/doc/numpy/reference/generated/numpy.linalg.svd.html\n",
    "\n"
   ]
  },
  {
   "cell_type": "code",
   "execution_count": 3,
   "metadata": {
    "collapsed": false
   },
   "outputs": [
    {
     "data": {
      "text/html": [
       "<div>\n",
       "<table border=\"1\" class=\"dataframe\">\n",
       "  <thead>\n",
       "    <tr style=\"text-align: right;\">\n",
       "      <th></th>\n",
       "      <th>acct_type</th>\n",
       "      <th>approx_payout_date</th>\n",
       "      <th>body_length</th>\n",
       "      <th>channels</th>\n",
       "      <th>country</th>\n",
       "      <th>currency</th>\n",
       "      <th>delivery_method</th>\n",
       "      <th>description</th>\n",
       "      <th>email_domain</th>\n",
       "      <th>event_created</th>\n",
       "      <th>...</th>\n",
       "      <th>ticket_types</th>\n",
       "      <th>user_age</th>\n",
       "      <th>user_created</th>\n",
       "      <th>user_type</th>\n",
       "      <th>venue_address</th>\n",
       "      <th>venue_country</th>\n",
       "      <th>venue_latitude</th>\n",
       "      <th>venue_longitude</th>\n",
       "      <th>venue_name</th>\n",
       "      <th>venue_state</th>\n",
       "    </tr>\n",
       "  </thead>\n",
       "  <tbody>\n",
       "    <tr>\n",
       "      <th>0</th>\n",
       "      <td>fraudster_event</td>\n",
       "      <td>1266062400</td>\n",
       "      <td>3852</td>\n",
       "      <td>5</td>\n",
       "      <td>US</td>\n",
       "      <td>USD</td>\n",
       "      <td>0.0</td>\n",
       "      <td>&lt;p&gt;&lt;a href=\"http://s432.photobucket.com/albums...</td>\n",
       "      <td>gmail.com</td>\n",
       "      <td>1262739706</td>\n",
       "      <td>...</td>\n",
       "      <td>[{u'event_id': 527017, u'cost': 25.0, u'availa...</td>\n",
       "      <td>36</td>\n",
       "      <td>1259613950</td>\n",
       "      <td>1</td>\n",
       "      <td>717 Washington Avenue</td>\n",
       "      <td>US</td>\n",
       "      <td>25.777471</td>\n",
       "      <td>-80.133433</td>\n",
       "      <td>INK Nightclub - South Beach</td>\n",
       "      <td>FL</td>\n",
       "    </tr>\n",
       "    <tr>\n",
       "      <th>1</th>\n",
       "      <td>premium</td>\n",
       "      <td>1296720000</td>\n",
       "      <td>3499</td>\n",
       "      <td>0</td>\n",
       "      <td>US</td>\n",
       "      <td>USD</td>\n",
       "      <td>1.0</td>\n",
       "      <td>&lt;p&gt;Join us for a quick, one-night, community-b...</td>\n",
       "      <td>ruf.org</td>\n",
       "      <td>1293832670</td>\n",
       "      <td>...</td>\n",
       "      <td>[{u'event_id': 786878, u'cost': 35.0, u'availa...</td>\n",
       "      <td>149</td>\n",
       "      <td>1280942776</td>\n",
       "      <td>3</td>\n",
       "      <td></td>\n",
       "      <td>US</td>\n",
       "      <td>32.776566</td>\n",
       "      <td>-79.930922</td>\n",
       "      <td>The Charleston, SC area</td>\n",
       "      <td>SC</td>\n",
       "    </tr>\n",
       "    <tr>\n",
       "      <th>2</th>\n",
       "      <td>premium</td>\n",
       "      <td>1296172800</td>\n",
       "      <td>2601</td>\n",
       "      <td>8</td>\n",
       "      <td>US</td>\n",
       "      <td>USD</td>\n",
       "      <td>1.0</td>\n",
       "      <td>&lt;h3&gt;&lt;span class=\"subcategory\"&gt;&lt;strong&gt;Teacher ...</td>\n",
       "      <td>pvsd.k12.ca.us</td>\n",
       "      <td>1291090956</td>\n",
       "      <td>...</td>\n",
       "      <td>[{u'event_id': 787337, u'cost': 93.51, u'avail...</td>\n",
       "      <td>214</td>\n",
       "      <td>1272559388</td>\n",
       "      <td>3</td>\n",
       "      <td>10100 Pioneer Blvd Suite 100</td>\n",
       "      <td>US</td>\n",
       "      <td>33.944201</td>\n",
       "      <td>-118.080419</td>\n",
       "      <td>Los Angeles County Office of Education</td>\n",
       "      <td>CA</td>\n",
       "    </tr>\n",
       "  </tbody>\n",
       "</table>\n",
       "<p>3 rows × 44 columns</p>\n",
       "</div>"
      ],
      "text/plain": [
       "         acct_type  approx_payout_date  body_length  channels country  \\\n",
       "0  fraudster_event          1266062400         3852         5      US   \n",
       "1          premium          1296720000         3499         0      US   \n",
       "2          premium          1296172800         2601         8      US   \n",
       "\n",
       "  currency  delivery_method  \\\n",
       "0      USD              0.0   \n",
       "1      USD              1.0   \n",
       "2      USD              1.0   \n",
       "\n",
       "                                         description    email_domain  \\\n",
       "0  <p><a href=\"http://s432.photobucket.com/albums...       gmail.com   \n",
       "1  <p>Join us for a quick, one-night, community-b...         ruf.org   \n",
       "2  <h3><span class=\"subcategory\"><strong>Teacher ...  pvsd.k12.ca.us   \n",
       "\n",
       "   event_created     ...      \\\n",
       "0     1262739706     ...       \n",
       "1     1293832670     ...       \n",
       "2     1291090956     ...       \n",
       "\n",
       "                                        ticket_types  user_age  user_created  \\\n",
       "0  [{u'event_id': 527017, u'cost': 25.0, u'availa...        36    1259613950   \n",
       "1  [{u'event_id': 786878, u'cost': 35.0, u'availa...       149    1280942776   \n",
       "2  [{u'event_id': 787337, u'cost': 93.51, u'avail...       214    1272559388   \n",
       "\n",
       "   user_type                 venue_address  venue_country  venue_latitude  \\\n",
       "0          1         717 Washington Avenue             US       25.777471   \n",
       "1          3                                           US       32.776566   \n",
       "2          3  10100 Pioneer Blvd Suite 100             US       33.944201   \n",
       "\n",
       "   venue_longitude                              venue_name venue_state  \n",
       "0       -80.133433             INK Nightclub - South Beach          FL  \n",
       "1       -79.930922                 The Charleston, SC area          SC  \n",
       "2      -118.080419  Los Angeles County Office of Education          CA  \n",
       "\n",
       "[3 rows x 44 columns]"
      ]
     },
     "execution_count": 3,
     "metadata": {},
     "output_type": "execute_result"
    }
   ],
   "source": [
    "data.head(3)"
   ]
  },
  {
   "cell_type": "code",
   "execution_count": 4,
   "metadata": {
    "collapsed": false
   },
   "outputs": [
    {
     "data": {
      "text/plain": [
       "array([u'fraudster_event', u'premium', u'spammer_warn', u'fraudster',\n",
       "       u'spammer_limited', u'spammer_noinvite', u'locked', u'tos_lock',\n",
       "       u'tos_warn', u'fraudster_att', u'spammer_web', u'spammer'], dtype=object)"
      ]
     },
     "execution_count": 4,
     "metadata": {},
     "output_type": "execute_result"
    }
   ],
   "source": [
    "data['acct_type'].unique()"
   ]
  },
  {
   "cell_type": "code",
   "execution_count": 5,
   "metadata": {
    "collapsed": false
   },
   "outputs": [
    {
     "data": {
      "text/plain": [
       "Counter({u'fraudster': 437,\n",
       "         u'fraudster_att': 5,\n",
       "         u'fraudster_event': 851,\n",
       "         u'locked': 54,\n",
       "         u'premium': 12373,\n",
       "         u'spammer': 1,\n",
       "         u'spammer_limited': 218,\n",
       "         u'spammer_noinvite': 84,\n",
       "         u'spammer_warn': 144,\n",
       "         u'spammer_web': 2,\n",
       "         u'tos_lock': 77,\n",
       "         u'tos_warn': 91})"
      ]
     },
     "execution_count": 5,
     "metadata": {},
     "output_type": "execute_result"
    }
   ],
   "source": [
    "Counter(data['acct_type'])"
   ]
  },
  {
   "cell_type": "code",
   "execution_count": 6,
   "metadata": {
    "collapsed": false
   },
   "outputs": [],
   "source": [
    "# data[data['acct_type']=='locked']"
   ]
  },
  {
   "cell_type": "code",
   "execution_count": 7,
   "metadata": {
    "collapsed": false
   },
   "outputs": [],
   "source": [
    "a_loon = {'fraudster': 1, 'fraudster_att': 1, 'fraudster_event': 1, 'locked': 1, 'premium': 0}\n"
   ]
  },
  {
   "cell_type": "code",
   "execution_count": 8,
   "metadata": {
    "collapsed": false
   },
   "outputs": [],
   "source": [
    "df_first = data[(data['acct_type']=='fraudster') | (data['acct_type']=='fraudster_att') | (data['acct_type']=='fraudster_event')\n",
    "    | (data['acct_type']=='premium')]"
   ]
  },
  {
   "cell_type": "code",
   "execution_count": 9,
   "metadata": {
    "collapsed": false
   },
   "outputs": [],
   "source": [
    "y = df_first['acct_type'].map(a_loon)"
   ]
  },
  {
   "cell_type": "code",
   "execution_count": 10,
   "metadata": {
    "collapsed": false
   },
   "outputs": [
    {
     "data": {
      "text/plain": [
       "Index([u'acct_type', u'approx_payout_date', u'body_length', u'channels',\n",
       "       u'country', u'currency', u'delivery_method', u'description',\n",
       "       u'email_domain', u'event_created', u'event_end', u'event_published',\n",
       "       u'event_start', u'fb_published', u'gts', u'has_analytics',\n",
       "       u'has_header', u'has_logo', u'listed', u'name', u'name_length',\n",
       "       u'num_order', u'num_payouts', u'object_id', u'org_desc',\n",
       "       u'org_facebook', u'org_name', u'org_twitter', u'payee_name',\n",
       "       u'payout_type', u'previous_payouts', u'sale_duration',\n",
       "       u'sale_duration2', u'show_map', u'ticket_types', u'user_age',\n",
       "       u'user_created', u'user_type', u'venue_address', u'venue_country',\n",
       "       u'venue_latitude', u'venue_longitude', u'venue_name', u'venue_state'],\n",
       "      dtype='object')"
      ]
     },
     "execution_count": 10,
     "metadata": {},
     "output_type": "execute_result"
    }
   ],
   "source": [
    "df_first.columns"
   ]
  },
  {
   "cell_type": "code",
   "execution_count": 11,
   "metadata": {
    "collapsed": false
   },
   "outputs": [],
   "source": [
    "# df_first[(df_first['fb_published'] == 1) & (df_first['acct_type'] == 'premium') ]"
   ]
  },
  {
   "cell_type": "code",
   "execution_count": 12,
   "metadata": {
    "collapsed": false
   },
   "outputs": [
    {
     "name": "stderr",
     "output_type": "stream",
     "text": [
      "/home/sanhita/anaconda2/lib/python2.7/site-packages/ipykernel/__main__.py:1: SettingWithCopyWarning: \n",
      "A value is trying to be set on a copy of a slice from a DataFrame.\n",
      "Try using .loc[row_indexer,col_indexer] = value instead\n",
      "\n",
      "See the caveats in the documentation: http://pandas.pydata.org/pandas-docs/stable/indexing.html#indexing-view-versus-copy\n",
      "  if __name__ == '__main__':\n"
     ]
    }
   ],
   "source": [
    "df_first['regi_use_time_delta'] = df_first['event_created'] - df_first['user_created']"
   ]
  },
  {
   "cell_type": "code",
   "execution_count": 13,
   "metadata": {
    "collapsed": false
   },
   "outputs": [],
   "source": [
    "# df_first[['regi_use_time_delta', 'acct_type']]"
   ]
  },
  {
   "cell_type": "code",
   "execution_count": 14,
   "metadata": {
    "collapsed": false
   },
   "outputs": [
    {
     "data": {
      "text/plain": [
       "7528982.6055684453"
      ]
     },
     "execution_count": 14,
     "metadata": {},
     "output_type": "execute_result"
    }
   ],
   "source": [
    "df_first[df_first['acct_type'].str.contains('fraud')]['regi_use_time_delta'].mean()"
   ]
  },
  {
   "cell_type": "code",
   "execution_count": 15,
   "metadata": {
    "collapsed": false
   },
   "outputs": [
    {
     "data": {
      "text/plain": [
       "34292148.041461244"
      ]
     },
     "execution_count": 15,
     "metadata": {},
     "output_type": "execute_result"
    }
   ],
   "source": [
    "df_first[df_first['acct_type'].str.contains('premium')]['regi_use_time_delta'].mean()"
   ]
  },
  {
   "cell_type": "code",
   "execution_count": 16,
   "metadata": {
    "collapsed": false
   },
   "outputs": [
    {
     "name": "stdout",
     "output_type": "stream",
     "text": [
      "0.756380510441"
     ]
    },
    {
     "data": {
      "text/plain": [
       "0.850804170370969"
      ]
     },
     "execution_count": 16,
     "metadata": {},
     "output_type": "execute_result"
    },
    {
     "name": "stdout",
     "output_type": "stream",
     "text": [
      "\n"
     ]
    }
   ],
   "source": [
    "col = 'show_map'\n",
    "print df_first[df_first['acct_type'].str.contains('fraud')][col].mean(), \n",
    "df_first[df_first['acct_type'].str.contains('premium')][col].mean()"
   ]
  },
  {
   "cell_type": "code",
   "execution_count": 17,
   "metadata": {
    "collapsed": false,
    "scrolled": true
   },
   "outputs": [
    {
     "name": "stdout",
     "output_type": "stream",
     "text": [
      "0.0224284609435"
     ]
    },
    {
     "data": {
      "text/plain": [
       "0.13569869877960075"
      ]
     },
     "execution_count": 17,
     "metadata": {},
     "output_type": "execute_result"
    },
    {
     "name": "stdout",
     "output_type": "stream",
     "text": [
      "\n"
     ]
    }
   ],
   "source": [
    "col = 'fb_published'\n",
    "print df_first[df_first['acct_type'].str.contains('fraud')][col].mean(), \n",
    "df_first[df_first['acct_type'].str.contains('premium')][col].mean()"
   ]
  },
  {
   "cell_type": "code",
   "execution_count": 18,
   "metadata": {
    "collapsed": false
   },
   "outputs": [
    {
     "name": "stdout",
     "output_type": "stream",
     "text": [
      "0.645784996133"
     ]
    },
    {
     "data": {
      "text/plain": [
       "0.86106845550796085"
      ]
     },
     "execution_count": 18,
     "metadata": {},
     "output_type": "execute_result"
    },
    {
     "name": "stdout",
     "output_type": "stream",
     "text": [
      "\n"
     ]
    }
   ],
   "source": [
    "col = 'has_logo'\n",
    "print df_first[df_first['acct_type'].str.contains('fraud')][col].mean(), \n",
    "df_first[df_first['acct_type'].str.contains('premium')][col].mean()"
   ]
  },
  {
   "cell_type": "code",
   "execution_count": 19,
   "metadata": {
    "collapsed": false
   },
   "outputs": [
    {
     "name": "stdout",
     "output_type": "stream",
     "text": [
      "0.0693641618497"
     ]
    },
    {
     "data": {
      "text/plain": [
       "0.21320754716981133"
      ]
     },
     "execution_count": 19,
     "metadata": {},
     "output_type": "execute_result"
    },
    {
     "name": "stdout",
     "output_type": "stream",
     "text": [
      "\n"
     ]
    }
   ],
   "source": [
    "col = 'has_header'\n",
    "print df_first[df_first['acct_type'].str.contains('fraud')][col].mean(), \n",
    "df_first[df_first['acct_type'].str.contains('premium')][col].mean()"
   ]
  },
  {
   "cell_type": "code",
   "execution_count": 20,
   "metadata": {
    "collapsed": false
   },
   "outputs": [
    {
     "name": "stdout",
     "output_type": "stream",
     "text": [
      "1.03554119548"
     ]
    },
    {
     "data": {
      "text/plain": [
       "8.60037189748565"
      ]
     },
     "execution_count": 20,
     "metadata": {},
     "output_type": "execute_result"
    },
    {
     "name": "stdout",
     "output_type": "stream",
     "text": [
      "\n"
     ]
    }
   ],
   "source": [
    "col = 'org_facebook'\n",
    "print df_first[df_first['acct_type'].str.contains('fraud')][col].mean(), \n",
    "df_first[df_first['acct_type'].str.contains('premium')][col].mean()"
   ]
  },
  {
   "cell_type": "code",
   "execution_count": 21,
   "metadata": {
    "collapsed": false
   },
   "outputs": [
    {
     "data": {
      "text/plain": [
       "<matplotlib.axes._subplots.AxesSubplot at 0x7f1578dd9190>"
      ]
     },
     "execution_count": 21,
     "metadata": {},
     "output_type": "execute_result"
    },
    {
     "data": {
      "image/png": "[encoded data removed]",
      "text/plain": [
       "<matplotlib.figure.Figure at 0x7f15fdff68d0>"
      ]
     },
     "metadata": {},
     "output_type": "display_data"
    }
   ],
   "source": [
    "df_first['org_facebook'].hist()"
   ]
  },
  {
   "cell_type": "code",
   "execution_count": 22,
   "metadata": {
    "collapsed": false
   },
   "outputs": [
    {
     "name": "stdout",
     "output_type": "stream",
     "text": [
      "0.832173240526"
     ]
    },
    {
     "name": "stderr",
     "output_type": "stream",
     "text": [
      "/home/sanhita/anaconda2/lib/python2.7/site-packages/ipykernel/__main__.py:3: SettingWithCopyWarning: \n",
      "A value is trying to be set on a copy of a slice from a DataFrame.\n",
      "Try using .loc[row_indexer,col_indexer] = value instead\n",
      "\n",
      "See the caveats in the documentation: http://pandas.pydata.org/pandas-docs/stable/indexing.html#indexing-view-versus-copy\n",
      "  app.launch_new_instance()\n"
     ]
    },
    {
     "data": {
      "text/plain": [
       "0.85702739836741293"
      ]
     },
     "execution_count": 22,
     "metadata": {},
     "output_type": "execute_result"
    },
    {
     "name": "stdout",
     "output_type": "stream",
     "text": [
      "\n"
     ]
    }
   ],
   "source": [
    "col = 'listed'\n",
    "yn_map = {'y': 1, 'n' : 0}\n",
    "df_first['listed'] = df_first['listed'].map(yn_map)\n",
    "print df_first[df_first['acct_type'].str.contains('fraud')][col].mean(), \n",
    "df_first[df_first['acct_type'].str.contains('premium')][col].mean()"
   ]
  },
  {
   "cell_type": "code",
   "execution_count": 23,
   "metadata": {
    "collapsed": false
   },
   "outputs": [
    {
     "name": "stdout",
     "output_type": "stream",
     "text": [
      "0.294022617124"
     ]
    },
    {
     "data": {
      "text/plain": [
       "4.652680087315062"
      ]
     },
     "execution_count": 23,
     "metadata": {},
     "output_type": "execute_result"
    },
    {
     "name": "stdout",
     "output_type": "stream",
     "text": [
      "\n"
     ]
    }
   ],
   "source": [
    "col = 'org_twitter'\n",
    "print df_first[df_first['acct_type'].str.contains('fraud')][col].mean(), \n",
    "df_first[df_first['acct_type'].str.contains('premium')][col].mean()"
   ]
  },
  {
   "cell_type": "code",
   "execution_count": 24,
   "metadata": {
    "collapsed": false
   },
   "outputs": [
    {
     "name": "stdout",
     "output_type": "stream",
     "text": [
      "14.1259574468"
     ]
    },
    {
     "data": {
      "text/plain": [
       "50.395477020345304"
      ]
     },
     "execution_count": 24,
     "metadata": {},
     "output_type": "execute_result"
    },
    {
     "name": "stdout",
     "output_type": "stream",
     "text": [
      "\n"
     ]
    }
   ],
   "source": [
    "col = 'sale_duration'\n",
    "print df_first[df_first['acct_type'].str.contains('fraud')][col].mean(), \n",
    "df_first[df_first['acct_type'].str.contains('premium')][col].mean()"
   ]
  },
  {
   "cell_type": "code",
   "execution_count": 25,
   "metadata": {
    "collapsed": false
   },
   "outputs": [
    {
     "name": "stdout",
     "output_type": "stream",
     "text": [
      "1911.21436195"
     ]
    },
    {
     "data": {
      "text/plain": [
       "2531.424853309616"
      ]
     },
     "execution_count": 25,
     "metadata": {},
     "output_type": "execute_result"
    },
    {
     "name": "stdout",
     "output_type": "stream",
     "text": [
      "\n"
     ]
    }
   ],
   "source": [
    "col = 'gts'\n",
    "print df_first[df_first['acct_type'].str.contains('fraud')][col].mean(), \n",
    "df_first[df_first['acct_type'].str.contains('premium')][col].mean()"
   ]
  },
  {
   "cell_type": "code",
   "execution_count": 26,
   "metadata": {
    "collapsed": false
   },
   "outputs": [
    {
     "name": "stdout",
     "output_type": "stream",
     "text": [
      "0.0030935808198"
     ]
    },
    {
     "data": {
      "text/plain": [
       "0.082033459953123736"
      ]
     },
     "execution_count": 26,
     "metadata": {},
     "output_type": "execute_result"
    },
    {
     "name": "stdout",
     "output_type": "stream",
     "text": [
      "\n"
     ]
    }
   ],
   "source": [
    "col = 'has_analytics'\n",
    "print df_first[df_first['acct_type'].str.contains('fraud')][col].mean(), \n",
    "df_first[df_first['acct_type'].str.contains('premium')][col].mean()"
   ]
  },
  {
   "cell_type": "code",
   "execution_count": 27,
   "metadata": {
    "collapsed": false
   },
   "outputs": [
    {
     "data": {
      "text/plain": [
       "Index([          u'acct_type',  u'approx_payout_date',         u'body_length',\n",
       "                  u'channels',             u'country',            u'currency',\n",
       "           u'delivery_method',         u'description',        u'email_domain',\n",
       "             u'event_created',           u'event_end',     u'event_published',\n",
       "               u'event_start',        u'fb_published',                 u'gts',\n",
       "             u'has_analytics',          u'has_header',            u'has_logo',\n",
       "                    u'listed',                u'name',         u'name_length',\n",
       "                 u'num_order',         u'num_payouts',           u'object_id',\n",
       "                  u'org_desc',        u'org_facebook',            u'org_name',\n",
       "               u'org_twitter',          u'payee_name',         u'payout_type',\n",
       "          u'previous_payouts',       u'sale_duration',      u'sale_duration2',\n",
       "                  u'show_map',        u'ticket_types',            u'user_age',\n",
       "              u'user_created',           u'user_type',       u'venue_address',\n",
       "             u'venue_country',      u'venue_latitude',     u'venue_longitude',\n",
       "                u'venue_name',         u'venue_state', u'regi_use_time_delta'],\n",
       "      dtype='object')"
      ]
     },
     "execution_count": 27,
     "metadata": {},
     "output_type": "execute_result"
    }
   ],
   "source": [
    "df_first.columns"
   ]
  },
  {
   "cell_type": "code",
   "execution_count": 28,
   "metadata": {
    "collapsed": false
   },
   "outputs": [
    {
     "name": "stdout",
     "output_type": "stream",
     "text": [
      "29.9752513534"
     ]
    },
    {
     "data": {
      "text/plain": [
       "42.479915946011474"
      ]
     },
     "execution_count": 28,
     "metadata": {},
     "output_type": "execute_result"
    },
    {
     "name": "stdout",
     "output_type": "stream",
     "text": [
      "\n"
     ]
    }
   ],
   "source": [
    "col = 'name_length'\n",
    "print df_first[df_first['acct_type'].str.contains('fraud')][col].mean(), \n",
    "df_first[df_first['acct_type'].str.contains('premium')][col].mean()"
   ]
  },
  {
   "cell_type": "code",
   "execution_count": 29,
   "metadata": {
    "collapsed": false
   },
   "outputs": [
    {
     "name": "stdout",
     "output_type": "stream",
     "text": [
      "0.976798143852"
     ]
    },
    {
     "data": {
      "text/plain": [
       "0.75850642528085344"
      ]
     },
     "execution_count": 29,
     "metadata": {},
     "output_type": "execute_result"
    },
    {
     "name": "stdout",
     "output_type": "stream",
     "text": [
      "\n"
     ]
    }
   ],
   "source": [
    "col = 'payee_name'\n",
    "df_first[df_first[col]==u''][['acct_type', col]]\n",
    "f_name = df_first[(df_first['acct_type'].str.contains('fraud')) & (df_first[col]==u'')]['acct_type'].count()\n",
    "p_name = df_first[(df_first['acct_type'].str.contains('premium')) & (df_first[col]==u'')]['acct_type'].count()\n",
    "\n",
    "print f_name*1.0 / len(df_first[df_first['acct_type'].str.contains('fraud')]), \n",
    "p_name*1.0 / len(df_first[df_first['acct_type'].str.contains('premium')])"
   ]
  },
  {
   "cell_type": "code",
   "execution_count": 30,
   "metadata": {
    "collapsed": false
   },
   "outputs": [
    {
     "data": {
      "text/plain": [
       "array([u'', u'CHECK', u'ACH'], dtype=object)"
      ]
     },
     "execution_count": 30,
     "metadata": {},
     "output_type": "execute_result"
    }
   ],
   "source": [
    "col = 'payout_type'\n",
    "df_first[col].unique()\n",
    "# df_first[(df_first['acct_type'].str.contains('premium')) & (df_first[col] != 'CHECK') & (df_first[col] != 'ACH')][['acct_type', col]]"
   ]
  },
  {
   "cell_type": "code",
   "execution_count": 31,
   "metadata": {
    "collapsed": false
   },
   "outputs": [
    {
     "data": {
      "text/html": [
       "<div>\n",
       "<table border=\"1\" class=\"dataframe\">\n",
       "  <thead>\n",
       "    <tr style=\"text-align: right;\">\n",
       "      <th></th>\n",
       "      <th>acct_type</th>\n",
       "      <th>payout_type</th>\n",
       "    </tr>\n",
       "  </thead>\n",
       "  <tbody>\n",
       "    <tr>\n",
       "      <th>0</th>\n",
       "      <td>fraudster_event</td>\n",
       "      <td></td>\n",
       "    </tr>\n",
       "    <tr>\n",
       "      <th>183</th>\n",
       "      <td>fraudster</td>\n",
       "      <td></td>\n",
       "    </tr>\n",
       "    <tr>\n",
       "      <th>187</th>\n",
       "      <td>fraudster_event</td>\n",
       "      <td></td>\n",
       "    </tr>\n",
       "    <tr>\n",
       "      <th>212</th>\n",
       "      <td>fraudster_event</td>\n",
       "      <td></td>\n",
       "    </tr>\n",
       "    <tr>\n",
       "      <th>219</th>\n",
       "      <td>fraudster_event</td>\n",
       "      <td></td>\n",
       "    </tr>\n",
       "    <tr>\n",
       "      <th>289</th>\n",
       "      <td>fraudster_event</td>\n",
       "      <td></td>\n",
       "    </tr>\n",
       "    <tr>\n",
       "      <th>296</th>\n",
       "      <td>fraudster_event</td>\n",
       "      <td></td>\n",
       "    </tr>\n",
       "    <tr>\n",
       "      <th>307</th>\n",
       "      <td>fraudster_event</td>\n",
       "      <td></td>\n",
       "    </tr>\n",
       "    <tr>\n",
       "      <th>330</th>\n",
       "      <td>fraudster_event</td>\n",
       "      <td></td>\n",
       "    </tr>\n",
       "    <tr>\n",
       "      <th>440</th>\n",
       "      <td>fraudster_event</td>\n",
       "      <td></td>\n",
       "    </tr>\n",
       "    <tr>\n",
       "      <th>451</th>\n",
       "      <td>fraudster_event</td>\n",
       "      <td></td>\n",
       "    </tr>\n",
       "    <tr>\n",
       "      <th>457</th>\n",
       "      <td>fraudster_event</td>\n",
       "      <td></td>\n",
       "    </tr>\n",
       "    <tr>\n",
       "      <th>487</th>\n",
       "      <td>fraudster_event</td>\n",
       "      <td></td>\n",
       "    </tr>\n",
       "    <tr>\n",
       "      <th>500</th>\n",
       "      <td>fraudster</td>\n",
       "      <td></td>\n",
       "    </tr>\n",
       "    <tr>\n",
       "      <th>501</th>\n",
       "      <td>fraudster</td>\n",
       "      <td></td>\n",
       "    </tr>\n",
       "    <tr>\n",
       "      <th>627</th>\n",
       "      <td>fraudster</td>\n",
       "      <td></td>\n",
       "    </tr>\n",
       "    <tr>\n",
       "      <th>749</th>\n",
       "      <td>fraudster_event</td>\n",
       "      <td></td>\n",
       "    </tr>\n",
       "    <tr>\n",
       "      <th>770</th>\n",
       "      <td>fraudster_event</td>\n",
       "      <td></td>\n",
       "    </tr>\n",
       "    <tr>\n",
       "      <th>772</th>\n",
       "      <td>fraudster_event</td>\n",
       "      <td></td>\n",
       "    </tr>\n",
       "    <tr>\n",
       "      <th>801</th>\n",
       "      <td>fraudster_event</td>\n",
       "      <td></td>\n",
       "    </tr>\n",
       "    <tr>\n",
       "      <th>807</th>\n",
       "      <td>fraudster_event</td>\n",
       "      <td></td>\n",
       "    </tr>\n",
       "    <tr>\n",
       "      <th>852</th>\n",
       "      <td>fraudster_event</td>\n",
       "      <td></td>\n",
       "    </tr>\n",
       "    <tr>\n",
       "      <th>877</th>\n",
       "      <td>fraudster_event</td>\n",
       "      <td></td>\n",
       "    </tr>\n",
       "    <tr>\n",
       "      <th>930</th>\n",
       "      <td>fraudster_event</td>\n",
       "      <td></td>\n",
       "    </tr>\n",
       "    <tr>\n",
       "      <th>958</th>\n",
       "      <td>fraudster_event</td>\n",
       "      <td></td>\n",
       "    </tr>\n",
       "    <tr>\n",
       "      <th>971</th>\n",
       "      <td>fraudster_event</td>\n",
       "      <td></td>\n",
       "    </tr>\n",
       "    <tr>\n",
       "      <th>990</th>\n",
       "      <td>fraudster_event</td>\n",
       "      <td></td>\n",
       "    </tr>\n",
       "    <tr>\n",
       "      <th>999</th>\n",
       "      <td>fraudster_event</td>\n",
       "      <td></td>\n",
       "    </tr>\n",
       "    <tr>\n",
       "      <th>1026</th>\n",
       "      <td>fraudster</td>\n",
       "      <td></td>\n",
       "    </tr>\n",
       "    <tr>\n",
       "      <th>1082</th>\n",
       "      <td>fraudster_event</td>\n",
       "      <td></td>\n",
       "    </tr>\n",
       "    <tr>\n",
       "      <th>...</th>\n",
       "      <td>...</td>\n",
       "      <td>...</td>\n",
       "    </tr>\n",
       "    <tr>\n",
       "      <th>13260</th>\n",
       "      <td>fraudster_event</td>\n",
       "      <td></td>\n",
       "    </tr>\n",
       "    <tr>\n",
       "      <th>13423</th>\n",
       "      <td>fraudster_event</td>\n",
       "      <td></td>\n",
       "    </tr>\n",
       "    <tr>\n",
       "      <th>13461</th>\n",
       "      <td>fraudster_event</td>\n",
       "      <td></td>\n",
       "    </tr>\n",
       "    <tr>\n",
       "      <th>13472</th>\n",
       "      <td>fraudster_event</td>\n",
       "      <td></td>\n",
       "    </tr>\n",
       "    <tr>\n",
       "      <th>13479</th>\n",
       "      <td>fraudster_event</td>\n",
       "      <td></td>\n",
       "    </tr>\n",
       "    <tr>\n",
       "      <th>13488</th>\n",
       "      <td>fraudster_event</td>\n",
       "      <td></td>\n",
       "    </tr>\n",
       "    <tr>\n",
       "      <th>13489</th>\n",
       "      <td>fraudster_event</td>\n",
       "      <td></td>\n",
       "    </tr>\n",
       "    <tr>\n",
       "      <th>13490</th>\n",
       "      <td>fraudster_event</td>\n",
       "      <td></td>\n",
       "    </tr>\n",
       "    <tr>\n",
       "      <th>13499</th>\n",
       "      <td>fraudster_event</td>\n",
       "      <td></td>\n",
       "    </tr>\n",
       "    <tr>\n",
       "      <th>13626</th>\n",
       "      <td>fraudster</td>\n",
       "      <td></td>\n",
       "    </tr>\n",
       "    <tr>\n",
       "      <th>13682</th>\n",
       "      <td>fraudster_event</td>\n",
       "      <td></td>\n",
       "    </tr>\n",
       "    <tr>\n",
       "      <th>13749</th>\n",
       "      <td>fraudster_event</td>\n",
       "      <td></td>\n",
       "    </tr>\n",
       "    <tr>\n",
       "      <th>13767</th>\n",
       "      <td>fraudster_event</td>\n",
       "      <td></td>\n",
       "    </tr>\n",
       "    <tr>\n",
       "      <th>13784</th>\n",
       "      <td>fraudster_event</td>\n",
       "      <td></td>\n",
       "    </tr>\n",
       "    <tr>\n",
       "      <th>13810</th>\n",
       "      <td>fraudster_event</td>\n",
       "      <td></td>\n",
       "    </tr>\n",
       "    <tr>\n",
       "      <th>13813</th>\n",
       "      <td>fraudster_event</td>\n",
       "      <td></td>\n",
       "    </tr>\n",
       "    <tr>\n",
       "      <th>13871</th>\n",
       "      <td>fraudster_event</td>\n",
       "      <td></td>\n",
       "    </tr>\n",
       "    <tr>\n",
       "      <th>13944</th>\n",
       "      <td>fraudster_event</td>\n",
       "      <td></td>\n",
       "    </tr>\n",
       "    <tr>\n",
       "      <th>13982</th>\n",
       "      <td>fraudster_event</td>\n",
       "      <td></td>\n",
       "    </tr>\n",
       "    <tr>\n",
       "      <th>13992</th>\n",
       "      <td>fraudster_event</td>\n",
       "      <td></td>\n",
       "    </tr>\n",
       "    <tr>\n",
       "      <th>13999</th>\n",
       "      <td>fraudster_event</td>\n",
       "      <td></td>\n",
       "    </tr>\n",
       "    <tr>\n",
       "      <th>14000</th>\n",
       "      <td>fraudster_event</td>\n",
       "      <td></td>\n",
       "    </tr>\n",
       "    <tr>\n",
       "      <th>14149</th>\n",
       "      <td>fraudster_event</td>\n",
       "      <td></td>\n",
       "    </tr>\n",
       "    <tr>\n",
       "      <th>14203</th>\n",
       "      <td>fraudster_event</td>\n",
       "      <td></td>\n",
       "    </tr>\n",
       "    <tr>\n",
       "      <th>14235</th>\n",
       "      <td>fraudster_event</td>\n",
       "      <td></td>\n",
       "    </tr>\n",
       "    <tr>\n",
       "      <th>14297</th>\n",
       "      <td>fraudster_event</td>\n",
       "      <td></td>\n",
       "    </tr>\n",
       "    <tr>\n",
       "      <th>14304</th>\n",
       "      <td>fraudster_event</td>\n",
       "      <td></td>\n",
       "    </tr>\n",
       "    <tr>\n",
       "      <th>14318</th>\n",
       "      <td>fraudster_event</td>\n",
       "      <td></td>\n",
       "    </tr>\n",
       "    <tr>\n",
       "      <th>14325</th>\n",
       "      <td>fraudster_event</td>\n",
       "      <td></td>\n",
       "    </tr>\n",
       "    <tr>\n",
       "      <th>14332</th>\n",
       "      <td>fraudster_event</td>\n",
       "      <td></td>\n",
       "    </tr>\n",
       "  </tbody>\n",
       "</table>\n",
       "<p>451 rows × 2 columns</p>\n",
       "</div>"
      ],
      "text/plain": [
       "             acct_type payout_type\n",
       "0      fraudster_event            \n",
       "183          fraudster            \n",
       "187    fraudster_event            \n",
       "212    fraudster_event            \n",
       "219    fraudster_event            \n",
       "289    fraudster_event            \n",
       "296    fraudster_event            \n",
       "307    fraudster_event            \n",
       "330    fraudster_event            \n",
       "440    fraudster_event            \n",
       "451    fraudster_event            \n",
       "457    fraudster_event            \n",
       "487    fraudster_event            \n",
       "500          fraudster            \n",
       "501          fraudster            \n",
       "627          fraudster            \n",
       "749    fraudster_event            \n",
       "770    fraudster_event            \n",
       "772    fraudster_event            \n",
       "801    fraudster_event            \n",
       "807    fraudster_event            \n",
       "852    fraudster_event            \n",
       "877    fraudster_event            \n",
       "930    fraudster_event            \n",
       "958    fraudster_event            \n",
       "971    fraudster_event            \n",
       "990    fraudster_event            \n",
       "999    fraudster_event            \n",
       "1026         fraudster            \n",
       "1082   fraudster_event            \n",
       "...                ...         ...\n",
       "13260  fraudster_event            \n",
       "13423  fraudster_event            \n",
       "13461  fraudster_event            \n",
       "13472  fraudster_event            \n",
       "13479  fraudster_event            \n",
       "13488  fraudster_event            \n",
       "13489  fraudster_event            \n",
       "13490  fraudster_event            \n",
       "13499  fraudster_event            \n",
       "13626        fraudster            \n",
       "13682  fraudster_event            \n",
       "13749  fraudster_event            \n",
       "13767  fraudster_event            \n",
       "13784  fraudster_event            \n",
       "13810  fraudster_event            \n",
       "13813  fraudster_event            \n",
       "13871  fraudster_event            \n",
       "13944  fraudster_event            \n",
       "13982  fraudster_event            \n",
       "13992  fraudster_event            \n",
       "13999  fraudster_event            \n",
       "14000  fraudster_event            \n",
       "14149  fraudster_event            \n",
       "14203  fraudster_event            \n",
       "14235  fraudster_event            \n",
       "14297  fraudster_event            \n",
       "14304  fraudster_event            \n",
       "14318  fraudster_event            \n",
       "14325  fraudster_event            \n",
       "14332  fraudster_event            \n",
       "\n",
       "[451 rows x 2 columns]"
      ]
     },
     "execution_count": 31,
     "metadata": {},
     "output_type": "execute_result"
    }
   ],
   "source": [
    "df_first[(df_first['acct_type'].str.contains('fraud')) & (df_first[col] != 'CHECK') & (df_first[col] != 'ACH')][['acct_type', col]]"
   ]
  },
  {
   "cell_type": "code",
   "execution_count": 32,
   "metadata": {
    "collapsed": false
   },
   "outputs": [
    {
     "name": "stdout",
     "output_type": "stream",
     "text": [
      "0.582366589327"
     ]
    },
    {
     "data": {
      "text/plain": [
       "37.432635577467067"
      ]
     },
     "execution_count": 32,
     "metadata": {},
     "output_type": "execute_result"
    },
    {
     "name": "stdout",
     "output_type": "stream",
     "text": [
      "\n"
     ]
    }
   ],
   "source": [
    "col = 'num_payouts'\n",
    "# df_first[col]\n",
    "print df_first[df_first['acct_type'].str.contains('fraud')][col].mean(), \n",
    "df_first[df_first['acct_type'].str.contains('premium')][col].mean()"
   ]
  },
  {
   "cell_type": "code",
   "execution_count": 33,
   "metadata": {
    "collapsed": false
   },
   "outputs": [
    {
     "name": "stdout",
     "output_type": "stream",
     "text": [
      "29.9752513534"
     ]
    },
    {
     "data": {
      "text/plain": [
       "42.479915946011474"
      ]
     },
     "execution_count": 33,
     "metadata": {},
     "output_type": "execute_result"
    },
    {
     "name": "stdout",
     "output_type": "stream",
     "text": [
      "\n"
     ]
    }
   ],
   "source": [
    "col = 'name_length'\n",
    "print df_first[df_first['acct_type'].str.contains('fraud')][col].mean(), \n",
    "df_first[df_first['acct_type'].str.contains('premium')][col].mean()"
   ]
  },
  {
   "cell_type": "code",
   "execution_count": 34,
   "metadata": {
    "collapsed": false
   },
   "outputs": [],
   "source": [
    "col = 'previous_payouts'\n",
    "\n",
    "df_first[df_first['acct_type'].str.contains('premium')][col]\n",
    "\n",
    "\n",
    "for i in xrange(len(df_first)):\n",
    "    \n",
    "    len(df_first[col][0])"
   ]
  },
  {
   "cell_type": "code",
   "execution_count": 35,
   "metadata": {
    "collapsed": false
   },
   "outputs": [
    {
     "data": {
      "text/plain": [
       "(2048, 12138)"
      ]
     },
     "execution_count": 35,
     "metadata": {},
     "output_type": "execute_result"
    }
   ],
   "source": [
    "col = 'previous_payouts'\n",
    "length_list = []\n",
    "\n",
    "for i in xrange(len(df_first)):\n",
    "#     length_list.append(len(df_first[col][i]))\n",
    "    length_list.append(((len(df_first.iloc[i][col]), i)))\n",
    "    \n",
    "max(length_list)"
   ]
  },
  {
   "cell_type": "code",
   "execution_count": 36,
   "metadata": {
    "collapsed": false
   },
   "outputs": [
    {
     "name": "stdout",
     "output_type": "stream",
     "text": [
      "False\n",
      "True\n",
      "True\n",
      "True\n",
      "True\n",
      "True\n",
      "True\n",
      "True\n",
      "True\n",
      "True\n"
     ]
    }
   ],
   "source": [
    "for i in xrange(10):\n",
    "    if 'premium' in str(df_first['acct_type'][i]):\n",
    "        print True\n",
    "    elif 'fraud' in str(df_first['acct_type'][i]):\n",
    "        print False\n",
    "    else:\n",
    "        print 'Bummer'"
   ]
  },
  {
   "cell_type": "code",
   "execution_count": 37,
   "metadata": {
    "collapsed": false
   },
   "outputs": [
    {
     "ename": "KeyError",
     "evalue": "13",
     "output_type": "error",
     "traceback": [
      "\u001b[0;31m---------------------------------------------------------------------------\u001b[0m",
      "\u001b[0;31mKeyError\u001b[0m                                  Traceback (most recent call last)",
      "\u001b[0;32m<ipython-input-37-1f3e700803cb>\u001b[0m in \u001b[0;36m<module>\u001b[0;34m()\u001b[0m\n\u001b[1;32m      4\u001b[0m \u001b[0;34m\u001b[0m\u001b[0m\n\u001b[1;32m      5\u001b[0m \u001b[0;32mfor\u001b[0m \u001b[0mi\u001b[0m \u001b[0;32min\u001b[0m \u001b[0mxrange\u001b[0m\u001b[0;34m(\u001b[0m\u001b[0mlen\u001b[0m\u001b[0;34m(\u001b[0m\u001b[0mdf_first\u001b[0m\u001b[0;34m)\u001b[0m\u001b[0;34m)\u001b[0m\u001b[0;34m:\u001b[0m\u001b[0;34m\u001b[0m\u001b[0m\n\u001b[0;32m----> 6\u001b[0;31m     \u001b[0;32mif\u001b[0m \u001b[0;34m'premium'\u001b[0m \u001b[0;32min\u001b[0m \u001b[0mstr\u001b[0m\u001b[0;34m(\u001b[0m\u001b[0mdf_first\u001b[0m\u001b[0;34m[\u001b[0m\u001b[0;34m'acct_type'\u001b[0m\u001b[0;34m]\u001b[0m\u001b[0;34m[\u001b[0m\u001b[0mi\u001b[0m\u001b[0;34m]\u001b[0m\u001b[0;34m)\u001b[0m\u001b[0;34m:\u001b[0m\u001b[0;34m\u001b[0m\u001b[0m\n\u001b[0m\u001b[1;32m      7\u001b[0m         \u001b[0mlength_list_gen\u001b[0m\u001b[0;34m.\u001b[0m\u001b[0mappend\u001b[0m\u001b[0;34m(\u001b[0m\u001b[0;34m(\u001b[0m\u001b[0;34m(\u001b[0m\u001b[0mlen\u001b[0m\u001b[0;34m(\u001b[0m\u001b[0mdf_first\u001b[0m\u001b[0;34m.\u001b[0m\u001b[0miloc\u001b[0m\u001b[0;34m[\u001b[0m\u001b[0mi\u001b[0m\u001b[0;34m]\u001b[0m\u001b[0;34m[\u001b[0m\u001b[0mcol\u001b[0m\u001b[0;34m]\u001b[0m\u001b[0;34m)\u001b[0m\u001b[0;34m,\u001b[0m \u001b[0mi\u001b[0m\u001b[0;34m)\u001b[0m\u001b[0;34m)\u001b[0m\u001b[0;34m)\u001b[0m\u001b[0;34m\u001b[0m\u001b[0m\n\u001b[1;32m      8\u001b[0m     \u001b[0;32melif\u001b[0m \u001b[0;34m'fraud'\u001b[0m \u001b[0;32min\u001b[0m \u001b[0mstr\u001b[0m\u001b[0;34m(\u001b[0m\u001b[0mdf_first\u001b[0m\u001b[0;34m[\u001b[0m\u001b[0;34m'acct_type'\u001b[0m\u001b[0;34m]\u001b[0m\u001b[0;34m[\u001b[0m\u001b[0mi\u001b[0m\u001b[0;34m]\u001b[0m\u001b[0;34m)\u001b[0m\u001b[0;34m:\u001b[0m\u001b[0;34m\u001b[0m\u001b[0m\n",
      "\u001b[0;32m/home/sanhita/anaconda2/lib/python2.7/site-packages/pandas/core/series.pyc\u001b[0m in \u001b[0;36m__getitem__\u001b[0;34m(self, key)\u001b[0m\n\u001b[1;32m    601\u001b[0m         \u001b[0mkey\u001b[0m \u001b[0;34m=\u001b[0m \u001b[0mcom\u001b[0m\u001b[0;34m.\u001b[0m\u001b[0m_apply_if_callable\u001b[0m\u001b[0;34m(\u001b[0m\u001b[0mkey\u001b[0m\u001b[0;34m,\u001b[0m \u001b[0mself\u001b[0m\u001b[0;34m)\u001b[0m\u001b[0;34m\u001b[0m\u001b[0m\n\u001b[1;32m    602\u001b[0m         \u001b[0;32mtry\u001b[0m\u001b[0;34m:\u001b[0m\u001b[0;34m\u001b[0m\u001b[0m\n\u001b[0;32m--> 603\u001b[0;31m             \u001b[0mresult\u001b[0m \u001b[0;34m=\u001b[0m \u001b[0mself\u001b[0m\u001b[0;34m.\u001b[0m\u001b[0mindex\u001b[0m\u001b[0;34m.\u001b[0m\u001b[0mget_value\u001b[0m\u001b[0;34m(\u001b[0m\u001b[0mself\u001b[0m\u001b[0;34m,\u001b[0m \u001b[0mkey\u001b[0m\u001b[0;34m)\u001b[0m\u001b[0;34m\u001b[0m\u001b[0m\n\u001b[0m\u001b[1;32m    604\u001b[0m \u001b[0;34m\u001b[0m\u001b[0m\n\u001b[1;32m    605\u001b[0m             \u001b[0;32mif\u001b[0m \u001b[0;32mnot\u001b[0m \u001b[0mis_scalar\u001b[0m\u001b[0;34m(\u001b[0m\u001b[0mresult\u001b[0m\u001b[0;34m)\u001b[0m\u001b[0;34m:\u001b[0m\u001b[0;34m\u001b[0m\u001b[0m\n",
      "\u001b[0;32m/home/sanhita/anaconda2/lib/python2.7/site-packages/pandas/indexes/base.pyc\u001b[0m in \u001b[0;36mget_value\u001b[0;34m(self, series, key)\u001b[0m\n\u001b[1;32m   2167\u001b[0m         \u001b[0;32mtry\u001b[0m\u001b[0;34m:\u001b[0m\u001b[0;34m\u001b[0m\u001b[0m\n\u001b[1;32m   2168\u001b[0m             return self._engine.get_value(s, k,\n\u001b[0;32m-> 2169\u001b[0;31m                                           tz=getattr(series.dtype, 'tz', None))\n\u001b[0m\u001b[1;32m   2170\u001b[0m         \u001b[0;32mexcept\u001b[0m \u001b[0mKeyError\u001b[0m \u001b[0;32mas\u001b[0m \u001b[0me1\u001b[0m\u001b[0;34m:\u001b[0m\u001b[0;34m\u001b[0m\u001b[0m\n\u001b[1;32m   2171\u001b[0m             \u001b[0;32mif\u001b[0m \u001b[0mlen\u001b[0m\u001b[0;34m(\u001b[0m\u001b[0mself\u001b[0m\u001b[0;34m)\u001b[0m \u001b[0;34m>\u001b[0m \u001b[0;36m0\u001b[0m \u001b[0;32mand\u001b[0m \u001b[0mself\u001b[0m\u001b[0;34m.\u001b[0m\u001b[0minferred_type\u001b[0m \u001b[0;32min\u001b[0m \u001b[0;34m[\u001b[0m\u001b[0;34m'integer'\u001b[0m\u001b[0;34m,\u001b[0m \u001b[0;34m'boolean'\u001b[0m\u001b[0;34m]\u001b[0m\u001b[0;34m:\u001b[0m\u001b[0;34m\u001b[0m\u001b[0m\n",
      "\u001b[0;32mpandas/index.pyx\u001b[0m in \u001b[0;36mpandas.index.IndexEngine.get_value (pandas/index.c:3557)\u001b[0;34m()\u001b[0m\n",
      "\u001b[0;32mpandas/index.pyx\u001b[0m in \u001b[0;36mpandas.index.IndexEngine.get_value (pandas/index.c:3240)\u001b[0;34m()\u001b[0m\n",
      "\u001b[0;32mpandas/index.pyx\u001b[0m in \u001b[0;36mpandas.index.IndexEngine.get_loc (pandas/index.c:4279)\u001b[0;34m()\u001b[0m\n",
      "\u001b[0;32mpandas/src/hashtable_class_helper.pxi\u001b[0m in \u001b[0;36mpandas.hashtable.Int64HashTable.get_item (pandas/hashtable.c:8564)\u001b[0;34m()\u001b[0m\n",
      "\u001b[0;32mpandas/src/hashtable_class_helper.pxi\u001b[0m in \u001b[0;36mpandas.hashtable.Int64HashTable.get_item (pandas/hashtable.c:8508)\u001b[0;34m()\u001b[0m\n",
      "\u001b[0;31mKeyError\u001b[0m: 13"
     ]
    }
   ],
   "source": [
    "col = 'previous_payouts'\n",
    "length_list_fraud = []\n",
    "length_list_gen = []\n",
    "\n",
    "for i in xrange(len(df_first)):\n",
    "    if 'premium' in str(df_first['acct_type'][i]):\n",
    "        length_list_gen.append(((len(df_first.iloc[i][col]), i)))\n",
    "    elif 'fraud' in str(df_first['acct_type'][i]):\n",
    "        length_list_fraud.append(((len(df_first.iloc[i][col]), i)))\n",
    "    else : \n",
    "        continue\n",
    "\n",
    "print max(length_list_gen), min(length_list_gen), np.mean(length_list_gen)"
   ]
  },
  {
   "cell_type": "code",
   "execution_count": 189,
   "metadata": {
    "collapsed": false
   },
   "outputs": [
    {
     "data": {
      "text/plain": [
       "acct_type                                                     premium\n",
       "previous_payouts    [{u'name': u'Seneca Lake Winery Association', ...\n",
       "Name: 12732, dtype: object"
      ]
     },
     "execution_count": 189,
     "metadata": {},
     "output_type": "execute_result"
    }
   ],
   "source": [
    "df_first.iloc[12138][['acct_type', col]]"
   ]
  },
  {
   "cell_type": "code",
   "execution_count": 91,
   "metadata": {
    "collapsed": false
   },
   "outputs": [
    {
     "data": {
      "text/plain": [
       "dict"
      ]
     },
     "execution_count": 91,
     "metadata": {},
     "output_type": "execute_result"
    }
   ],
   "source": [
    "col = 'ticket_types'\n",
    "type(df_first[col][0][0])"
   ]
  },
  {
   "cell_type": "code",
   "execution_count": 184,
   "metadata": {
    "collapsed": false
   },
   "outputs": [
    {
     "data": {
      "text/plain": [
       "(116, 9258)"
      ]
     },
     "execution_count": 184,
     "metadata": {},
     "output_type": "execute_result"
    }
   ],
   "source": [
    "col = 'ticket_types'\n",
    "length_list = []\n",
    "\n",
    "for i in xrange(len(df_first)):\n",
    "#     length_list.append(len(df_first[col][i]))\n",
    "    length_list.append(((len(df_first.iloc[i][col]), i)))\n",
    "    \n",
    "max(length_list)"
   ]
  },
  {
   "cell_type": "code",
   "execution_count": 186,
   "metadata": {
    "collapsed": false
   },
   "outputs": [
    {
     "data": {
      "text/plain": [
       "[{u'availability': 1,\n",
       "  u'cost': 100.0,\n",
       "  u'event_id': 3814948,\n",
       "  u'quantity_sold': 8,\n",
       "  u'quantity_total': 1},\n",
       " {u'availability': 1,\n",
       "  u'cost': 75.0,\n",
       "  u'event_id': 3814948,\n",
       "  u'quantity_sold': 4,\n",
       "  u'quantity_total': 1},\n",
       " {u'availability': 1,\n",
       "  u'cost': 75.0,\n",
       "  u'event_id': 3814948,\n",
       "  u'quantity_sold': 4,\n",
       "  u'quantity_total': 1},\n",
       " {u'availability': 1,\n",
       "  u'cost': 50.0,\n",
       "  u'event_id': 3814948,\n",
       "  u'quantity_sold': 2,\n",
       "  u'quantity_total': 1},\n",
       " {u'availability': 1,\n",
       "  u'cost': 50.0,\n",
       "  u'event_id': 3814948,\n",
       "  u'quantity_sold': 6,\n",
       "  u'quantity_total': 1},\n",
       " {u'availability': 1,\n",
       "  u'cost': 50.0,\n",
       "  u'event_id': 3814948,\n",
       "  u'quantity_sold': 8,\n",
       "  u'quantity_total': 1},\n",
       " {u'availability': 1,\n",
       "  u'cost': 50.0,\n",
       "  u'event_id': 3814948,\n",
       "  u'quantity_sold': 4,\n",
       "  u'quantity_total': 1},\n",
       " {u'availability': 1,\n",
       "  u'cost': 50.0,\n",
       "  u'event_id': 3814948,\n",
       "  u'quantity_sold': 3,\n",
       "  u'quantity_total': 1},\n",
       " {u'availability': 1,\n",
       "  u'cost': 50.0,\n",
       "  u'event_id': 3814948,\n",
       "  u'quantity_sold': 2,\n",
       "  u'quantity_total': 1},\n",
       " {u'availability': 1,\n",
       "  u'cost': 50.0,\n",
       "  u'event_id': 3814948,\n",
       "  u'quantity_sold': 9,\n",
       "  u'quantity_total': 1},\n",
       " {u'availability': 1,\n",
       "  u'cost': 50.0,\n",
       "  u'event_id': 3814948,\n",
       "  u'quantity_sold': 8,\n",
       "  u'quantity_total': 1},\n",
       " {u'availability': 1,\n",
       "  u'cost': 50.0,\n",
       "  u'event_id': 3814948,\n",
       "  u'quantity_sold': 4,\n",
       "  u'quantity_total': 1},\n",
       " {u'availability': 1,\n",
       "  u'cost': 50.0,\n",
       "  u'event_id': 3814948,\n",
       "  u'quantity_sold': 5,\n",
       "  u'quantity_total': 1},\n",
       " {u'availability': 1,\n",
       "  u'cost': 50.0,\n",
       "  u'event_id': 3814948,\n",
       "  u'quantity_sold': 5,\n",
       "  u'quantity_total': 1},\n",
       " {u'availability': 1,\n",
       "  u'cost': 50.0,\n",
       "  u'event_id': 3814948,\n",
       "  u'quantity_sold': 5,\n",
       "  u'quantity_total': 1},\n",
       " {u'availability': 1,\n",
       "  u'cost': 50.0,\n",
       "  u'event_id': 3814948,\n",
       "  u'quantity_sold': 5,\n",
       "  u'quantity_total': 1},\n",
       " {u'availability': 1,\n",
       "  u'cost': 50.0,\n",
       "  u'event_id': 3814948,\n",
       "  u'quantity_sold': 2,\n",
       "  u'quantity_total': 1},\n",
       " {u'availability': 1,\n",
       "  u'cost': 50.0,\n",
       "  u'event_id': 3814948,\n",
       "  u'quantity_sold': 4,\n",
       "  u'quantity_total': 1},\n",
       " {u'availability': 1,\n",
       "  u'cost': 50.0,\n",
       "  u'event_id': 3814948,\n",
       "  u'quantity_sold': 3,\n",
       "  u'quantity_total': 1},\n",
       " {u'availability': 1,\n",
       "  u'cost': 50.0,\n",
       "  u'event_id': 3814948,\n",
       "  u'quantity_sold': 2,\n",
       "  u'quantity_total': 1},\n",
       " {u'availability': 1,\n",
       "  u'cost': 50.0,\n",
       "  u'event_id': 3814948,\n",
       "  u'quantity_sold': 2,\n",
       "  u'quantity_total': 1},\n",
       " {u'availability': 1,\n",
       "  u'cost': 50.0,\n",
       "  u'event_id': 3814948,\n",
       "  u'quantity_sold': 4,\n",
       "  u'quantity_total': 1},\n",
       " {u'availability': 1,\n",
       "  u'cost': 50.0,\n",
       "  u'event_id': 3814948,\n",
       "  u'quantity_sold': 3,\n",
       "  u'quantity_total': 1},\n",
       " {u'availability': 1,\n",
       "  u'cost': 50.0,\n",
       "  u'event_id': 3814948,\n",
       "  u'quantity_sold': 4,\n",
       "  u'quantity_total': 1},\n",
       " {u'availability': 1,\n",
       "  u'cost': 50.0,\n",
       "  u'event_id': 3814948,\n",
       "  u'quantity_sold': 6,\n",
       "  u'quantity_total': 1},\n",
       " {u'availability': 1,\n",
       "  u'cost': 50.0,\n",
       "  u'event_id': 3814948,\n",
       "  u'quantity_sold': 3,\n",
       "  u'quantity_total': 1},\n",
       " {u'availability': 1,\n",
       "  u'cost': 50.0,\n",
       "  u'event_id': 3814948,\n",
       "  u'quantity_sold': 6,\n",
       "  u'quantity_total': 1},\n",
       " {u'availability': 1,\n",
       "  u'cost': 50.0,\n",
       "  u'event_id': 3814948,\n",
       "  u'quantity_sold': 4,\n",
       "  u'quantity_total': 1},\n",
       " {u'availability': 1,\n",
       "  u'cost': 50.0,\n",
       "  u'event_id': 3814948,\n",
       "  u'quantity_sold': 5,\n",
       "  u'quantity_total': 1},\n",
       " {u'availability': 1,\n",
       "  u'cost': 50.0,\n",
       "  u'event_id': 3814948,\n",
       "  u'quantity_sold': 3,\n",
       "  u'quantity_total': 1},\n",
       " {u'availability': 1,\n",
       "  u'cost': 50.0,\n",
       "  u'event_id': 3814948,\n",
       "  u'quantity_sold': 4,\n",
       "  u'quantity_total': 1},\n",
       " {u'availability': 1,\n",
       "  u'cost': 50.0,\n",
       "  u'event_id': 3814948,\n",
       "  u'quantity_sold': 5,\n",
       "  u'quantity_total': 1},\n",
       " {u'availability': 1,\n",
       "  u'cost': 50.0,\n",
       "  u'event_id': 3814948,\n",
       "  u'quantity_sold': 7,\n",
       "  u'quantity_total': 1},\n",
       " {u'availability': 1,\n",
       "  u'cost': 50.0,\n",
       "  u'event_id': 3814948,\n",
       "  u'quantity_sold': 10,\n",
       "  u'quantity_total': 1},\n",
       " {u'availability': 1,\n",
       "  u'cost': 50.0,\n",
       "  u'event_id': 3814948,\n",
       "  u'quantity_sold': 6,\n",
       "  u'quantity_total': 1},\n",
       " {u'availability': 1,\n",
       "  u'cost': 50.0,\n",
       "  u'event_id': 3814948,\n",
       "  u'quantity_sold': 8,\n",
       "  u'quantity_total': 1},\n",
       " {u'availability': 1,\n",
       "  u'cost': 50.0,\n",
       "  u'event_id': 3814948,\n",
       "  u'quantity_sold': 5,\n",
       "  u'quantity_total': 1},\n",
       " {u'availability': 1,\n",
       "  u'cost': 50.0,\n",
       "  u'event_id': 3814948,\n",
       "  u'quantity_sold': 6,\n",
       "  u'quantity_total': 1},\n",
       " {u'availability': 1,\n",
       "  u'cost': 50.0,\n",
       "  u'event_id': 3814948,\n",
       "  u'quantity_sold': 4,\n",
       "  u'quantity_total': 1},\n",
       " {u'availability': 1,\n",
       "  u'cost': 100.0,\n",
       "  u'event_id': 3814948,\n",
       "  u'quantity_sold': 9,\n",
       "  u'quantity_total': 1},\n",
       " {u'availability': 1,\n",
       "  u'cost': 20.0,\n",
       "  u'event_id': 3814948,\n",
       "  u'quantity_sold': 5,\n",
       "  u'quantity_total': 1},\n",
       " {u'availability': 1,\n",
       "  u'cost': 75.0,\n",
       "  u'event_id': 3814948,\n",
       "  u'quantity_sold': 2,\n",
       "  u'quantity_total': 1},\n",
       " {u'availability': 1,\n",
       "  u'cost': 60.0,\n",
       "  u'event_id': 3814948,\n",
       "  u'quantity_sold': 4,\n",
       "  u'quantity_total': 1},\n",
       " {u'availability': 1,\n",
       "  u'cost': 50.0,\n",
       "  u'event_id': 3814948,\n",
       "  u'quantity_sold': 0,\n",
       "  u'quantity_total': 1},\n",
       " {u'availability': 1,\n",
       "  u'cost': 50.0,\n",
       "  u'event_id': 3814948,\n",
       "  u'quantity_sold': 0,\n",
       "  u'quantity_total': 1},\n",
       " {u'availability': 1,\n",
       "  u'cost': 50.0,\n",
       "  u'event_id': 3814948,\n",
       "  u'quantity_sold': 0,\n",
       "  u'quantity_total': 1},\n",
       " {u'availability': 1,\n",
       "  u'cost': 50.0,\n",
       "  u'event_id': 3814948,\n",
       "  u'quantity_sold': 1,\n",
       "  u'quantity_total': 1},\n",
       " {u'availability': 1,\n",
       "  u'cost': 50.0,\n",
       "  u'event_id': 3814948,\n",
       "  u'quantity_sold': 0,\n",
       "  u'quantity_total': 1},\n",
       " {u'availability': 1,\n",
       "  u'cost': 50.0,\n",
       "  u'event_id': 3814948,\n",
       "  u'quantity_sold': 3,\n",
       "  u'quantity_total': 1},\n",
       " {u'availability': 1,\n",
       "  u'cost': 50.0,\n",
       "  u'event_id': 3814948,\n",
       "  u'quantity_sold': 2,\n",
       "  u'quantity_total': 1},\n",
       " {u'availability': 1,\n",
       "  u'cost': 50.0,\n",
       "  u'event_id': 3814948,\n",
       "  u'quantity_sold': 4,\n",
       "  u'quantity_total': 1},\n",
       " {u'availability': 1,\n",
       "  u'cost': 50.0,\n",
       "  u'event_id': 3814948,\n",
       "  u'quantity_sold': 2,\n",
       "  u'quantity_total': 1},\n",
       " {u'availability': 1,\n",
       "  u'cost': 50.0,\n",
       "  u'event_id': 3814948,\n",
       "  u'quantity_sold': 23,\n",
       "  u'quantity_total': 1},\n",
       " {u'availability': 1,\n",
       "  u'cost': 50.0,\n",
       "  u'event_id': 3814948,\n",
       "  u'quantity_sold': 22,\n",
       "  u'quantity_total': 1},\n",
       " {u'availability': 1,\n",
       "  u'cost': 50.0,\n",
       "  u'event_id': 3814948,\n",
       "  u'quantity_sold': 4,\n",
       "  u'quantity_total': 1},\n",
       " {u'availability': 1,\n",
       "  u'cost': 50.0,\n",
       "  u'event_id': 3814948,\n",
       "  u'quantity_sold': 4,\n",
       "  u'quantity_total': 1},\n",
       " {u'availability': 1,\n",
       "  u'cost': 50.0,\n",
       "  u'event_id': 3814948,\n",
       "  u'quantity_sold': 22,\n",
       "  u'quantity_total': 1},\n",
       " {u'availability': 1,\n",
       "  u'cost': 50.0,\n",
       "  u'event_id': 3814948,\n",
       "  u'quantity_sold': 24,\n",
       "  u'quantity_total': 1},\n",
       " {u'availability': 1,\n",
       "  u'cost': 50.0,\n",
       "  u'event_id': 3814948,\n",
       "  u'quantity_sold': 2,\n",
       "  u'quantity_total': 1},\n",
       " {u'availability': 1,\n",
       "  u'cost': 50.0,\n",
       "  u'event_id': 3814948,\n",
       "  u'quantity_sold': 2,\n",
       "  u'quantity_total': 1},\n",
       " {u'availability': 1,\n",
       "  u'cost': 50.0,\n",
       "  u'event_id': 3814948,\n",
       "  u'quantity_sold': 1,\n",
       "  u'quantity_total': 1},\n",
       " {u'availability': 1,\n",
       "  u'cost': 50.0,\n",
       "  u'event_id': 3814948,\n",
       "  u'quantity_sold': 2,\n",
       "  u'quantity_total': 1},\n",
       " {u'availability': 1,\n",
       "  u'cost': 50.0,\n",
       "  u'event_id': 3814948,\n",
       "  u'quantity_sold': 1,\n",
       "  u'quantity_total': 1},\n",
       " {u'availability': 1,\n",
       "  u'cost': 50.0,\n",
       "  u'event_id': 3814948,\n",
       "  u'quantity_sold': 2,\n",
       "  u'quantity_total': 1},\n",
       " {u'availability': 1,\n",
       "  u'cost': 50.0,\n",
       "  u'event_id': 3814948,\n",
       "  u'quantity_sold': 1,\n",
       "  u'quantity_total': 1},\n",
       " {u'availability': 1,\n",
       "  u'cost': 50.0,\n",
       "  u'event_id': 3814948,\n",
       "  u'quantity_sold': 2,\n",
       "  u'quantity_total': 1},\n",
       " {u'availability': 1,\n",
       "  u'cost': 50.0,\n",
       "  u'event_id': 3814948,\n",
       "  u'quantity_sold': 1,\n",
       "  u'quantity_total': 1},\n",
       " {u'availability': 1,\n",
       "  u'cost': 50.0,\n",
       "  u'event_id': 3814948,\n",
       "  u'quantity_sold': 1,\n",
       "  u'quantity_total': 1},\n",
       " {u'availability': 1,\n",
       "  u'cost': 50.0,\n",
       "  u'event_id': 3814948,\n",
       "  u'quantity_sold': 1,\n",
       "  u'quantity_total': 1},\n",
       " {u'availability': 1,\n",
       "  u'cost': 50.0,\n",
       "  u'event_id': 3814948,\n",
       "  u'quantity_sold': 1,\n",
       "  u'quantity_total': 1},\n",
       " {u'availability': 1,\n",
       "  u'cost': 50.0,\n",
       "  u'event_id': 3814948,\n",
       "  u'quantity_sold': 1,\n",
       "  u'quantity_total': 1},\n",
       " {u'availability': 1,\n",
       "  u'cost': 50.0,\n",
       "  u'event_id': 3814948,\n",
       "  u'quantity_sold': 3,\n",
       "  u'quantity_total': 1},\n",
       " {u'availability': 1,\n",
       "  u'cost': 50.0,\n",
       "  u'event_id': 3814948,\n",
       "  u'quantity_sold': 2,\n",
       "  u'quantity_total': 1},\n",
       " {u'availability': 1,\n",
       "  u'cost': 50.0,\n",
       "  u'event_id': 3814948,\n",
       "  u'quantity_sold': 6,\n",
       "  u'quantity_total': 1},\n",
       " {u'availability': 1,\n",
       "  u'cost': 50.0,\n",
       "  u'event_id': 3814948,\n",
       "  u'quantity_sold': 3,\n",
       "  u'quantity_total': 1},\n",
       " {u'availability': 1,\n",
       "  u'cost': 50.0,\n",
       "  u'event_id': 3814948,\n",
       "  u'quantity_sold': 2,\n",
       "  u'quantity_total': 1},\n",
       " {u'availability': 1,\n",
       "  u'cost': 100.0,\n",
       "  u'event_id': 3814948,\n",
       "  u'quantity_sold': 8,\n",
       "  u'quantity_total': 1},\n",
       " {u'availability': 1,\n",
       "  u'cost': 75.0,\n",
       "  u'event_id': 3814948,\n",
       "  u'quantity_sold': 4,\n",
       "  u'quantity_total': 1},\n",
       " {u'availability': 1,\n",
       "  u'cost': 75.0,\n",
       "  u'event_id': 3814948,\n",
       "  u'quantity_sold': 0,\n",
       "  u'quantity_total': 1},\n",
       " {u'availability': 1,\n",
       "  u'cost': 50.0,\n",
       "  u'event_id': 3814948,\n",
       "  u'quantity_sold': 4,\n",
       "  u'quantity_total': 1},\n",
       " {u'availability': 1,\n",
       "  u'cost': 50.0,\n",
       "  u'event_id': 3814948,\n",
       "  u'quantity_sold': 4,\n",
       "  u'quantity_total': 1},\n",
       " {u'availability': 1,\n",
       "  u'cost': 50.0,\n",
       "  u'event_id': 3814948,\n",
       "  u'quantity_sold': 0,\n",
       "  u'quantity_total': 1},\n",
       " {u'availability': 1,\n",
       "  u'cost': 50.0,\n",
       "  u'event_id': 3814948,\n",
       "  u'quantity_sold': 0,\n",
       "  u'quantity_total': 1},\n",
       " {u'availability': 1,\n",
       "  u'cost': 50.0,\n",
       "  u'event_id': 3814948,\n",
       "  u'quantity_sold': 4,\n",
       "  u'quantity_total': 1},\n",
       " {u'availability': 1,\n",
       "  u'cost': 50.0,\n",
       "  u'event_id': 3814948,\n",
       "  u'quantity_sold': 4,\n",
       "  u'quantity_total': 1},\n",
       " {u'availability': 1,\n",
       "  u'cost': 50.0,\n",
       "  u'event_id': 3814948,\n",
       "  u'quantity_sold': 0,\n",
       "  u'quantity_total': 1},\n",
       " {u'availability': 1,\n",
       "  u'cost': 50.0,\n",
       "  u'event_id': 3814948,\n",
       "  u'quantity_sold': 0,\n",
       "  u'quantity_total': 1},\n",
       " {u'availability': 1,\n",
       "  u'cost': 50.0,\n",
       "  u'event_id': 3814948,\n",
       "  u'quantity_sold': 5,\n",
       "  u'quantity_total': 1},\n",
       " {u'availability': 1,\n",
       "  u'cost': 50.0,\n",
       "  u'event_id': 3814948,\n",
       "  u'quantity_sold': 6,\n",
       "  u'quantity_total': 1},\n",
       " {u'availability': 1,\n",
       "  u'cost': 50.0,\n",
       "  u'event_id': 3814948,\n",
       "  u'quantity_sold': 0,\n",
       "  u'quantity_total': 1},\n",
       " {u'availability': 1,\n",
       "  u'cost': 50.0,\n",
       "  u'event_id': 3814948,\n",
       "  u'quantity_sold': 0,\n",
       "  u'quantity_total': 1},\n",
       " {u'availability': 1,\n",
       "  u'cost': 50.0,\n",
       "  u'event_id': 3814948,\n",
       "  u'quantity_sold': 2,\n",
       "  u'quantity_total': 1},\n",
       " {u'availability': 1,\n",
       "  u'cost': 50.0,\n",
       "  u'event_id': 3814948,\n",
       "  u'quantity_sold': 2,\n",
       "  u'quantity_total': 1},\n",
       " {u'availability': 1,\n",
       "  u'cost': 50.0,\n",
       "  u'event_id': 3814948,\n",
       "  u'quantity_sold': 1,\n",
       "  u'quantity_total': 1},\n",
       " {u'availability': 1,\n",
       "  u'cost': 50.0,\n",
       "  u'event_id': 3814948,\n",
       "  u'quantity_sold': 1,\n",
       "  u'quantity_total': 1},\n",
       " {u'availability': 1,\n",
       "  u'cost': 50.0,\n",
       "  u'event_id': 3814948,\n",
       "  u'quantity_sold': 2,\n",
       "  u'quantity_total': 1},\n",
       " {u'availability': 1,\n",
       "  u'cost': 50.0,\n",
       "  u'event_id': 3814948,\n",
       "  u'quantity_sold': 2,\n",
       "  u'quantity_total': 1},\n",
       " {u'availability': 1,\n",
       "  u'cost': 50.0,\n",
       "  u'event_id': 3814948,\n",
       "  u'quantity_sold': 2,\n",
       "  u'quantity_total': 1},\n",
       " {u'availability': 1,\n",
       "  u'cost': 50.0,\n",
       "  u'event_id': 3814948,\n",
       "  u'quantity_sold': 0,\n",
       "  u'quantity_total': 1},\n",
       " {u'availability': 1,\n",
       "  u'cost': 50.0,\n",
       "  u'event_id': 3814948,\n",
       "  u'quantity_sold': 1,\n",
       "  u'quantity_total': 1},\n",
       " {u'availability': 1,\n",
       "  u'cost': 50.0,\n",
       "  u'event_id': 3814948,\n",
       "  u'quantity_sold': 0,\n",
       "  u'quantity_total': 1},\n",
       " {u'availability': 1,\n",
       "  u'cost': 50.0,\n",
       "  u'event_id': 3814948,\n",
       "  u'quantity_sold': 0,\n",
       "  u'quantity_total': 1},\n",
       " {u'availability': 1,\n",
       "  u'cost': 50.0,\n",
       "  u'event_id': 3814948,\n",
       "  u'quantity_sold': 0,\n",
       "  u'quantity_total': 1},\n",
       " {u'availability': 1,\n",
       "  u'cost': 50.0,\n",
       "  u'event_id': 3814948,\n",
       "  u'quantity_sold': 2,\n",
       "  u'quantity_total': 1},\n",
       " {u'availability': 1,\n",
       "  u'cost': 50.0,\n",
       "  u'event_id': 3814948,\n",
       "  u'quantity_sold': 1,\n",
       "  u'quantity_total': 1},\n",
       " {u'availability': 1,\n",
       "  u'cost': 50.0,\n",
       "  u'event_id': 3814948,\n",
       "  u'quantity_sold': 0,\n",
       "  u'quantity_total': 1},\n",
       " {u'availability': 1,\n",
       "  u'cost': 50.0,\n",
       "  u'event_id': 3814948,\n",
       "  u'quantity_sold': 0,\n",
       "  u'quantity_total': 1},\n",
       " {u'availability': 1,\n",
       "  u'cost': 50.0,\n",
       "  u'event_id': 3814948,\n",
       "  u'quantity_sold': 1,\n",
       "  u'quantity_total': 1},\n",
       " {u'availability': 1,\n",
       "  u'cost': 50.0,\n",
       "  u'event_id': 3814948,\n",
       "  u'quantity_sold': 1,\n",
       "  u'quantity_total': 1},\n",
       " {u'availability': 1,\n",
       "  u'cost': 50.0,\n",
       "  u'event_id': 3814948,\n",
       "  u'quantity_sold': 1,\n",
       "  u'quantity_total': 1},\n",
       " {u'availability': 1,\n",
       "  u'cost': 50.0,\n",
       "  u'event_id': 3814948,\n",
       "  u'quantity_sold': 1,\n",
       "  u'quantity_total': 1},\n",
       " {u'availability': 1,\n",
       "  u'cost': 50.0,\n",
       "  u'event_id': 3814948,\n",
       "  u'quantity_sold': 1,\n",
       "  u'quantity_total': 1},\n",
       " {u'availability': 1,\n",
       "  u'cost': 50.0,\n",
       "  u'event_id': 3814948,\n",
       "  u'quantity_sold': 2,\n",
       "  u'quantity_total': 1},\n",
       " {u'availability': 1,\n",
       "  u'cost': 50.0,\n",
       "  u'event_id': 3814948,\n",
       "  u'quantity_sold': 0,\n",
       "  u'quantity_total': 1},\n",
       " {u'availability': 1,\n",
       "  u'cost': 50.0,\n",
       "  u'event_id': 3814948,\n",
       "  u'quantity_sold': 1,\n",
       "  u'quantity_total': 1},\n",
       " {u'availability': 1,\n",
       "  u'cost': 100.0,\n",
       "  u'event_id': 3814948,\n",
       "  u'quantity_sold': 3,\n",
       "  u'quantity_total': 1}]"
      ]
     },
     "execution_count": 186,
     "metadata": {},
     "output_type": "execute_result"
    }
   ],
   "source": [
    "df_first.iloc[9258][col]"
   ]
  },
  {
   "cell_type": "code",
   "execution_count": 107,
   "metadata": {
    "collapsed": false
   },
   "outputs": [],
   "source": [
    "lst = df_first[col]"
   ]
  },
  {
   "cell_type": "code",
   "execution_count": 134,
   "metadata": {
    "collapsed": false
   },
   "outputs": [
    {
     "name": "stdout",
     "output_type": "stream",
     "text": [
      "0 0 fraudster_event\n",
      "1 25 premium\n",
      "2 48 premium\n",
      "3 58 premium\n",
      "4 39 premium\n",
      "5 37 premium\n",
      "6 36 premium\n",
      "7 57 premium\n",
      "8 14 premium\n",
      "9 64 premium\n",
      "10 33 premium\n",
      "11 21 premium\n",
      "12 7 premium\n"
     ]
    },
    {
     "ename": "KeyError",
     "evalue": "13",
     "output_type": "error",
     "traceback": [
      "\u001b[0;31m---------------------------------------------------------------------------\u001b[0m",
      "\u001b[0;31mKeyError\u001b[0m                                  Traceback (most recent call last)",
      "\u001b[0;32m<ipython-input-134-6bc099081521>\u001b[0m in \u001b[0;36m<module>\u001b[0;34m()\u001b[0m\n\u001b[1;32m      1\u001b[0m \u001b[0mlen\u001b[0m\u001b[0;34m(\u001b[0m\u001b[0mdf_first\u001b[0m\u001b[0;34m)\u001b[0m\u001b[0;34m\u001b[0m\u001b[0m\n\u001b[1;32m      2\u001b[0m \u001b[0;32mfor\u001b[0m \u001b[0mi\u001b[0m \u001b[0;32min\u001b[0m \u001b[0mxrange\u001b[0m\u001b[0;34m(\u001b[0m\u001b[0;36m50\u001b[0m\u001b[0;34m)\u001b[0m\u001b[0;34m:\u001b[0m\u001b[0;34m\u001b[0m\u001b[0m\n\u001b[0;32m----> 3\u001b[0;31m     \u001b[0mt\u001b[0m \u001b[0;34m=\u001b[0m \u001b[0mpd\u001b[0m\u001b[0;34m.\u001b[0m\u001b[0mDataFrame\u001b[0m\u001b[0;34m(\u001b[0m\u001b[0mlst\u001b[0m\u001b[0;34m[\u001b[0m\u001b[0mi\u001b[0m\u001b[0;34m]\u001b[0m\u001b[0;34m)\u001b[0m\u001b[0;34m\u001b[0m\u001b[0m\n\u001b[0m\u001b[1;32m      4\u001b[0m     \u001b[0;32mprint\u001b[0m \u001b[0mi\u001b[0m\u001b[0;34m,\u001b[0m \u001b[0mt\u001b[0m\u001b[0;34m.\u001b[0m\u001b[0miloc\u001b[0m\u001b[0;34m[\u001b[0m\u001b[0;34m:\u001b[0m\u001b[0;34m,\u001b[0m \u001b[0;36m3\u001b[0m\u001b[0;34m]\u001b[0m\u001b[0;34m.\u001b[0m\u001b[0msum\u001b[0m\u001b[0;34m(\u001b[0m\u001b[0;34m)\u001b[0m\u001b[0;34m,\u001b[0m \u001b[0mdf_first\u001b[0m\u001b[0;34m[\u001b[0m\u001b[0;34m'acct_type'\u001b[0m\u001b[0;34m]\u001b[0m\u001b[0;34m[\u001b[0m\u001b[0mi\u001b[0m\u001b[0;34m]\u001b[0m\u001b[0;34m\u001b[0m\u001b[0m\n",
      "\u001b[0;32m/home/sanhita/anaconda2/lib/python2.7/site-packages/pandas/core/series.pyc\u001b[0m in \u001b[0;36m__getitem__\u001b[0;34m(self, key)\u001b[0m\n\u001b[1;32m    601\u001b[0m         \u001b[0mkey\u001b[0m \u001b[0;34m=\u001b[0m \u001b[0mcom\u001b[0m\u001b[0;34m.\u001b[0m\u001b[0m_apply_if_callable\u001b[0m\u001b[0;34m(\u001b[0m\u001b[0mkey\u001b[0m\u001b[0;34m,\u001b[0m \u001b[0mself\u001b[0m\u001b[0;34m)\u001b[0m\u001b[0;34m\u001b[0m\u001b[0m\n\u001b[1;32m    602\u001b[0m         \u001b[0;32mtry\u001b[0m\u001b[0;34m:\u001b[0m\u001b[0;34m\u001b[0m\u001b[0m\n\u001b[0;32m--> 603\u001b[0;31m             \u001b[0mresult\u001b[0m \u001b[0;34m=\u001b[0m \u001b[0mself\u001b[0m\u001b[0;34m.\u001b[0m\u001b[0mindex\u001b[0m\u001b[0;34m.\u001b[0m\u001b[0mget_value\u001b[0m\u001b[0;34m(\u001b[0m\u001b[0mself\u001b[0m\u001b[0;34m,\u001b[0m \u001b[0mkey\u001b[0m\u001b[0;34m)\u001b[0m\u001b[0;34m\u001b[0m\u001b[0m\n\u001b[0m\u001b[1;32m    604\u001b[0m \u001b[0;34m\u001b[0m\u001b[0m\n\u001b[1;32m    605\u001b[0m             \u001b[0;32mif\u001b[0m \u001b[0;32mnot\u001b[0m \u001b[0mis_scalar\u001b[0m\u001b[0;34m(\u001b[0m\u001b[0mresult\u001b[0m\u001b[0;34m)\u001b[0m\u001b[0;34m:\u001b[0m\u001b[0;34m\u001b[0m\u001b[0m\n",
      "\u001b[0;32m/home/sanhita/anaconda2/lib/python2.7/site-packages/pandas/indexes/base.pyc\u001b[0m in \u001b[0;36mget_value\u001b[0;34m(self, series, key)\u001b[0m\n\u001b[1;32m   2167\u001b[0m         \u001b[0;32mtry\u001b[0m\u001b[0;34m:\u001b[0m\u001b[0;34m\u001b[0m\u001b[0m\n\u001b[1;32m   2168\u001b[0m             return self._engine.get_value(s, k,\n\u001b[0;32m-> 2169\u001b[0;31m                                           tz=getattr(series.dtype, 'tz', None))\n\u001b[0m\u001b[1;32m   2170\u001b[0m         \u001b[0;32mexcept\u001b[0m \u001b[0mKeyError\u001b[0m \u001b[0;32mas\u001b[0m \u001b[0me1\u001b[0m\u001b[0;34m:\u001b[0m\u001b[0;34m\u001b[0m\u001b[0m\n\u001b[1;32m   2171\u001b[0m             \u001b[0;32mif\u001b[0m \u001b[0mlen\u001b[0m\u001b[0;34m(\u001b[0m\u001b[0mself\u001b[0m\u001b[0;34m)\u001b[0m \u001b[0;34m>\u001b[0m \u001b[0;36m0\u001b[0m \u001b[0;32mand\u001b[0m \u001b[0mself\u001b[0m\u001b[0;34m.\u001b[0m\u001b[0minferred_type\u001b[0m \u001b[0;32min\u001b[0m \u001b[0;34m[\u001b[0m\u001b[0;34m'integer'\u001b[0m\u001b[0;34m,\u001b[0m \u001b[0;34m'boolean'\u001b[0m\u001b[0;34m]\u001b[0m\u001b[0;34m:\u001b[0m\u001b[0;34m\u001b[0m\u001b[0m\n",
      "\u001b[0;32mpandas/index.pyx\u001b[0m in \u001b[0;36mpandas.index.IndexEngine.get_value (pandas/index.c:3557)\u001b[0;34m()\u001b[0m\n",
      "\u001b[0;32mpandas/index.pyx\u001b[0m in \u001b[0;36mpandas.index.IndexEngine.get_value (pandas/index.c:3240)\u001b[0;34m()\u001b[0m\n",
      "\u001b[0;32mpandas/index.pyx\u001b[0m in \u001b[0;36mpandas.index.IndexEngine.get_loc (pandas/index.c:4279)\u001b[0;34m()\u001b[0m\n",
      "\u001b[0;32mpandas/src/hashtable_class_helper.pxi\u001b[0m in \u001b[0;36mpandas.hashtable.Int64HashTable.get_item (pandas/hashtable.c:8564)\u001b[0;34m()\u001b[0m\n",
      "\u001b[0;32mpandas/src/hashtable_class_helper.pxi\u001b[0m in \u001b[0;36mpandas.hashtable.Int64HashTable.get_item (pandas/hashtable.c:8508)\u001b[0;34m()\u001b[0m\n",
      "\u001b[0;31mKeyError\u001b[0m: 13"
     ]
    }
   ],
   "source": [
    "len(df_first)\n",
    "for i in xrange(50):\n",
    "    t = pd.DataFrame(lst[i])\n",
    "    print i, t.iloc[:, 3].sum(), df_first['acct_type'][i]"
   ]
  },
  {
   "cell_type": "code",
   "execution_count": 109,
   "metadata": {
    "collapsed": false
   },
   "outputs": [
    {
     "data": {
      "text/html": [
       "<div>\n",
       "<table border=\"1\" class=\"dataframe\">\n",
       "  <thead>\n",
       "    <tr style=\"text-align: right;\">\n",
       "      <th></th>\n",
       "      <th>ticket_types</th>\n",
       "    </tr>\n",
       "  </thead>\n",
       "  <tbody>\n",
       "    <tr>\n",
       "      <th>0</th>\n",
       "      <td>[{u'event_id': 527017, u'cost': 25.0, u'availa...</td>\n",
       "    </tr>\n",
       "    <tr>\n",
       "      <th>1</th>\n",
       "      <td>[{u'event_id': 786878, u'cost': 35.0, u'availa...</td>\n",
       "    </tr>\n",
       "    <tr>\n",
       "      <th>2</th>\n",
       "      <td>[{u'event_id': 787337, u'cost': 93.51, u'avail...</td>\n",
       "    </tr>\n",
       "    <tr>\n",
       "      <th>3</th>\n",
       "      <td>[{u'event_id': 885645, u'cost': 25.0, u'availa...</td>\n",
       "    </tr>\n",
       "    <tr>\n",
       "      <th>4</th>\n",
       "      <td>[{u'event_id': 1114349, u'cost': 150.0, u'avai...</td>\n",
       "    </tr>\n",
       "    <tr>\n",
       "      <th>5</th>\n",
       "      <td>[{u'event_id': 1179983, u'cost': 8.0, u'availa...</td>\n",
       "    </tr>\n",
       "    <tr>\n",
       "      <th>6</th>\n",
       "      <td>[{u'event_id': 1180179, u'cost': 22.63, u'avai...</td>\n",
       "    </tr>\n",
       "    <tr>\n",
       "      <th>7</th>\n",
       "      <td>[{u'event_id': 1180391, u'cost': 14.0, u'avail...</td>\n",
       "    </tr>\n",
       "    <tr>\n",
       "      <th>8</th>\n",
       "      <td>[{u'event_id': 1180423, u'cost': 250.0, u'avai...</td>\n",
       "    </tr>\n",
       "    <tr>\n",
       "      <th>9</th>\n",
       "      <td>[{u'event_id': 1180435, u'cost': 14.0, u'avail...</td>\n",
       "    </tr>\n",
       "    <tr>\n",
       "      <th>10</th>\n",
       "      <td>[{u'event_id': 1180497, u'cost': 27.5, u'avail...</td>\n",
       "    </tr>\n",
       "    <tr>\n",
       "      <th>11</th>\n",
       "      <td>[{u'event_id': 1213143, u'cost': 30.0, u'avail...</td>\n",
       "    </tr>\n",
       "    <tr>\n",
       "      <th>12</th>\n",
       "      <td>[{u'event_id': 1245411, u'cost': 92.57, u'avai...</td>\n",
       "    </tr>\n",
       "    <tr>\n",
       "      <th>14</th>\n",
       "      <td>[{u'event_id': 1245809, u'cost': 150.0, u'avai...</td>\n",
       "    </tr>\n",
       "    <tr>\n",
       "      <th>15</th>\n",
       "      <td>[{u'event_id': 1278699, u'cost': 10.0, u'avail...</td>\n",
       "    </tr>\n",
       "    <tr>\n",
       "      <th>16</th>\n",
       "      <td>[{u'event_id': 1278715, u'cost': 10.0, u'avail...</td>\n",
       "    </tr>\n",
       "    <tr>\n",
       "      <th>17</th>\n",
       "      <td>[{u'event_id': 1310811, u'cost': 10.0, u'avail...</td>\n",
       "    </tr>\n",
       "    <tr>\n",
       "      <th>18</th>\n",
       "      <td>[{u'event_id': 1310849, u'cost': 474.08, u'ava...</td>\n",
       "    </tr>\n",
       "    <tr>\n",
       "      <th>19</th>\n",
       "      <td>[{u'event_id': 1310985, u'cost': 170.0, u'avai...</td>\n",
       "    </tr>\n",
       "    <tr>\n",
       "      <th>20</th>\n",
       "      <td>[{u'event_id': 1311215, u'cost': 150.0, u'avai...</td>\n",
       "    </tr>\n",
       "    <tr>\n",
       "      <th>21</th>\n",
       "      <td>[{u'event_id': 1311633, u'cost': 100.0, u'avai...</td>\n",
       "    </tr>\n",
       "    <tr>\n",
       "      <th>22</th>\n",
       "      <td>[{u'event_id': 1343963, u'cost': 50.0, u'avail...</td>\n",
       "    </tr>\n",
       "    <tr>\n",
       "      <th>23</th>\n",
       "      <td>[{u'event_id': 1376573, u'cost': 9.4, u'availa...</td>\n",
       "    </tr>\n",
       "    <tr>\n",
       "      <th>24</th>\n",
       "      <td>[{u'event_id': 1376585, u'cost': 15.0, u'avail...</td>\n",
       "    </tr>\n",
       "    <tr>\n",
       "      <th>25</th>\n",
       "      <td>[{u'event_id': 1377131, u'cost': 50.0, u'avail...</td>\n",
       "    </tr>\n",
       "    <tr>\n",
       "      <th>26</th>\n",
       "      <td>[{u'event_id': 1386643, u'cost': 300.0, u'avai...</td>\n",
       "    </tr>\n",
       "    <tr>\n",
       "      <th>27</th>\n",
       "      <td>[{u'event_id': 1442103, u'cost': 8.46, u'avail...</td>\n",
       "    </tr>\n",
       "    <tr>\n",
       "      <th>28</th>\n",
       "      <td>[{u'event_id': 1442185, u'cost': 3702.3, u'ava...</td>\n",
       "    </tr>\n",
       "    <tr>\n",
       "      <th>29</th>\n",
       "      <td>[{u'event_id': 1507459, u'cost': 35.0, u'avail...</td>\n",
       "    </tr>\n",
       "    <tr>\n",
       "      <th>30</th>\n",
       "      <td>[{u'event_id': 1507635, u'cost': 32.08, u'avai...</td>\n",
       "    </tr>\n",
       "    <tr>\n",
       "      <th>...</th>\n",
       "      <td>...</td>\n",
       "    </tr>\n",
       "    <tr>\n",
       "      <th>14305</th>\n",
       "      <td>[{u'event_id': 5203152, u'cost': 4.05, u'avail...</td>\n",
       "    </tr>\n",
       "    <tr>\n",
       "      <th>14307</th>\n",
       "      <td>[{u'event_id': 5203584, u'cost': 18.0, u'avail...</td>\n",
       "    </tr>\n",
       "    <tr>\n",
       "      <th>14308</th>\n",
       "      <td>[{u'event_id': 5214384, u'cost': 15.0, u'avail...</td>\n",
       "    </tr>\n",
       "    <tr>\n",
       "      <th>14309</th>\n",
       "      <td>[{u'event_id': 5236232, u'cost': 676.07, u'ava...</td>\n",
       "    </tr>\n",
       "    <tr>\n",
       "      <th>14310</th>\n",
       "      <td>[{u'event_id': 5236400, u'cost': 15.0, u'avail...</td>\n",
       "    </tr>\n",
       "    <tr>\n",
       "      <th>14311</th>\n",
       "      <td>[{u'event_id': 5247262, u'cost': 17.91, u'avai...</td>\n",
       "    </tr>\n",
       "    <tr>\n",
       "      <th>14312</th>\n",
       "      <td>[{u'event_id': 5268524, u'cost': 25.0, u'avail...</td>\n",
       "    </tr>\n",
       "    <tr>\n",
       "      <th>14313</th>\n",
       "      <td>[{u'event_id': 5268608, u'cost': 21.0, u'avail...</td>\n",
       "    </tr>\n",
       "    <tr>\n",
       "      <th>14314</th>\n",
       "      <td>[{u'event_id': 5268624, u'cost': 168.21, u'ava...</td>\n",
       "    </tr>\n",
       "    <tr>\n",
       "      <th>14315</th>\n",
       "      <td>[{u'event_id': 5268914, u'cost': 15.7, u'avail...</td>\n",
       "    </tr>\n",
       "    <tr>\n",
       "      <th>14316</th>\n",
       "      <td>[{u'event_id': 5301408, u'cost': 120.0, u'avai...</td>\n",
       "    </tr>\n",
       "    <tr>\n",
       "      <th>14317</th>\n",
       "      <td>[{u'event_id': 5301434, u'cost': 8.0, u'availa...</td>\n",
       "    </tr>\n",
       "    <tr>\n",
       "      <th>14318</th>\n",
       "      <td>[{u'event_id': 5307036, u'cost': 55.0, u'avail...</td>\n",
       "    </tr>\n",
       "    <tr>\n",
       "      <th>14319</th>\n",
       "      <td>[{u'event_id': 5307210, u'cost': 235.26, u'ava...</td>\n",
       "    </tr>\n",
       "    <tr>\n",
       "      <th>14320</th>\n",
       "      <td>[{u'event_id': 5323578, u'cost': 2.17, u'avail...</td>\n",
       "    </tr>\n",
       "    <tr>\n",
       "      <th>14321</th>\n",
       "      <td>[{u'event_id': 5334324, u'cost': 50.0, u'avail...</td>\n",
       "    </tr>\n",
       "    <tr>\n",
       "      <th>14322</th>\n",
       "      <td>[{u'event_id': 5334600, u'cost': 8.51, u'avail...</td>\n",
       "    </tr>\n",
       "    <tr>\n",
       "      <th>14323</th>\n",
       "      <td>[{u'event_id': 5334712, u'cost': 30.0, u'avail...</td>\n",
       "    </tr>\n",
       "    <tr>\n",
       "      <th>14324</th>\n",
       "      <td>[{u'event_id': 5348476, u'cost': 10.0, u'avail...</td>\n",
       "    </tr>\n",
       "    <tr>\n",
       "      <th>14325</th>\n",
       "      <td>[{u'event_id': 5350990, u'cost': 649.65, u'ava...</td>\n",
       "    </tr>\n",
       "    <tr>\n",
       "      <th>14326</th>\n",
       "      <td>[{u'event_id': 5367108, u'cost': 10.0, u'avail...</td>\n",
       "    </tr>\n",
       "    <tr>\n",
       "      <th>14327</th>\n",
       "      <td>[{u'event_id': 5394728, u'cost': 60.43, u'avai...</td>\n",
       "    </tr>\n",
       "    <tr>\n",
       "      <th>14328</th>\n",
       "      <td>[{u'event_id': 5399400, u'cost': 13.45, u'avai...</td>\n",
       "    </tr>\n",
       "    <tr>\n",
       "      <th>14329</th>\n",
       "      <td>[{u'event_id': 5399402, u'cost': 13.45, u'avai...</td>\n",
       "    </tr>\n",
       "    <tr>\n",
       "      <th>14330</th>\n",
       "      <td>[{u'event_id': 5400186, u'cost': 8.46, u'avail...</td>\n",
       "    </tr>\n",
       "    <tr>\n",
       "      <th>14331</th>\n",
       "      <td>[{u'event_id': 5452146, u'cost': 470.2, u'avai...</td>\n",
       "    </tr>\n",
       "    <tr>\n",
       "      <th>14332</th>\n",
       "      <td>[{u'event_id': 5456442, u'cost': 45.0, u'avail...</td>\n",
       "    </tr>\n",
       "    <tr>\n",
       "      <th>14333</th>\n",
       "      <td>[{u'event_id': 5465112, u'cost': 90.0, u'avail...</td>\n",
       "    </tr>\n",
       "    <tr>\n",
       "      <th>14334</th>\n",
       "      <td>[{u'event_id': 5465732, u'cost': 20.0, u'avail...</td>\n",
       "    </tr>\n",
       "    <tr>\n",
       "      <th>14336</th>\n",
       "      <td>[{u'event_id': 5492990, u'cost': 283.0, u'avai...</td>\n",
       "    </tr>\n",
       "  </tbody>\n",
       "</table>\n",
       "<p>13666 rows × 1 columns</p>\n",
       "</div>"
      ],
      "text/plain": [
       "                                            ticket_types\n",
       "0      [{u'event_id': 527017, u'cost': 25.0, u'availa...\n",
       "1      [{u'event_id': 786878, u'cost': 35.0, u'availa...\n",
       "2      [{u'event_id': 787337, u'cost': 93.51, u'avail...\n",
       "3      [{u'event_id': 885645, u'cost': 25.0, u'availa...\n",
       "4      [{u'event_id': 1114349, u'cost': 150.0, u'avai...\n",
       "5      [{u'event_id': 1179983, u'cost': 8.0, u'availa...\n",
       "6      [{u'event_id': 1180179, u'cost': 22.63, u'avai...\n",
       "7      [{u'event_id': 1180391, u'cost': 14.0, u'avail...\n",
       "8      [{u'event_id': 1180423, u'cost': 250.0, u'avai...\n",
       "9      [{u'event_id': 1180435, u'cost': 14.0, u'avail...\n",
       "10     [{u'event_id': 1180497, u'cost': 27.5, u'avail...\n",
       "11     [{u'event_id': 1213143, u'cost': 30.0, u'avail...\n",
       "12     [{u'event_id': 1245411, u'cost': 92.57, u'avai...\n",
       "14     [{u'event_id': 1245809, u'cost': 150.0, u'avai...\n",
       "15     [{u'event_id': 1278699, u'cost': 10.0, u'avail...\n",
       "16     [{u'event_id': 1278715, u'cost': 10.0, u'avail...\n",
       "17     [{u'event_id': 1310811, u'cost': 10.0, u'avail...\n",
       "18     [{u'event_id': 1310849, u'cost': 474.08, u'ava...\n",
       "19     [{u'event_id': 1310985, u'cost': 170.0, u'avai...\n",
       "20     [{u'event_id': 1311215, u'cost': 150.0, u'avai...\n",
       "21     [{u'event_id': 1311633, u'cost': 100.0, u'avai...\n",
       "22     [{u'event_id': 1343963, u'cost': 50.0, u'avail...\n",
       "23     [{u'event_id': 1376573, u'cost': 9.4, u'availa...\n",
       "24     [{u'event_id': 1376585, u'cost': 15.0, u'avail...\n",
       "25     [{u'event_id': 1377131, u'cost': 50.0, u'avail...\n",
       "26     [{u'event_id': 1386643, u'cost': 300.0, u'avai...\n",
       "27     [{u'event_id': 1442103, u'cost': 8.46, u'avail...\n",
       "28     [{u'event_id': 1442185, u'cost': 3702.3, u'ava...\n",
       "29     [{u'event_id': 1507459, u'cost': 35.0, u'avail...\n",
       "30     [{u'event_id': 1507635, u'cost': 32.08, u'avai...\n",
       "...                                                  ...\n",
       "14305  [{u'event_id': 5203152, u'cost': 4.05, u'avail...\n",
       "14307  [{u'event_id': 5203584, u'cost': 18.0, u'avail...\n",
       "14308  [{u'event_id': 5214384, u'cost': 15.0, u'avail...\n",
       "14309  [{u'event_id': 5236232, u'cost': 676.07, u'ava...\n",
       "14310  [{u'event_id': 5236400, u'cost': 15.0, u'avail...\n",
       "14311  [{u'event_id': 5247262, u'cost': 17.91, u'avai...\n",
       "14312  [{u'event_id': 5268524, u'cost': 25.0, u'avail...\n",
       "14313  [{u'event_id': 5268608, u'cost': 21.0, u'avail...\n",
       "14314  [{u'event_id': 5268624, u'cost': 168.21, u'ava...\n",
       "14315  [{u'event_id': 5268914, u'cost': 15.7, u'avail...\n",
       "14316  [{u'event_id': 5301408, u'cost': 120.0, u'avai...\n",
       "14317  [{u'event_id': 5301434, u'cost': 8.0, u'availa...\n",
       "14318  [{u'event_id': 5307036, u'cost': 55.0, u'avail...\n",
       "14319  [{u'event_id': 5307210, u'cost': 235.26, u'ava...\n",
       "14320  [{u'event_id': 5323578, u'cost': 2.17, u'avail...\n",
       "14321  [{u'event_id': 5334324, u'cost': 50.0, u'avail...\n",
       "14322  [{u'event_id': 5334600, u'cost': 8.51, u'avail...\n",
       "14323  [{u'event_id': 5334712, u'cost': 30.0, u'avail...\n",
       "14324  [{u'event_id': 5348476, u'cost': 10.0, u'avail...\n",
       "14325  [{u'event_id': 5350990, u'cost': 649.65, u'ava...\n",
       "14326  [{u'event_id': 5367108, u'cost': 10.0, u'avail...\n",
       "14327  [{u'event_id': 5394728, u'cost': 60.43, u'avai...\n",
       "14328  [{u'event_id': 5399400, u'cost': 13.45, u'avai...\n",
       "14329  [{u'event_id': 5399402, u'cost': 13.45, u'avai...\n",
       "14330  [{u'event_id': 5400186, u'cost': 8.46, u'avail...\n",
       "14331  [{u'event_id': 5452146, u'cost': 470.2, u'avai...\n",
       "14332  [{u'event_id': 5456442, u'cost': 45.0, u'avail...\n",
       "14333  [{u'event_id': 5465112, u'cost': 90.0, u'avail...\n",
       "14334  [{u'event_id': 5465732, u'cost': 20.0, u'avail...\n",
       "14336  [{u'event_id': 5492990, u'cost': 283.0, u'avai...\n",
       "\n",
       "[13666 rows x 1 columns]"
      ]
     },
     "execution_count": 109,
     "metadata": {},
     "output_type": "execute_result"
    }
   ],
   "source": [
    "df_tt"
   ]
  },
  {
   "cell_type": "code",
   "execution_count": null,
   "metadata": {
    "collapsed": true
   },
   "outputs": [],
   "source": []
  }
 ],
 "metadata": {
  "kernelspec": {
   "display_name": "Python 2",
   "language": "python",
   "name": "python2"
  },
  "language_info": {
   "codemirror_mode": {
    "name": "ipython",
    "version": 2
   },
   "file_extension": ".py",
   "mimetype": "text/x-python",
   "name": "python",
   "nbconvert_exporter": "python",
   "pygments_lexer": "ipython2",
   "version": "2.7.13"
  }
 },
 "nbformat": 4,
 "nbformat_minor": 2
}
