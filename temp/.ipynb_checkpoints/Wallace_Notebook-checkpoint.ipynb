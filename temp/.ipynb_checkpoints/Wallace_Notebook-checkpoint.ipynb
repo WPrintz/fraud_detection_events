{
 "cells": [
  {
   "cell_type": "markdown",
   "metadata": {},
   "source": [
    "# Import modules"
   ]
  },
  {
   "cell_type": "code",
   "execution_count": null,
   "metadata": {
    "collapsed": true,
    "scrolled": true
   },
   "outputs": [],
   "source": [
    "import numpy as np\n",
    "import pandas as pd\n",
    "import matplotlib.pyplot as plt\n",
    "%matplotlib inline\n",
    "from collections import Counter\n",
    "import datetime"
   ]
  },
  {
   "cell_type": "code",
   "execution_count": 2,
   "metadata": {
    "collapsed": true
   },
   "outputs": [],
   "source": [
    "import os\n",
    "import sys\n",
    "module_path = os.path.abspath(os.path.join('..'))\n",
    "if module_path not in sys.path:\n",
    "    sys.path.append(module_path)\n",
    "    \n",
    "# ex: from src.create_model_pickle import *\n"
   ]
  },
  {
   "cell_type": "markdown",
   "metadata": {},
   "source": [
    "# Import data"
   ]
  },
  {
   "cell_type": "code",
   "execution_count": null,
   "metadata": {
    "collapsed": true
   },
   "outputs": [],
   "source": [
    "# Use our json to dataframe conversion class\n",
    "from src.pipeline import pipeline_json\n",
    "pj = pipeline_json('../data/data.json')"
   ]
  },
  {
   "cell_type": "code",
   "execution_count": null,
   "metadata": {},
   "outputs": [],
   "source": [
    "df = pj.convert_to_df(scaling=True, filtered=True)\n",
    "df.info()"
   ]
  },
  {
   "cell_type": "code",
   "execution_count": null,
   "metadata": {
    "collapsed": true
   },
   "outputs": [],
   "source": [
    "df.describe()"
   ]
  },
  {
   "cell_type": "code",
   "execution_count": null,
   "metadata": {
    "collapsed": true
   },
   "outputs": [],
   "source": [
    "df['event_life'] = df['event_life'].map(lambda x: 0 if np.isnan(x) else x)\n",
    "df.info()"
   ]
  },
  {
   "cell_type": "markdown",
   "metadata": {},
   "source": [
    "date_cols = ['approx_payout_date', 'event_created', 'event_created', 'event_end', \\\n",
    "                     'event_published', 'event_start', 'user_created']\n",
    "\n",
    "for col in date_cols:\n",
    "    print df[col][:5] - df['user_created'][:5]"
   ]
  },
  {
   "cell_type": "code",
   "execution_count": null,
   "metadata": {
    "collapsed": true
   },
   "outputs": [],
   "source": [
    "df['has_header'][:10]\n",
    "    "
   ]
  },
  {
   "cell_type": "markdown",
   "metadata": {},
   "source": [
    "a = df['event_published'][:5] - df['user_created'][:5]\n",
    "a.var"
   ]
  },
  {
   "cell_type": "markdown",
   "metadata": {},
   "source": [
    "i=12\n",
    "total_payout = 0\n",
    "payout_count = len(df['previous_payouts'][i])\n",
    "payees = set()\n",
    "for d in df['previous_payouts'][i]:\n",
    "    total_payout += d['amount']\n",
    "    payees.add(d['name'])\n",
    "print total_payout, payout_count, payees"
   ]
  },
  {
   "cell_type": "code",
   "execution_count": null,
   "metadata": {
    "collapsed": true
   },
   "outputs": [],
   "source": [
    "a = set()"
   ]
  },
  {
   "cell_type": "code",
   "execution_count": null,
   "metadata": {
    "collapsed": true
   },
   "outputs": [],
   "source": [
    "df['ticket_types'][0][0].keys()"
   ]
  },
  {
   "cell_type": "code",
   "execution_count": null,
   "metadata": {
    "collapsed": true
   },
   "outputs": [],
   "source": [
    "Counter(df['fraud'])"
   ]
  },
  {
   "cell_type": "code",
   "execution_count": null,
   "metadata": {
    "collapsed": true
   },
   "outputs": [],
   "source": [
    "col = 'ticket_sales_amount'\n",
    "print col\n",
    "print \"fraud :\", df[df['fraud'] == True][col].mean()\n",
    "print \"not fraud :\", df[df['fraud'] == False][col].mean()"
   ]
  },
  {
   "cell_type": "code",
   "execution_count": null,
   "metadata": {
    "collapsed": true
   },
   "outputs": [],
   "source": [
    "col = 'ticket_sales_count'\n",
    "print col\n",
    "print \"fraud :\", df[df['fraud'] == True][col].mean()\n",
    "print \"not fraud :\", df[df['fraud'] == False][col].mean()"
   ]
  },
  {
   "cell_type": "code",
   "execution_count": null,
   "metadata": {
    "collapsed": true
   },
   "outputs": [],
   "source": [
    "\n",
    "col = 'body_length'\n",
    "print col\n",
    "print \"fraud :\", df[df['fraud'] == True][col].mean()\n",
    "print \"not fraud :\", df[df['fraud'] == False][col].mean()"
   ]
  },
  {
   "cell_type": "code",
   "execution_count": null,
   "metadata": {
    "collapsed": true
   },
   "outputs": [],
   "source": [
    "df['short_description'][:10]"
   ]
  },
  {
   "cell_type": "code",
   "execution_count": null,
   "metadata": {
    "collapsed": true
   },
   "outputs": [],
   "source": [
    "df['body_length'][:10]"
   ]
  },
  {
   "cell_type": "code",
   "execution_count": null,
   "metadata": {
    "collapsed": true
   },
   "outputs": [],
   "source": [
    "Counter(df['currency'])"
   ]
  },
  {
   "cell_type": "code",
   "execution_count": null,
   "metadata": {
    "collapsed": true
   },
   "outputs": [],
   "source": [
    "# table = pivot_table(df, values='D', index=['A', 'B'],\n",
    "# ...                     columns=['C'], aggfunc=np.sum)\n",
    "table = pd.pivot_table(df, columns=['currency'], values=['fraud'], aggfunc=np.mean)\n",
    "print table"
   ]
  },
  {
   "cell_type": "code",
   "execution_count": null,
   "metadata": {
    "collapsed": true
   },
   "outputs": [],
   "source": [
    "Counter(df['currency'])"
   ]
  },
  {
   "cell_type": "code",
   "execution_count": null,
   "metadata": {
    "collapsed": true
   },
   "outputs": [],
   "source": [
    "col = 'ticket_sales_events'\n",
    "print col\n",
    "print \"fraud :\", (df[df['fraud'] == True]['event_created'] - df[df['fraud'] == True]['user_created']).mean()\n",
    "print \"not fraud :\", (df[df['fraud'] == False]['event_created'] - df[df['fraud'] == False]['user_created']).mean()\n"
   ]
  },
  {
   "cell_type": "code",
   "execution_count": null,
   "metadata": {
    "collapsed": true
   },
   "outputs": [],
   "source": [
    "col = 'has_analytics'\n",
    "print col\n",
    "print \"fraud :\", (df[df['fraud'] == True][col]).mean()\n",
    "print \"not fraud :\", (df[df['fraud'] == False][col]).mean()\n"
   ]
  },
  {
   "cell_type": "code",
   "execution_count": null,
   "metadata": {
    "collapsed": true
   },
   "outputs": [],
   "source": []
  },
  {
   "cell_type": "code",
   "execution_count": null,
   "metadata": {
    "collapsed": true
   },
   "outputs": [],
   "source": [
    "import bs4"
   ]
  },
  {
   "cell_type": "code",
   "execution_count": null,
   "metadata": {
    "collapsed": true
   },
   "outputs": [],
   "source": [
    "df['event_life'].map(lambda x: 0 if np.isnan(x))"
   ]
  },
  {
   "cell_type": "code",
   "execution_count": null,
   "metadata": {
    "collapsed": true
   },
   "outputs": [],
   "source": [
    "df.info()"
   ]
  },
  {
   "cell_type": "code",
   "execution_count": null,
   "metadata": {
    "collapsed": true
   },
   "outputs": [],
   "source": [
    "df['event_life'][:10]"
   ]
  },
  {
   "cell_type": "markdown",
   "metadata": {},
   "source": [
    "# Setup PostgreSQL table"
   ]
  },
  {
   "cell_type": "markdown",
   "metadata": {},
   "source": [
    "PostgreSQL database is already setup with a table \"events\".\n",
    "\n",
    "Table \"events\" has two fields :\n",
    "\n",
    "    \"predict\" : [float]\n",
    "    \n",
    "    \"json\" : [text]\n",
    "    "
   ]
  },
  {
   "cell_type": "code",
   "execution_count": 48,
   "metadata": {
    "collapsed": true
   },
   "outputs": [],
   "source": [
    "#Read sample data to json file for testing writing to database\n",
    "with open('../data/data.json', 'r') as f:\n",
    "        json_raw = f.read()\n",
    "        \n",
    "#Read sample data to json file for testing writing to database\n",
    "with open('../data/example.json', 'r') as f:\n",
    "        json_ex = f.read()"
   ]
  },
  {
   "cell_type": "code",
   "execution_count": null,
   "metadata": {
    "collapsed": true
   },
   "outputs": [],
   "source": [
    "import psycopg2"
   ]
  },
  {
   "cell_type": "code",
   "execution_count": null,
   "metadata": {
    "collapsed": true
   },
   "outputs": [],
   "source": [
    "#Call prediction on JSON data\n",
    "\n",
    "predict = 0.5"
   ]
  },
  {
   "cell_type": "code",
   "execution_count": null,
   "metadata": {
    "collapsed": true
   },
   "outputs": [],
   "source": [
    "#Write prediction and JSON string to database\n",
    "conn = psycopg2.connect(dbname = 'fraud', port=5432, password='', user='wallace', host='localhost')\n",
    "cur = conn.cursor()\n",
    "cur.execute(\"INSERT INTO events (predict, json) VALUES (%s, %s)\",(predict, json_ex))\n",
    "conn.commit()\n",
    "cur.close()\n",
    "conn.close()"
   ]
  },
  {
   "cell_type": "code",
   "execution_count": null,
   "metadata": {
    "collapsed": true,
    "scrolled": false
   },
   "outputs": [],
   "source": [
    "#Read table and print results\n",
    "conn = psycopg2.connect(dbname = 'fraud', port=5432, password='', user='wallace', host='localhost')\n",
    "cur = conn.cursor()\n",
    "query = '''SELECT * FROM events;'''\n",
    "cur.execute(query)\n",
    "rows = cur.fetchall()\n",
    "for i in xrange(len(rows)):\n",
    "    print rows[i]\n",
    "    print\n",
    "cur.close()\n",
    "conn.close()\n"
   ]
  },
  {
   "cell_type": "code",
   "execution_count": null,
   "metadata": {
    "collapsed": true
   },
   "outputs": [],
   "source": []
  },
  {
   "cell_type": "code",
   "execution_count": null,
   "metadata": {
    "collapsed": true
   },
   "outputs": [],
   "source": []
  },
  {
   "cell_type": "code",
   "execution_count": null,
   "metadata": {
    "collapsed": true
   },
   "outputs": [],
   "source": [
    "cur.close()\n",
    "conn.close()\n"
   ]
  },
  {
   "cell_type": "code",
   "execution_count": null,
   "metadata": {
    "collapsed": true
   },
   "outputs": [],
   "source": []
  },
  {
   "cell_type": "code",
   "execution_count": null,
   "metadata": {
    "collapsed": true
   },
   "outputs": [],
   "source": []
  },
  {
   "cell_type": "markdown",
   "metadata": {},
   "source": [
    "# Read and split JSON file from disk"
   ]
  },
  {
   "cell_type": "code",
   "execution_count": 45,
   "metadata": {
    "collapsed": true
   },
   "outputs": [],
   "source": [
    "json_df = pd.read_json('../data/data.json')"
   ]
  },
  {
   "cell_type": "code",
   "execution_count": null,
   "metadata": {},
   "outputs": [],
   "source": [
    "print len(json_df)"
   ]
  },
  {
   "cell_type": "code",
   "execution_count": 27,
   "metadata": {
    "scrolled": true
   },
   "outputs": [
    {
     "name": "stdout",
     "output_type": "stream",
     "text": [
      "{\"acct_type\":\"fraudster_event\",\"approx_payout_date\":1266062400,\"body_length\":3852,\"channels\":5,\"country\":\"US\",\"currency\":\"USD\",\"delivery_method\":0.0,\"description\":\"<p><a href=\\\"http:\\/\\/s432.photobucket.com\\/albums\\/qq49\\/digusonline\\/?action=view&amp;current=supersunday.jpg\\\" target=\\\"_blank\\\"><img src=\\\"http:\\/\\/i432.photobucket.com\\/albums\\/qq49\\/digusonline\\/supersunday.jpg\\\" border=\\\"0\\\" alt=\\\"Photobucket\\\" \\/><\\/a><\\/p>\\r\\n<p>\\u00a0<\\/p>\\r\\n<p style=\\\"text-align: center;\\\"><font size=\\\"3\\\"><strong>Party Starz Entertaintment &amp; Diverse International Group Presents...<br \\/><\\/strong><\\/font><br \\/><font face=\\\"tahoma,arial,helvetica,sans-serif\\\" size=\\\"4\\\"><strong>The Official\\u00a0\\\"99 Hour No Sleep\\\" Super Bowl <\\/strong><\\/font><\\/p>\\r\\n<p style=\\\"text-align: center;\\\"><font face=\\\"tahoma,arial,helvetica,sans-serif\\\" size=\\\"4\\\"><strong>Weekend <\\/strong><\\/font><font face=\\\"tahoma,arial,helvetica,sans-serif\\\" size=\\\"4\\\"><strong>Grand Finale<\\/strong><\\/font><\\/p>\\r\\n<p><br \\/><span style=\\\"font-family: Times New Roman,serif;\\\"><font size=\\\"3\\\"><font face=\\\"tahoma,arial,helvetica,sans-serif\\\">No matter who wins or loses, this post-game party cannot be missed! Enjoy the drink specials and all night music!<strong>\\u00a0<\\/strong><\\/font><\\/font><span style=\\\"font-family: Times New Roman,serif;\\\"><font face=\\\"tahoma,arial,helvetica,sans-serif\\\" size=\\\"3\\\">The ultimate \\\"99 No Sleep\\\"\\u00a0Super Bowl Weekend Grand Finale! Sunday, February 7th, 2010 @ Ink Nightclub-South Beach (717 Washington Ave, Miami Bch, FL 33139).<\\/font><\\/span><\\/span><\\/p>\\r\\n<p><span style=\\\"font-family: Times New Roman,serif;\\\"><span style=\\\"font-family: Times New Roman,serif;\\\"><font face=\\\"tahoma,arial,helvetica,sans-serif\\\" size=\\\"3\\\">Hosted by 99 Jamz with special appearances by Fast Life Youngstaz. Special invited guests: Billy Blue, Dorrough and Brisco and with performances by various artist's and many many more at South Beach\\u00a0Miami's finest venue! This is a party you have to see to believe! This is everyone's last chance to make that impression, so don't\\u00a0half-step, bring your \\\"A\\\" game\\u00a0and party with\\u00a0all of the hottest artists, celebrities, models and superstar athletes that are guaranteed to be in the building!<\\/font><\\/span><\\/span><\\/p>\\r\\n<p><span style=\\\"font-family: Times New Roman,serif;\\\"><font size=\\\"3\\\"><span style=\\\"font-family: Times New Roman,serif;\\\"><font face=\\\"tahoma,arial,helvetica,sans-serif\\\">DJ Q &amp; DJ Slym will ber keepig the party jumping til the sun comes up with the hottest Hip-Hop, R&amp;B, Reggae, Old School and more. <\\/font><\\/span><\\/font><\\/span><\\/p>\\r\\n<p><span style=\\\"font-family: Times New Roman,serif;\\\"><font size=\\\"3\\\"><span style=\\\"font-family: Times New Roman,serif;\\\"><font face=\\\"tahoma,arial,helvetica,sans-serif\\\">Doors open @ 10pm. Ladies are 18+ and 21+ for Gents. 2-4-1 drinks until 1am, plus the best bottle specials ALL NIGHT LONG!!! We're offering\\u00a0Super Bowl game ticket stub discounts all night!<\\/font><\\/span><\\/font><\\/span><\\/p>\\r\\n<p><span style=\\\"font-family: Times New Roman,serif;\\\"><font size=\\\"3\\\"><span style=\\\"font-family: Times New Roman,serif;\\\"><font face=\\\"tahoma,arial,helvetica,sans-serif\\\">Dress code is\\u00a0enforced, but it's not what you wear but how you wear it!\\u00a0All-Night Drink Specials! For more information\\u00a0&amp; table reservations email<\\/font><\\/span><\\/font><\\/span><span style=\\\"font-family: Times New Roman,serif;\\\"><font size=\\\"3\\\"><span style=\\\"font-family: Times New Roman,serif;\\\"><font face=\\\"tahoma,arial,helvetica,sans-serif\\\">: <a href=\\\"mailto:99hrnosleepweekend@gmail.com\\\">99hrnosleepweekend@gmail.com<\\/a> or 305.742.4880.<\\/font><\\/span><\\/font><\\/span><\\/p>\\r\\n<p><span style=\\\"font-family: Times New Roman,serif;\\\"><\\/span><\\/p>\\r\\n<p>\\u00a0<\\/p>\\r\\n<p style=\\\"text-align: center;\\\"><span style=\\\"font-family: Times New Roman,serif;\\\"><font size=\\\"3\\\"><span style=\\\"font-family: Times New Roman,serif;\\\"><font face=\\\"tahoma,arial,helvetica,sans-serif\\\">This is a 99 Hour No Sleep Celebrity Super Bowl Weekend event! <a \\r\\n<p>\\u00a0<\\/p>\",\"email_domain\":\"gmail.com\",\"event_created\":1262739706,\"event_end\":1265630400,\"event_published\":1263109838.0,\"event_start\":1265594400,\"fb_published\":0,\"gts\":0.0,\"has_analytics\":0,\"has_header\":1.0,\"has_logo\":0,\"listed\":\"y\",\"name\":\"99 HOUR \\\"NO SLEEP\\\" SUPER BOWL CELEBRITY WEEKEND GRAND FINALE\",\"name_length\":60,\"num_order\":0,\"num_payouts\":0,\"object_id\":527017,\"org_desc\":\"\",\"org_facebook\":0.0,\"org_name\":\"Party Starz Ent & Diverse Int'l Group\",\"org_twitter\":0.0,\"payee_name\":\"\",\"payout_type\":\"\",\"previous_payouts\":[],\"sale_duration\":29.0,\"sale_duration2\":33,\"show_map\":1,\"ticket_types\":[{\"event_id\":527017,\"cost\":25.0,\"availability\":1,\"quantity_total\":800,\"quantity_sold\":0},{\"event_id\":527017,\"cost\":50.0,\"availability\":1,\"quantity_total\":100,\"quantity_sold\":0},{\"event_id\":527017,\"cost\":550.0,\"availability\":1,\"quantity_total\":20,\"quantity_sold\":0}],\"user_age\":36,\"user_created\":1259613950,\"user_type\":1,\"venue_address\":\"717 Washington Avenue\",\"venue_country\":\"US\",\"venue_latitude\":25.777471,\"venue_longitude\":-80.1334329,\"venue_name\":\"INK Nightclub - South Beach\",\"venue_state\":\"FL\"}\n",
      "\n",
      "{\"acct_type\":\"premium\",\"approx_payout_date\":1296720000,\"body_length\":3499,\"channels\":0,\"country\":\"US\",\"currency\":\"USD\",\"delivery_method\":1.0,\"description\":\"<p>Join us for a quick, one-night, community-building trip to Charleston, SC.<\\/p>\\r\\n<p><strong>COST:<\\/strong><\\/p>\\r\\n<p>The trip costs a total of $35, which includes breakfast and lunch on Saturday and housing. You will be responsible to pay for your own dinner on Friday and Saturday. Early Bird tickets are available until noon on January 20 and include a great Winter Getaway T-Shirt. So don't wait to register!<\\/p>\\r\\n<p>Registration ends at noon on January 27.<\\/p>\\r\\n<p>A <em>very limited number<\\/em> of scholarships are available. Contact your campus minister as soon as possible to see if you qualify.<\\/p>\\r\\n<p><strong>TRANSPORTATION:<\\/strong><\\/p>\\r\\n<p>We are working to secure two fifteen passenger buses, which will be filled on a first-come, first-served basis. Payment must be received before a slot on a bus can be reserved. You will be responsible for your own transportation if a bus slot is not available.<\\/p>\\r\\n<p><strong>WHAT TO BRING:<\\/strong><\\/p>\\r\\n<p>We will be staying in the gym of <a href=\\\"http:\\/\\/www.metronorthpca.org\\/\\\">Metro North Presbyterian Church<\\/a> in Goose Creek, SC, and showering (maybe) at various members homes. You will want to bring an air mattress, sleeping bag, towel, and anything else you might need to get a good nights sleep on a cold gym floor.<\\/p>\\r\\n<p>You will also need to bring money for dinner on Friday and Saturday night.<\\/p>\\r\\n<p><strong>WHAT WE'RE DOING:<\\/strong><\\/p>\\r\\n<p>Here is our general (and tentative) itinerary:<\\/p>\\r\\n<p><span style=\\\"text-decoration: underline;\\\">Friday<\\/span><\\/p>\\r\\n<p>3pm - Leave from the Dinkins Parking Lot at Winthrop University<br \\/>6pm - Arrive at Metro North Church and drop off belongings<br \\/>8pm - Eat dinner in downtown Charleston, hang out<br \\/>11pm - Return to Metro North, sleep<\\/p>\\r\\n<p><span style=\\\"text-decoration: underline;\\\">Saturday<\\/span><\\/p>\\r\\n<p>9am - Breakfast<br \\/>10am - Seminar on Faith in Life<br \\/>11am - Pack, clean up, load up\\u00a0<br \\/>noon - Lunch<br \\/>1pm - Head to the beach<br \\/>5pm - Head back to downtown Charleston (dinner on your own)<br \\/>9pm - Leave for Rock Hill\\u00a0<br \\/>midnight - Arrive in home\\u00a0<\\/p>\\r\\n<p><strong>WAIVERS<\\/strong><\\/p>\\r\\n<p>By registering for this conference, you hereby acknowledge your agreement to the following waivers:<\\/p>\\r\\n<p><span style=\\\"text-decoration: underline;\\\">Emergency Waiver<\\/span><\\/p>\\r\\n<p>I the attendee hereby authorize the staff of Reformed University Fellowship at Winthrop to act as my agent to consent to medical, surgical, or dental examination and\\/or treatment. In case of emergency, I hereby authorize treatment and\\/or care at any hospital.<\\/p>\\r\\n<p><span style=\\\"text-decoration: underline;\\\">Insurance and Liability Waiver<\\/span><\\/p>\\r\\n<p><span>In consideration of my being allowed to participate in the Winthrop RUF Winter Getaway, I hereby assume all risks involved in my participation in this event. I understand that I will be responsible for any medical expenses for myself and waive any legal right or claim I or my family might have against Reformed University Fellowship\\/Ministries, its staff, or Board of Directors, as a result of any injury incurred or death by participation in activities or travel to or from the 2011 Winter Getaway. I agree that the foregoing insurance and liability waiver agreement is intended to be as broad and inclusive as is permitted by law in the State\\/Province in which the event is conducted and that if any portion thereof is held invalid it is agreed that the balance shall continue in full force and effect.\\u00a0<\\/span><\\/p>\",\"email_domain\":\"ruf.org\",\"event_created\":1293832670,\"event_end\":1296288000,\"event_published\":1293833295.0,\"event_start\":1296255600,\"fb_published\":0,\"gts\":868.02,\"has_analytics\":0,\"has_header\":0.0,\"has_logo\":1,\"listed\":\"n\",\"name\":\"Winthrop RUF Winter Getaway\",\"name_length\":27,\"num_order\":23,\"num_payouts\":1,\"object_id\":786878,\"org_desc\":\"<p>Since 1987, RUF has ministered to students at Winthrop, giving a well-developed, heart-felt witness to the person and work of Jesus Christ. We long to cultivate mature relationships among students that manifest themselves in a love for others, a heart for service, and a deep intimacy with the Living God. As God deals with us through His Word and through each other, we hope to see the Kingdom of God advance beyond the walls of Winthrop into the community at large. We invite you to be a part of God\\u2019s work in, with, and through RUF at Winthrop.<\\/p>\",\"org_facebook\":0.0,\"org_name\":\"RUF at Winthrop University\",\"org_twitter\":12.0,\"payee_name\":\"RUF\",\"payout_type\":\"CHECK\",\"previous_payouts\":[{\"name\":\"RUF\",\"created\":\"2010-10-01 01:10:09\",\"country\":\"US\",\"state\":\"GA\",\"amount\":34389.38,\"address\":\"1700 North Brown Road\",\"zip_code\":\"30043\",\"event\":786869,\"uid\":5419068},{\"name\":\"RUF\",\"created\":\"2011-02-02 01:12:10\",\"country\":\"US\",\"state\":\"GA\",\"amount\":764.93,\"address\":\"1700 North Brown Road\",\"zip_code\":\"30043\",\"event\":786878,\"uid\":5419068},{\"name\":\"RUF\",\"created\":\"2011-03-15 01:30:42\",\"country\":\"US\",\"state\":\"GA\",\"amount\":17405.26,\"address\":\"1700 North Brown Road\",\"zip_code\":\"30043\",\"event\":1181203,\"uid\":5419068},{\"name\":\"RUF\",\"created\":\"2011-03-15 01:30:42\",\"country\":\"US\",\"state\":\"GA\",\"amount\":2224.16,\"address\":\"1700 North Brown Road\",\"zip_code\":\"30043\",\"event\":1293213,\"uid\":5419068},{\"name\":\"RUF\",\"created\":\"2011-04-01 01:30:31\",\"country\":\"US\",\"state\":\"GA\",\"amount\":5370.58,\"address\":\"1700 North Brown Road\",\"zip_code\":\"30043\",\"event\":1181203,\"uid\":5419068},{\"name\":\"RUF\",\"created\":\"2011-05-01 01:30:48\",\"country\":\"US\",\"state\":\"GA\",\"amount\":81511.89,\"address\":\"1700 North Brown Road\",\"zip_code\":\"30043\",\"event\":1181203,\"uid\":5419068},{\"name\":\"RUF\",\"created\":\"2011-05-01 01:30:48\",\"country\":\"US\",\"state\":\"GA\",\"amount\":86855.8,\"address\":\"1700 North Brown Road\",\"zip_code\":\"30043\",\"event\":1293213,\"uid\":5419068},{\"name\":\"RUF\",\"created\":\"2011-05-15 01:30:31\",\"country\":\"US\",\"state\":\"GA\",\"amount\":3095.08,\"address\":\"1700 North Brown Road\",\"zip_code\":\"30043\",\"event\":1293213,\"uid\":5419068},{\"name\":\"RUF\",\"created\":\"2011-05-19 01:13:14\",\"country\":\"US\",\"state\":\"GA\",\"amount\":40833.14,\"address\":\"1700 North Brown Road\",\"zip_code\":\"30043\",\"event\":1181203,\"uid\":5419068},{\"name\":\"RUF\",\"created\":\"2011-05-26 01:12:49\",\"country\":\"US\",\"state\":\"GA\",\"amount\":25751.65,\"address\":\"1700 North Brown Road\",\"zip_code\":\"30043\",\"event\":1293213,\"uid\":5419068},{\"name\":\"RUF\",\"created\":\"2011-08-15 01:30:34\",\"country\":\"US\",\"state\":\"GA\",\"amount\":261.89,\"address\":\"1700 North Brown Road\",\"zip_code\":\"30043\",\"event\":1225457,\"uid\":5419068},{\"name\":\"RUF\",\"created\":\"2011-08-23 01:10:51\",\"country\":\"US\",\"state\":\"GA\",\"amount\":32.5,\"address\":\"1700 North Brown Road\",\"zip_code\":\"30043\",\"event\":1225457,\"uid\":5419068},{\"name\":\"RUF\",\"created\":\"2011-09-01 01:30:49\",\"country\":\"US\",\"state\":\"GA\",\"amount\":2318.73,\"address\":\"1700 North Brown Road\",\"zip_code\":\"30043\",\"event\":1988623,\"uid\":5419068},{\"name\":\"RUF\",\"created\":\"2011-09-15 01:30:27\",\"country\":\"US\",\"state\":\"GA\",\"amount\":21481.32,\"address\":\"1700 North Brown Road\",\"zip_code\":\"30043\",\"event\":1988623,\"uid\":5419068},{\"name\":\"RUF\",\"created\":\"2011-09-30 01:11:01\",\"country\":\"US\",\"state\":\"GA\",\"amount\":16142.47,\"address\":\"1700 North Brown Road\",\"zip_code\":\"30043\",\"event\":1988623,\"uid\":5419068},{\"name\":\"RUF\",\"created\":\"2011-10-01 01:30:29\",\"country\":\"US\",\"state\":\"GA\",\"amount\":132.04,\"address\":\"1700 North Brown Road\",\"zip_code\":\"30043\",\"event\":2218060,\"uid\":5419068},{\"name\":\"RUF\",\"created\":\"2011-10-15 01:30:25\",\"country\":\"US\",\"state\":\"GA\",\"amount\":793.81,\"address\":\"1700 North Brown Road\",\"zip_code\":\"30043\",\"event\":2218060,\"uid\":5419068},{\"name\":\"RUF\",\"created\":\"2011-10-21 01:11:23\",\"country\":\"US\",\"state\":\"GA\",\"amount\":113.0,\"address\":\"1700 North Brown Road\",\"zip_code\":\"30043\",\"event\":2218060,\"uid\":5419068},{\"name\":\"RUF\",\"created\":\"2012-02-01 03:30:53\",\"country\":\"US\",\"state\":\"GA\",\"amount\":7032.66,\"address\":\"1700 North Brown Road\",\"zip_code\":\"30043\",\"event\":2759189,\"uid\":5419068},{\"name\":\"RUF\",\"created\":\"2012-02-01 03:30:53\",\"country\":\"US\",\"state\":\"GA\",\"amount\":1876.73,\"address\":\"1700 North Brown Road\",\"zip_code\":\"30043\",\"event\":2804299,\"uid\":5419068},{\"name\":\"RUF\",\"created\":\"2012-02-02 03:12:43\",\"country\":\"US\",\"state\":\"GA\",\"amount\":146.13,\"address\":\"1700 North Brown Road\",\"zip_code\":\"30043\",\"event\":2738145,\"uid\":5419068},{\"name\":\"RUF \",\"created\":\"2012-02-15 03:30:44\",\"country\":\"US\",\"state\":\"GA\",\"amount\":263.93,\"address\":\"1700 North Brown Road\",\"zip_code\":\"30043\",\"event\":2707505,\"uid\":5419068},{\"name\":\"RUF\",\"created\":\"2012-02-15 03:30:44\",\"country\":\"US\",\"state\":\"GA\",\"amount\":5425.92,\"address\":\"1700 North Brown Road\",\"zip_code\":\"30043\",\"event\":2759189,\"uid\":5419068},{\"name\":\"RUF\",\"created\":\"2012-02-17 03:12:04\",\"country\":\"US\",\"state\":\"GA\",\"amount\":5848.27,\"address\":\"1700 North Brown Road\",\"zip_code\":\"30043\",\"event\":2804299,\"uid\":5419068},{\"name\":\"RUF\",\"created\":\"2012-03-02 03:12:11\",\"country\":\"US\",\"state\":\"GA\",\"amount\":3984.25,\"address\":\"1700 North Brown Road\",\"zip_code\":\"30043\",\"event\":2759189,\"uid\":5419068},{\"name\":\"RUF\",\"created\":\"2012-03-15 03:30:49\",\"country\":\"US\",\"state\":\"GA\",\"amount\":29683.73,\"address\":\"1700 North Brown Road\",\"zip_code\":\"30043\",\"event\":2760853,\"uid\":5419068},{\"name\":\"RUF\",\"created\":\"2012-03-15 03:30:49\",\"country\":\"US\",\"state\":\"GA\",\"amount\":10379.33,\"address\":\"1700 North Brown Road\",\"zip_code\":\"30043\",\"event\":3049167,\"uid\":5419068},{\"name\":\"RUF \",\"created\":\"2012-03-29 03:13:28\",\"country\":\"US\",\"state\":\"GA\",\"amount\":31.07,\"address\":\"1700 North Brown Road\",\"zip_code\":\"30043\",\"event\":2707505,\"uid\":5419068},{\"name\":\"RUF\",\"created\":\"2012-04-01 03:30:55\",\"country\":\"US\",\"state\":\"GA\",\"amount\":43465.59,\"address\":\"1700 North Brown Road\",\"zip_code\":\"30043\",\"event\":2760853,\"uid\":5419068},{\"name\":\"RUF\",\"created\":\"2012-04-01 03:30:55\",\"country\":\"US\",\"state\":\"GA\",\"amount\":16894.06,\"address\":\"1700 North Brown Road\",\"zip_code\":\"30043\",\"event\":3049167,\"uid\":5419068},{\"name\":\"RUF\",\"created\":\"2012-04-15 03:30:47\",\"country\":\"US\",\"state\":\"GA\",\"amount\":46518.9,\"address\":\"1700 North Brown Road\",\"zip_code\":\"30043\",\"event\":2760853,\"uid\":5419068},{\"name\":\"RUF\",\"created\":\"2012-04-15 03:30:47\",\"country\":\"US\",\"state\":\"GA\",\"amount\":35955.38,\"address\":\"1700 North Brown Road\",\"zip_code\":\"30043\",\"event\":3049167,\"uid\":5419068},{\"name\":\"RUF\",\"created\":\"2012-05-01 03:30:54\",\"country\":\"US\",\"state\":\"GA\",\"amount\":2537.13,\"address\":\"1700 North Brown Road\",\"zip_code\":\"30043\",\"event\":2760853,\"uid\":5419068},{\"name\":\"RUF\",\"created\":\"2012-05-01 03:30:54\",\"country\":\"US\",\"state\":\"GA\",\"amount\":14565.88,\"address\":\"1700 North Brown Road\",\"zip_code\":\"30043\",\"event\":3049167,\"uid\":5419068},{\"name\":\"RUF\",\"created\":\"2012-05-15 03:30:53\",\"country\":\"US\",\"state\":\"GA\",\"amount\":71314.81,\"address\":\"1700 North Brown Road\",\"zip_code\":\"30043\",\"event\":3049167,\"uid\":5419068},{\"name\":\"RUF\",\"created\":\"2012-05-17 03:14:19\",\"country\":\"US\",\"state\":\"GA\",\"amount\":37586.56,\"address\":\"1700 North Brown Road\",\"zip_code\":\"30043\",\"event\":2760853,\"uid\":5419068},{\"name\":\"RUF\",\"created\":\"2012-05-24 03:13:12\",\"country\":\"US\",\"state\":\"GA\",\"amount\":18560.8,\"address\":\"1700 North Brown Road\",\"zip_code\":\"30043\",\"event\":3049167,\"uid\":5419068},{\"name\":\"RUF\",\"created\":\"2012-09-01 03:30:39\",\"country\":\"US\",\"state\":\"GA\",\"amount\":4965.98,\"address\":\"1700 North Brown Road\",\"zip_code\":\"30043\",\"event\":3877318,\"uid\":5419068},{\"name\":\"RUF\",\"created\":\"2012-09-15 03:30:38\",\"country\":\"US\",\"state\":\"GA\",\"amount\":2029.86,\"address\":\"1700 North Brown Road\",\"zip_code\":\"30043\",\"event\":2831243,\"uid\":5419068},{\"name\":\"RUF\",\"created\":\"2012-09-15 03:30:38\",\"country\":\"US\",\"state\":\"GA\",\"amount\":28205.81,\"address\":\"1700 North Brown Road\",\"zip_code\":\"30043\",\"event\":3877318,\"uid\":5419068},{\"name\":\"RUF\",\"created\":\"2012-09-28 03:16:13\",\"country\":\"US\",\"state\":\"GA\",\"amount\":14120.8,\"address\":\"1700 North Brown Road\",\"zip_code\":\"30043\",\"event\":3877318,\"uid\":5419068},{\"name\":\"RUF\",\"created\":\"2012-10-05 03:17:30\",\"country\":\"US\",\"state\":\"GA\",\"amount\":4242.5,\"address\":\"1700 North Brown Road\",\"zip_code\":\"30043\",\"event\":2831243,\"uid\":5419068},{\"name\":\"RUF\",\"created\":\"2012-10-18 03:14:48\",\"country\":\"US\",\"state\":\"GA\",\"amount\":4832.31,\"address\":\"1700 North Brown Road\",\"zip_code\":\"30043\",\"event\":4256932,\"uid\":5419068},{\"name\":\"RUF\",\"created\":\"2013-09-01 03:32:05\",\"country\":\"US\",\"state\":\"GA\",\"amount\":37.26,\"address\":\"1700 North Brown Road\",\"zip_code\":\"30043\",\"event\":4909773,\"uid\":5419068},{\"name\":\"RUF\",\"created\":\"2013-09-01 03:32:06\",\"country\":\"US\",\"state\":\"GA\",\"amount\":4361.34,\"address\":\"1700 North Brown Road\",\"zip_code\":\"30043\",\"event\":7579105,\"uid\":5419068},{\"name\":\"RUF\",\"created\":\"2013-09-15 03:30:55\",\"country\":\"US\",\"state\":\"GA\",\"amount\":664.72,\"address\":\"1700 North Brown Road\",\"zip_code\":\"30043\",\"event\":4909773,\"uid\":5419068},{\"name\":\"RUF\",\"created\":\"2013-09-15 03:30:55\",\"country\":\"US\",\"state\":\"GA\",\"amount\":28941.9,\"address\":\"1700 North Brown Road\",\"zip_code\":\"30043\",\"event\":7579105,\"uid\":5419068},{\"name\":\"RUF\",\"created\":\"2013-09-27 03:13:28\",\"country\":\"US\",\"state\":\"GA\",\"amount\":14657.28,\"address\":\"1700 North Brown Road\",\"zip_code\":\"30043\",\"event\":7579105,\"uid\":5419068},{\"name\":\"RUF\",\"created\":\"2013-10-04 03:12:18\",\"country\":\"US\",\"state\":\"GA\",\"amount\":4715.34,\"address\":\"1700 North Brown Road\",\"zip_code\":\"30043\",\"event\":4909773,\"uid\":5419068}],\"sale_duration\":28.0,\"sale_duration2\":28,\"show_map\":0,\"ticket_types\":[{\"event_id\":786878,\"cost\":35.0,\"availability\":1,\"quantity_total\":50,\"quantity_sold\":22},{\"event_id\":786878,\"cost\":35.0,\"availability\":1,\"quantity_total\":50,\"quantity_sold\":3}],\"user_age\":149,\"user_created\":1280942776,\"user_type\":3,\"venue_address\":\"\",\"venue_country\":\"US\",\"venue_latitude\":32.7765656,\"venue_longitude\":-79.9309216,\"venue_name\":\"The Charleston, SC area\",\"venue_state\":\"SC\"}\n"
     ]
    }
   ],
   "source": [
    "json_ex1 = json_df.iloc[0,:].to_json()\n",
    "json_ex2 = json_df.iloc[1,:].to_json()\n",
    "# my_json=pd.concat([json_ex1, json_ex2], axis=1).to_frame()\n",
    "# my_json = .to_json()\n",
    "# a = pd.read_json(my_json)\n",
    "# my_json.head()\n",
    "# a = pd.read_json('{' + json_ex1 + ',' + json_ex2 + '}')\n",
    "print json_ex1\n",
    "print\n",
    "print json_ex2"
   ]
  },
  {
   "cell_type": "code",
   "execution_count": null,
   "metadata": {},
   "outputs": [],
   "source": [
    "b = pd.DataFrame(a)\n",
    "print b"
   ]
  },
  {
   "cell_type": "code",
   "execution_count": null,
   "metadata": {},
   "outputs": [],
   "source": [
    "from src.pipeline import pipeline_json\n",
    "pj = pipeline_json(my_json)\n",
    "X = pj.convert_to_df(scaling=True, filtered=True)\n",
    "y = pj.output_labelarray()"
   ]
  },
  {
   "cell_type": "code",
   "execution_count": null,
   "metadata": {
    "scrolled": false
   },
   "outputs": [],
   "source": [
    "date_cols = ['approx_payout_date', 'event_created', 'event_created', 'event_end', \\\n",
    "             'event_published', 'event_start', 'user_created']\n",
    "for col in date_cols:\n",
    "    a[col] = pd.to_datetime(a[col], unit='s')\n",
    "    \n",
    "a"
   ]
  },
  {
   "cell_type": "code",
   "execution_count": null,
   "metadata": {},
   "outputs": [],
   "source": [
    "a['acct_type']\n"
   ]
  },
  {
   "cell_type": "code",
   "execution_count": 29,
   "metadata": {},
   "outputs": [
    {
     "ename": "TypeError",
     "evalue": "expected string or buffer",
     "output_type": "error",
     "traceback": [
      "\u001b[0;31m---------------------------------------------------------------------------\u001b[0m",
      "\u001b[0;31mTypeError\u001b[0m                                 Traceback (most recent call last)",
      "\u001b[0;32m<ipython-input-29-13e4fe83b0ff>\u001b[0m in \u001b[0;36m<module>\u001b[0;34m()\u001b[0m\n\u001b[1;32m      3\u001b[0m \u001b[0;34m\u001b[0m\u001b[0m\n\u001b[1;32m      4\u001b[0m \u001b[0mresponse\u001b[0m \u001b[0;34m=\u001b[0m \u001b[0mrequests\u001b[0m\u001b[0;34m.\u001b[0m\u001b[0mget\u001b[0m\u001b[0;34m(\u001b[0m\u001b[0;34m'http://galvanize-case-study-on-fraud.herokuapp.com/data_point'\u001b[0m\u001b[0;34m)\u001b[0m\u001b[0;34m\u001b[0m\u001b[0m\n\u001b[0;32m----> 5\u001b[0;31m \u001b[0mjson_data\u001b[0m \u001b[0;34m=\u001b[0m \u001b[0mjson\u001b[0m\u001b[0;34m.\u001b[0m\u001b[0mloads\u001b[0m\u001b[0;34m(\u001b[0m\u001b[0mresponse\u001b[0m\u001b[0;34m)\u001b[0m\u001b[0;34m\u001b[0m\u001b[0m\n\u001b[0m",
      "\u001b[0;32m/Users/wallace/anaconda2/lib/python2.7/json/__init__.pyc\u001b[0m in \u001b[0;36mloads\u001b[0;34m(s, encoding, cls, object_hook, parse_float, parse_int, parse_constant, object_pairs_hook, **kw)\u001b[0m\n\u001b[1;32m    337\u001b[0m             \u001b[0mparse_int\u001b[0m \u001b[0;32mis\u001b[0m \u001b[0mNone\u001b[0m \u001b[0;32mand\u001b[0m \u001b[0mparse_float\u001b[0m \u001b[0;32mis\u001b[0m \u001b[0mNone\u001b[0m \u001b[0;32mand\u001b[0m\u001b[0;34m\u001b[0m\u001b[0m\n\u001b[1;32m    338\u001b[0m             parse_constant is None and object_pairs_hook is None and not kw):\n\u001b[0;32m--> 339\u001b[0;31m         \u001b[0;32mreturn\u001b[0m \u001b[0m_default_decoder\u001b[0m\u001b[0;34m.\u001b[0m\u001b[0mdecode\u001b[0m\u001b[0;34m(\u001b[0m\u001b[0ms\u001b[0m\u001b[0;34m)\u001b[0m\u001b[0;34m\u001b[0m\u001b[0m\n\u001b[0m\u001b[1;32m    340\u001b[0m     \u001b[0;32mif\u001b[0m \u001b[0mcls\u001b[0m \u001b[0;32mis\u001b[0m \u001b[0mNone\u001b[0m\u001b[0;34m:\u001b[0m\u001b[0;34m\u001b[0m\u001b[0m\n\u001b[1;32m    341\u001b[0m         \u001b[0mcls\u001b[0m \u001b[0;34m=\u001b[0m \u001b[0mJSONDecoder\u001b[0m\u001b[0;34m\u001b[0m\u001b[0m\n",
      "\u001b[0;32m/Users/wallace/anaconda2/lib/python2.7/json/decoder.pyc\u001b[0m in \u001b[0;36mdecode\u001b[0;34m(self, s, _w)\u001b[0m\n\u001b[1;32m    362\u001b[0m \u001b[0;34m\u001b[0m\u001b[0m\n\u001b[1;32m    363\u001b[0m         \"\"\"\n\u001b[0;32m--> 364\u001b[0;31m         \u001b[0mobj\u001b[0m\u001b[0;34m,\u001b[0m \u001b[0mend\u001b[0m \u001b[0;34m=\u001b[0m \u001b[0mself\u001b[0m\u001b[0;34m.\u001b[0m\u001b[0mraw_decode\u001b[0m\u001b[0;34m(\u001b[0m\u001b[0ms\u001b[0m\u001b[0;34m,\u001b[0m \u001b[0midx\u001b[0m\u001b[0;34m=\u001b[0m\u001b[0m_w\u001b[0m\u001b[0;34m(\u001b[0m\u001b[0ms\u001b[0m\u001b[0;34m,\u001b[0m \u001b[0;36m0\u001b[0m\u001b[0;34m)\u001b[0m\u001b[0;34m.\u001b[0m\u001b[0mend\u001b[0m\u001b[0;34m(\u001b[0m\u001b[0;34m)\u001b[0m\u001b[0;34m)\u001b[0m\u001b[0;34m\u001b[0m\u001b[0m\n\u001b[0m\u001b[1;32m    365\u001b[0m         \u001b[0mend\u001b[0m \u001b[0;34m=\u001b[0m \u001b[0m_w\u001b[0m\u001b[0;34m(\u001b[0m\u001b[0ms\u001b[0m\u001b[0;34m,\u001b[0m \u001b[0mend\u001b[0m\u001b[0;34m)\u001b[0m\u001b[0;34m.\u001b[0m\u001b[0mend\u001b[0m\u001b[0;34m(\u001b[0m\u001b[0;34m)\u001b[0m\u001b[0;34m\u001b[0m\u001b[0m\n\u001b[1;32m    366\u001b[0m         \u001b[0;32mif\u001b[0m \u001b[0mend\u001b[0m \u001b[0;34m!=\u001b[0m \u001b[0mlen\u001b[0m\u001b[0;34m(\u001b[0m\u001b[0ms\u001b[0m\u001b[0;34m)\u001b[0m\u001b[0;34m:\u001b[0m\u001b[0;34m\u001b[0m\u001b[0m\n",
      "\u001b[0;31mTypeError\u001b[0m: expected string or buffer"
     ]
    }
   ],
   "source": []
  },
  {
   "cell_type": "code",
   "execution_count": 37,
   "metadata": {},
   "outputs": [
    {
     "name": "stdout",
     "output_type": "stream",
     "text": [
      "{\n",
      "  \"approx_payout_date\": 1358564400, \n",
      "  \"body_length\": 1029, \n",
      "  \"channels\": 12, \n",
      "  \"country\": \"US\", \n",
      "  \"currency\": \"USD\", \n",
      "  \"delivery_method\": 0.0, \n",
      "  \"description\": \"<p><span><span class=\\\"fsl\\\">Join us for a day of community service, lunch, and a Broadway show! <br /> <br /> Details: <br /> <br /> 11:15 AM @ Dorot <br /> <br /> Meet at DOROT at 11:15am to distribute gifts to the elderly. <br /> 171 West 85th Street (Near Amsterdam Avenue)<br /> <br /> Group Lunch @ Dorot<br /> <br /> 3pm- Performance of My Name Is Asher Lev <br /> Venue: Westside Theatre<br /> Location: 407 W. 43rd St.<br /> <span style=\\\"font-size: large;\\\"><strong>$15 +  fees</strong></span><br /> w/ a Q&amp;A after the show <br /> <br /> </span></span></p>\\r\\n<p><span><span class=\\\"fsl\\\"><strong>This tickets will only be distributed at Dorot.</strong> <br /></span></span></p>\\r\\n<p><span><span class=\\\"fsl\\\"><br /></span></span></p>\\r\\n<p><span><span class=\\\"fsl\\\">For more information and to reserve a ticket as well as reserve a spot for the community service project with Dorot please contact :<br /> <br /> Sam Schachter (<a href=\\\"mailto:hillel@hunter.cuny.du\\\">Hillel@hunter.cuny.edu</a>) <br /> </span></span></p>\", \n",
      "  \"email_domain\": \"hunter.cuny.edu\", \n",
      "  \"event_created\": 1355343000, \n",
      "  \"event_end\": 1358132400, \n",
      "  \"event_published\": 1355343645.0, \n",
      "  \"event_start\": 1358118000, \n",
      "  \"fb_published\": 0, \n",
      "  \"gts\": 548.97, \n",
      "  \"has_analytics\": 0, \n",
      "  \"has_header\": 0.0, \n",
      "  \"has_logo\": 1, \n",
      "  \"listed\": \"y\", \n",
      "  \"name\": \"Distribute gifts to elderly/ ticket to My Name Is Asher Lev admission\\r\\n(CUNY Hillel and Dorot) \", \n",
      "  \"name_length\": 95, \n",
      "  \"num_order\": 23, \n",
      "  \"num_payouts\": 0, \n",
      "  \"object_id\": 5018316, \n",
      "  \"org_desc\": \"<h2>What is Hunter Hillel?</h2>\\r\\n<p>\\u00a0</p>\\r\\n<p>Walking through the hallways of Hunter College can be extremely intimidating. There are 20,000 students on individual missions, whether it be running to class, heading to the OASIS to conquer Hunter College bureaucracy, or just looking for a friend. In the craziness that is Hunter College, it can be difficult to find a place to call home.</p>\\r\\n<p>Hillel is well known on campus for being one of the most dynamic, active and welcoming student organizations at Hunter College. Celebrating the Jewish experience is our top priority, and we've created a warm environment that gives students the means to do so in fun and exciting ways.</p>\\r\\n<p>We take great pride in the social, spiritual and intellectual growth that students realize during their time spent with Hillel. Because of the countless events we host throughout the year, students have ample opportunities to explore Judaism and connect with a friendly, diverse group of people.</p>\\r\\n<p>We encourage you to learn more and discover how Hunter Hillel can impact your life.</p>\\r\\n<p>\\u00a0</p>\\r\\n<p>Dorot</p>\\r\\n<p><span>For more than three decades, DOROT has been an innovative leader in the fields of aging services and volunteerism. Building upon this success, we initiated a strategic planning process with the overriding goal of strengthening our ability to carry out our core mission.<br /><br /> The strategic plan, adopted by DOROT\\u2019s Board of Directors in March 2011, is guided by the Vision, Mission and Values as set forth below. The Mission Statement highlights DOROT\\u2019s belief that reducing social isolation, along with providing concrete services, has a powerful effect on improving the lives and health of older adults. In revising the Mission Statement, we wanted to give more prominence to the intent that underlies all we do, and emphasize the real impact our programs have on enabling seniors to live with dignity, independence and improved health in the community. In an era of concern over rapidly rising health care costs and a nation that is rapidly aging, our work will have increasing importance.<br /><br /> <strong>Vision</strong><br /> DOROT will be an innovative leader in mobilizing volunteers of all ages to improve the lives and health of the elderly, addressing the challenges of an aging society.<br /><br /> <strong>Mission</strong><br /> DOROT alleviates social isolation among the elderly and provides services to help them live independently as valued members of the community. We serve the Jewish and wider community, bringing the generations together in a mutually beneficial partnership of elders, volunteers and professionals. Our work provides an effective model for others.<br /><br /> <strong>Values</strong></span></p>\\r\\n<ol style=\\\"margin-top: 0px;\\\" type=\\\"1\\\">\\r\\n<li><em>Jewish Communal Responsibility</em><br /> Affirming our commitment to honor the older members of the community, by bringing the generations together</li>\\r\\n<li><em>Commitment to Excellence</em><br /> Upholding the highest of standards in all that we do</li>\\r\\n<li><em>Compassion</em><br /> Connecting personally with sensitivity and concern to provide exceptional care</li>\\r\\n<li><em>Making a Difference</em><br /> Having a demonstrable impact in the lives of the people we serve</li>\\r\\n<li><em>Integrity</em><br /> Being worthy of the trust of all our constituents</li>\\r\\n<li><em>Innovation</em><br /> Being dedicated to learning and to creatively addressing the evolving needs of the elder and volunteer communities</li>\\r\\n</ol>\", \n",
      "  \"org_facebook\": 0.0, \n",
      "  \"org_name\": \"Hunter College Hillel \", \n",
      "  \"org_twitter\": 0.0, \n",
      "  \"payee_name\": \"Hunter Hillel \", \n",
      "  \"payout_type\": \"CHECK\", \n",
      "  \"previous_payouts\": [\n",
      "    {\n",
      "      \"address\": \"695 Park Ave \", \n",
      "      \"amount\": 493.0, \n",
      "      \"country\": \"US\", \n",
      "      \"created\": \"2013-01-18 03:12:35\", \n",
      "      \"event\": 5018316, \n",
      "      \"name\": \"Hunter Hillel \", \n",
      "      \"state\": \"NY\", \n",
      "      \"uid\": 32413461, \n",
      "      \"zip_code\": \"10065\"\n",
      "    }\n",
      "  ], \n",
      "  \"sale_duration\": 32.0, \n",
      "  \"sale_duration2\": 32, \n",
      "  \"show_map\": 1, \n",
      "  \"ticket_types\": [\n",
      "    {\n",
      "      \"availability\": 1, \n",
      "      \"cost\": 17.0, \n",
      "      \"event_id\": 5018316, \n",
      "      \"quantity_sold\": 29, \n",
      "      \"quantity_total\": 29\n",
      "    }\n",
      "  ], \n",
      "  \"user_age\": 226, \n",
      "  \"user_created\": 1335804666, \n",
      "  \"user_type\": 4, \n",
      "  \"venue_address\": \"407 W 43rd St. \", \n",
      "  \"venue_country\": \"\", \n",
      "  \"venue_latitude\": 41.8163186, \n",
      "  \"venue_longitude\": -87.6367942, \n",
      "  \"venue_name\": \"Westside Theater \", \n",
      "  \"venue_state\": \"\"\n",
      "}\n",
      "\n"
     ]
    }
   ],
   "source": [
    "print response.content\n"
   ]
  },
  {
   "cell_type": "code",
   "execution_count": 33,
   "metadata": {},
   "outputs": [],
   "source": [
    "from src.pipeline import pipeline_json\n",
    "# pj = pipeline_json(my_json)\n",
    "# X = pj.convert_to_df(scaling=True, filtered=True)\n",
    "# y = pj.output_labelarray()\n",
    "pj = pipeline_json(response.content)\n",
    "X = pj.convert_to_df(scaling=True, filtered=True)"
   ]
  },
  {
   "cell_type": "code",
   "execution_count": 34,
   "metadata": {},
   "outputs": [
    {
     "ename": "KeyError",
     "evalue": "'acct_type'",
     "output_type": "error",
     "traceback": [
      "\u001b[0;31m---------------------------------------------------------------------------\u001b[0m",
      "\u001b[0;31mKeyError\u001b[0m                                  Traceback (most recent call last)",
      "\u001b[0;32m<ipython-input-34-e60858a9409d>\u001b[0m in \u001b[0;36m<module>\u001b[0;34m()\u001b[0m\n\u001b[0;32m----> 1\u001b[0;31m \u001b[0mX\u001b[0m \u001b[0;34m=\u001b[0m \u001b[0mpj\u001b[0m\u001b[0;34m.\u001b[0m\u001b[0mconvert_to_df\u001b[0m\u001b[0;34m(\u001b[0m\u001b[0mscaling\u001b[0m\u001b[0;34m=\u001b[0m\u001b[0mTrue\u001b[0m\u001b[0;34m,\u001b[0m \u001b[0mfiltered\u001b[0m\u001b[0;34m=\u001b[0m\u001b[0mTrue\u001b[0m\u001b[0;34m)\u001b[0m\u001b[0;34m\u001b[0m\u001b[0m\n\u001b[0m",
      "\u001b[0;32m/Users/wallace/Documents/GitHub/Case_Studies/fraud_detection_events/src/pipeline.pyc\u001b[0m in \u001b[0;36mconvert_to_df\u001b[0;34m(self, scaling, filtered)\u001b[0m\n\u001b[1;32m     53\u001b[0m         \u001b[0mself\u001b[0m\u001b[0;34m.\u001b[0m\u001b[0m_convert_datetime\u001b[0m\u001b[0;34m(\u001b[0m\u001b[0;34m)\u001b[0m\u001b[0;34m\u001b[0m\u001b[0m\n\u001b[1;32m     54\u001b[0m         \u001b[0mself\u001b[0m\u001b[0;34m.\u001b[0m\u001b[0m_convert_bools\u001b[0m\u001b[0;34m(\u001b[0m\u001b[0;34m)\u001b[0m\u001b[0;34m\u001b[0m\u001b[0m\n\u001b[0;32m---> 55\u001b[0;31m         \u001b[0mself\u001b[0m\u001b[0;34m.\u001b[0m\u001b[0m_add_features\u001b[0m\u001b[0;34m(\u001b[0m\u001b[0;34m)\u001b[0m\u001b[0;34m\u001b[0m\u001b[0m\n\u001b[0m\u001b[1;32m     56\u001b[0m \u001b[0;34m\u001b[0m\u001b[0m\n\u001b[1;32m     57\u001b[0m \u001b[0;34m\u001b[0m\u001b[0m\n",
      "\u001b[0;32m/Users/wallace/Documents/GitHub/Case_Studies/fraud_detection_events/src/pipeline.pyc\u001b[0m in \u001b[0;36m_add_features\u001b[0;34m(self)\u001b[0m\n\u001b[1;32m    113\u001b[0m \u001b[0;34m\u001b[0m\u001b[0m\n\u001b[1;32m    114\u001b[0m         \u001b[0;31m#Condition Response variable fraud flag\u001b[0m\u001b[0;34m\u001b[0m\u001b[0;34m\u001b[0m\u001b[0m\n\u001b[0;32m--> 115\u001b[0;31m         \u001b[0mself\u001b[0m\u001b[0;34m.\u001b[0m\u001b[0mdf\u001b[0m\u001b[0;34m[\u001b[0m\u001b[0;34m'fraud'\u001b[0m\u001b[0;34m]\u001b[0m \u001b[0;34m=\u001b[0m \u001b[0mself\u001b[0m\u001b[0;34m.\u001b[0m\u001b[0mdf\u001b[0m\u001b[0;34m[\u001b[0m\u001b[0;34m'acct_type'\u001b[0m\u001b[0;34m]\u001b[0m\u001b[0;34m.\u001b[0m\u001b[0mstr\u001b[0m\u001b[0;34m.\u001b[0m\u001b[0mcontains\u001b[0m\u001b[0;34m(\u001b[0m\u001b[0;34m\"fraud\"\u001b[0m\u001b[0;34m)\u001b[0m\u001b[0;34m\u001b[0m\u001b[0m\n\u001b[0m\u001b[1;32m    116\u001b[0m \u001b[0;34m\u001b[0m\u001b[0m\n\u001b[1;32m    117\u001b[0m \u001b[0;34m\u001b[0m\u001b[0m\n",
      "\u001b[0;32m/Users/wallace/anaconda2/lib/python2.7/site-packages/pandas/core/frame.pyc\u001b[0m in \u001b[0;36m__getitem__\u001b[0;34m(self, key)\u001b[0m\n\u001b[1;32m   2060\u001b[0m             \u001b[0;32mreturn\u001b[0m \u001b[0mself\u001b[0m\u001b[0;34m.\u001b[0m\u001b[0m_getitem_multilevel\u001b[0m\u001b[0;34m(\u001b[0m\u001b[0mkey\u001b[0m\u001b[0;34m)\u001b[0m\u001b[0;34m\u001b[0m\u001b[0m\n\u001b[1;32m   2061\u001b[0m         \u001b[0;32melse\u001b[0m\u001b[0;34m:\u001b[0m\u001b[0;34m\u001b[0m\u001b[0m\n\u001b[0;32m-> 2062\u001b[0;31m             \u001b[0;32mreturn\u001b[0m \u001b[0mself\u001b[0m\u001b[0;34m.\u001b[0m\u001b[0m_getitem_column\u001b[0m\u001b[0;34m(\u001b[0m\u001b[0mkey\u001b[0m\u001b[0;34m)\u001b[0m\u001b[0;34m\u001b[0m\u001b[0m\n\u001b[0m\u001b[1;32m   2063\u001b[0m \u001b[0;34m\u001b[0m\u001b[0m\n\u001b[1;32m   2064\u001b[0m     \u001b[0;32mdef\u001b[0m \u001b[0m_getitem_column\u001b[0m\u001b[0;34m(\u001b[0m\u001b[0mself\u001b[0m\u001b[0;34m,\u001b[0m \u001b[0mkey\u001b[0m\u001b[0;34m)\u001b[0m\u001b[0;34m:\u001b[0m\u001b[0;34m\u001b[0m\u001b[0m\n",
      "\u001b[0;32m/Users/wallace/anaconda2/lib/python2.7/site-packages/pandas/core/frame.pyc\u001b[0m in \u001b[0;36m_getitem_column\u001b[0;34m(self, key)\u001b[0m\n\u001b[1;32m   2067\u001b[0m         \u001b[0;31m# get column\u001b[0m\u001b[0;34m\u001b[0m\u001b[0;34m\u001b[0m\u001b[0m\n\u001b[1;32m   2068\u001b[0m         \u001b[0;32mif\u001b[0m \u001b[0mself\u001b[0m\u001b[0;34m.\u001b[0m\u001b[0mcolumns\u001b[0m\u001b[0;34m.\u001b[0m\u001b[0mis_unique\u001b[0m\u001b[0;34m:\u001b[0m\u001b[0;34m\u001b[0m\u001b[0m\n\u001b[0;32m-> 2069\u001b[0;31m             \u001b[0;32mreturn\u001b[0m \u001b[0mself\u001b[0m\u001b[0;34m.\u001b[0m\u001b[0m_get_item_cache\u001b[0m\u001b[0;34m(\u001b[0m\u001b[0mkey\u001b[0m\u001b[0;34m)\u001b[0m\u001b[0;34m\u001b[0m\u001b[0m\n\u001b[0m\u001b[1;32m   2070\u001b[0m \u001b[0;34m\u001b[0m\u001b[0m\n\u001b[1;32m   2071\u001b[0m         \u001b[0;31m# duplicate columns & possible reduce dimensionality\u001b[0m\u001b[0;34m\u001b[0m\u001b[0;34m\u001b[0m\u001b[0m\n",
      "\u001b[0;32m/Users/wallace/anaconda2/lib/python2.7/site-packages/pandas/core/generic.pyc\u001b[0m in \u001b[0;36m_get_item_cache\u001b[0;34m(self, item)\u001b[0m\n\u001b[1;32m   1532\u001b[0m         \u001b[0mres\u001b[0m \u001b[0;34m=\u001b[0m \u001b[0mcache\u001b[0m\u001b[0;34m.\u001b[0m\u001b[0mget\u001b[0m\u001b[0;34m(\u001b[0m\u001b[0mitem\u001b[0m\u001b[0;34m)\u001b[0m\u001b[0;34m\u001b[0m\u001b[0m\n\u001b[1;32m   1533\u001b[0m         \u001b[0;32mif\u001b[0m \u001b[0mres\u001b[0m \u001b[0;32mis\u001b[0m \u001b[0mNone\u001b[0m\u001b[0;34m:\u001b[0m\u001b[0;34m\u001b[0m\u001b[0m\n\u001b[0;32m-> 1534\u001b[0;31m             \u001b[0mvalues\u001b[0m \u001b[0;34m=\u001b[0m \u001b[0mself\u001b[0m\u001b[0;34m.\u001b[0m\u001b[0m_data\u001b[0m\u001b[0;34m.\u001b[0m\u001b[0mget\u001b[0m\u001b[0;34m(\u001b[0m\u001b[0mitem\u001b[0m\u001b[0;34m)\u001b[0m\u001b[0;34m\u001b[0m\u001b[0m\n\u001b[0m\u001b[1;32m   1535\u001b[0m             \u001b[0mres\u001b[0m \u001b[0;34m=\u001b[0m \u001b[0mself\u001b[0m\u001b[0;34m.\u001b[0m\u001b[0m_box_item_values\u001b[0m\u001b[0;34m(\u001b[0m\u001b[0mitem\u001b[0m\u001b[0;34m,\u001b[0m \u001b[0mvalues\u001b[0m\u001b[0;34m)\u001b[0m\u001b[0;34m\u001b[0m\u001b[0m\n\u001b[1;32m   1536\u001b[0m             \u001b[0mcache\u001b[0m\u001b[0;34m[\u001b[0m\u001b[0mitem\u001b[0m\u001b[0;34m]\u001b[0m \u001b[0;34m=\u001b[0m \u001b[0mres\u001b[0m\u001b[0;34m\u001b[0m\u001b[0m\n",
      "\u001b[0;32m/Users/wallace/anaconda2/lib/python2.7/site-packages/pandas/core/internals.pyc\u001b[0m in \u001b[0;36mget\u001b[0;34m(self, item, fastpath)\u001b[0m\n\u001b[1;32m   3588\u001b[0m \u001b[0;34m\u001b[0m\u001b[0m\n\u001b[1;32m   3589\u001b[0m             \u001b[0;32mif\u001b[0m \u001b[0;32mnot\u001b[0m \u001b[0misnull\u001b[0m\u001b[0;34m(\u001b[0m\u001b[0mitem\u001b[0m\u001b[0;34m)\u001b[0m\u001b[0;34m:\u001b[0m\u001b[0;34m\u001b[0m\u001b[0m\n\u001b[0;32m-> 3590\u001b[0;31m                 \u001b[0mloc\u001b[0m \u001b[0;34m=\u001b[0m \u001b[0mself\u001b[0m\u001b[0;34m.\u001b[0m\u001b[0mitems\u001b[0m\u001b[0;34m.\u001b[0m\u001b[0mget_loc\u001b[0m\u001b[0;34m(\u001b[0m\u001b[0mitem\u001b[0m\u001b[0;34m)\u001b[0m\u001b[0;34m\u001b[0m\u001b[0m\n\u001b[0m\u001b[1;32m   3591\u001b[0m             \u001b[0;32melse\u001b[0m\u001b[0;34m:\u001b[0m\u001b[0;34m\u001b[0m\u001b[0m\n\u001b[1;32m   3592\u001b[0m                 \u001b[0mindexer\u001b[0m \u001b[0;34m=\u001b[0m \u001b[0mnp\u001b[0m\u001b[0;34m.\u001b[0m\u001b[0marange\u001b[0m\u001b[0;34m(\u001b[0m\u001b[0mlen\u001b[0m\u001b[0;34m(\u001b[0m\u001b[0mself\u001b[0m\u001b[0;34m.\u001b[0m\u001b[0mitems\u001b[0m\u001b[0;34m)\u001b[0m\u001b[0;34m)\u001b[0m\u001b[0;34m[\u001b[0m\u001b[0misnull\u001b[0m\u001b[0;34m(\u001b[0m\u001b[0mself\u001b[0m\u001b[0;34m.\u001b[0m\u001b[0mitems\u001b[0m\u001b[0;34m)\u001b[0m\u001b[0;34m]\u001b[0m\u001b[0;34m\u001b[0m\u001b[0m\n",
      "\u001b[0;32m/Users/wallace/anaconda2/lib/python2.7/site-packages/pandas/core/indexes/base.pyc\u001b[0m in \u001b[0;36mget_loc\u001b[0;34m(self, key, method, tolerance)\u001b[0m\n\u001b[1;32m   2393\u001b[0m                 \u001b[0;32mreturn\u001b[0m \u001b[0mself\u001b[0m\u001b[0;34m.\u001b[0m\u001b[0m_engine\u001b[0m\u001b[0;34m.\u001b[0m\u001b[0mget_loc\u001b[0m\u001b[0;34m(\u001b[0m\u001b[0mkey\u001b[0m\u001b[0;34m)\u001b[0m\u001b[0;34m\u001b[0m\u001b[0m\n\u001b[1;32m   2394\u001b[0m             \u001b[0;32mexcept\u001b[0m \u001b[0mKeyError\u001b[0m\u001b[0;34m:\u001b[0m\u001b[0;34m\u001b[0m\u001b[0m\n\u001b[0;32m-> 2395\u001b[0;31m                 \u001b[0;32mreturn\u001b[0m \u001b[0mself\u001b[0m\u001b[0;34m.\u001b[0m\u001b[0m_engine\u001b[0m\u001b[0;34m.\u001b[0m\u001b[0mget_loc\u001b[0m\u001b[0;34m(\u001b[0m\u001b[0mself\u001b[0m\u001b[0;34m.\u001b[0m\u001b[0m_maybe_cast_indexer\u001b[0m\u001b[0;34m(\u001b[0m\u001b[0mkey\u001b[0m\u001b[0;34m)\u001b[0m\u001b[0;34m)\u001b[0m\u001b[0;34m\u001b[0m\u001b[0m\n\u001b[0m\u001b[1;32m   2396\u001b[0m \u001b[0;34m\u001b[0m\u001b[0m\n\u001b[1;32m   2397\u001b[0m         \u001b[0mindexer\u001b[0m \u001b[0;34m=\u001b[0m \u001b[0mself\u001b[0m\u001b[0;34m.\u001b[0m\u001b[0mget_indexer\u001b[0m\u001b[0;34m(\u001b[0m\u001b[0;34m[\u001b[0m\u001b[0mkey\u001b[0m\u001b[0;34m]\u001b[0m\u001b[0;34m,\u001b[0m \u001b[0mmethod\u001b[0m\u001b[0;34m=\u001b[0m\u001b[0mmethod\u001b[0m\u001b[0;34m,\u001b[0m \u001b[0mtolerance\u001b[0m\u001b[0;34m=\u001b[0m\u001b[0mtolerance\u001b[0m\u001b[0;34m)\u001b[0m\u001b[0;34m\u001b[0m\u001b[0m\n",
      "\u001b[0;32mpandas/_libs/index.pyx\u001b[0m in \u001b[0;36mpandas._libs.index.IndexEngine.get_loc (pandas/_libs/index.c:5239)\u001b[0;34m()\u001b[0m\n",
      "\u001b[0;32mpandas/_libs/index.pyx\u001b[0m in \u001b[0;36mpandas._libs.index.IndexEngine.get_loc (pandas/_libs/index.c:5085)\u001b[0;34m()\u001b[0m\n",
      "\u001b[0;32mpandas/_libs/hashtable_class_helper.pxi\u001b[0m in \u001b[0;36mpandas._libs.hashtable.PyObjectHashTable.get_item (pandas/_libs/hashtable.c:20405)\u001b[0;34m()\u001b[0m\n",
      "\u001b[0;32mpandas/_libs/hashtable_class_helper.pxi\u001b[0m in \u001b[0;36mpandas._libs.hashtable.PyObjectHashTable.get_item (pandas/_libs/hashtable.c:20359)\u001b[0;34m()\u001b[0m\n",
      "\u001b[0;31mKeyError\u001b[0m: 'acct_type'"
     ]
    }
   ],
   "source": [
    "X = pj.convert_to_df(scaling=True, filtered=True)"
   ]
  },
  {
   "cell_type": "code",
   "execution_count": 57,
   "metadata": {},
   "outputs": [],
   "source": [
    "from src.request_json import get_json\n",
    "s1 = get_json()\n",
    "s2 = get_json()"
   ]
  },
  {
   "cell_type": "code",
   "execution_count": 44,
   "metadata": {
    "scrolled": false
   },
   "outputs": [
    {
     "name": "stdout",
     "output_type": "stream",
     "text": [
      "{\n",
      "  \"approx_payout_date\": 1335409200, \n",
      "  \"body_length\": 0, \n",
      "  \"channels\": 5, \n",
      "  \"country\": \"US\", \n",
      "  \"currency\": \"USD\", \n",
      "  \"delivery_method\": 0.0, \n",
      "  \"description\": \"\", \n",
      "  \"email_domain\": \"safe-mail.net\", \n",
      "  \"event_created\": 1333477149, \n",
      "  \"event_end\": 1334977200, \n",
      "  \"event_published\": 1333485464.0, \n",
      "  \"event_start\": 1334966400, \n",
      "  \"fb_published\": 0, \n",
      "  \"gts\": 80.0, \n",
      "  \"has_analytics\": 0, \n",
      "  \"has_header\": null, \n",
      "  \"has_logo\": 0, \n",
      "  \"listed\": \"y\", \n",
      "  \"name\": \"Classical Music, Vocal Orchestra symphony\", \n",
      "  \"name_length\": 41, \n",
      "  \"num_order\": 8, \n",
      "  \"num_payouts\": 0, \n",
      "  \"object_id\": 3281491, \n",
      "  \"org_desc\": \"\", \n",
      "  \"org_facebook\": 0.0, \n",
      "  \"org_name\": \"HM\", \n",
      "  \"org_twitter\": 0.0, \n",
      "  \"payee_name\": \"\", \n",
      "  \"payout_type\": \"ACH\", \n",
      "  \"previous_payouts\": [], \n",
      "  \"sale_duration\": 17.0, \n",
      "  \"sale_duration2\": 17, \n",
      "  \"show_map\": 0, \n",
      "  \"ticket_types\": [\n",
      "    {\n",
      "      \"availability\": 1, \n",
      "      \"cost\": 8.46, \n",
      "      \"event_id\": 3281491, \n",
      "      \"quantity_sold\": 1, \n",
      "      \"quantity_total\": 70\n",
      "    }\n",
      "  ], \n",
      "  \"user_age\": 0, \n",
      "  \"user_created\": 1333475999, \n",
      "  \"user_type\": 1, \n",
      "  \"venue_address\": \"W 64\", \n",
      "  \"venue_country\": \"US\", \n",
      "  \"venue_latitude\": 30.444852, \n",
      "  \"venue_longitude\": -83.112582, \n",
      "  \"venue_name\": \"\", \n",
      "  \"venue_state\": \"FL\"\n",
      "}\n",
      "\n",
      "\n",
      "{\n",
      "  \"approx_payout_date\": 1367028000, \n",
      "  \"body_length\": 1200, \n",
      "  \"channels\": 11, \n",
      "  \"country\": \"US\", \n",
      "  \"currency\": \"USD\", \n",
      "  \"delivery_method\": 0.0, \n",
      "  \"description\": \"<p><span style=\\\"font-size: small;\\\">Barking for Brews Beer-tasting Benefit at Revolution Brewery </span></p>\\r\\n<p><span style=\\\"font-size: small;\\\">Sunday April 22, 2012 5:00p.m. - 7:00p.m. </span></p>\\r\\n<p><span style=\\\"font-size: small;\\\">Join the Pit Bull Revolution at Revolution Brewery!</span></p>\\r\\n<p><span style=\\\"font-size: small;\\\">It&rsquo;s a vibrant place, and you&rsquo;ll have a spectacular time&hellip;all while supporting pit bull rescue. </span></p>\\r\\n<ul>\\r\\n<li><span style=\\\"font-size: small;\\\">What&rsquo;s on tap: &middot; Unlimited servings of Revolution&rsquo;s 5 core microbrews, which range from golden ales to robust \\\\porters </span></li>\\r\\n<li><span style=\\\"font-size: small;\\\">Tasty appetizers! </span></li>\\r\\n<li><span style=\\\"font-size: small;\\\">A warm, laidback environment (we have the entire second floor of the brewery, so there&rsquo;s plenty of space) </span></li>\\r\\n</ul>\\r\\n<p><span style=\\\"font-size: small;\\\">Tickets are just $35 per person if you reserve by March 31, and $40 April 1st and thereafter. </span></p>\\r\\n<p><span style=\\\"font-size: small;\\\">All proceeds benefit our veterinary fund. </span></p>\\r\\n<p><span style=\\\"font-size: small;\\\">Please come, and bring friends!</span></p>\", \n",
      "  \"email_domain\": \"midwestrescue.org\", \n",
      "  \"event_created\": 1362871047, \n",
      "  \"event_end\": 1366596000, \n",
      "  \"event_published\": 1363210272.0, \n",
      "  \"event_start\": 1366588800, \n",
      "  \"fb_published\": 0, \n",
      "  \"gts\": 2212.08, \n",
      "  \"has_analytics\": 0, \n",
      "  \"has_header\": null, \n",
      "  \"has_logo\": 0, \n",
      "  \"listed\": \"y\", \n",
      "  \"name\": \"2nd Annual Barking for Brews Beer-tasting Benefit\", \n",
      "  \"name_length\": 49, \n",
      "  \"num_order\": 38, \n",
      "  \"num_payouts\": 2, \n",
      "  \"object_id\": 5765589, \n",
      "  \"org_desc\": \"\", \n",
      "  \"org_facebook\": 13.0, \n",
      "  \"org_name\": \"Midwest Rescue of Illinois, Inc.\", \n",
      "  \"org_twitter\": 0.0, \n",
      "  \"payee_name\": \"\", \n",
      "  \"payout_type\": \"ACH\", \n",
      "  \"previous_payouts\": [\n",
      "    {\n",
      "      \"address\": \"\", \n",
      "      \"amount\": 2600.0, \n",
      "      \"country\": \"US\", \n",
      "      \"created\": \"2012-04-27 03:14:19\", \n",
      "      \"event\": 3033983, \n",
      "      \"name\": \"\", \n",
      "      \"state\": \"\", \n",
      "      \"uid\": 28144873, \n",
      "      \"zip_code\": \"\"\n",
      "    }, \n",
      "    {\n",
      "      \"address\": \"\", \n",
      "      \"amount\": 268.65, \n",
      "      \"country\": \"US\", \n",
      "      \"created\": \"2012-11-15 03:18:51\", \n",
      "      \"event\": 3261701, \n",
      "      \"name\": \"\", \n",
      "      \"state\": \"\", \n",
      "      \"uid\": 28144873, \n",
      "      \"zip_code\": \"\"\n",
      "    }, \n",
      "    {\n",
      "      \"address\": \"\", \n",
      "      \"amount\": 2045.0, \n",
      "      \"country\": \"US\", \n",
      "      \"created\": \"2013-04-26 03:24:06\", \n",
      "      \"event\": 5765589, \n",
      "      \"name\": \"\", \n",
      "      \"state\": \"\", \n",
      "      \"uid\": 28144873, \n",
      "      \"zip_code\": \"\"\n",
      "    }\n",
      "  ], \n",
      "  \"sale_duration\": 39.0, \n",
      "  \"sale_duration2\": 43, \n",
      "  \"show_map\": 1, \n",
      "  \"ticket_types\": [\n",
      "    {\n",
      "      \"availability\": 1, \n",
      "      \"cost\": 35.0, \n",
      "      \"event_id\": 5765589, \n",
      "      \"quantity_sold\": 31, \n",
      "      \"quantity_total\": 100\n",
      "    }, \n",
      "    {\n",
      "      \"availability\": 1, \n",
      "      \"cost\": 40.0, \n",
      "      \"event_id\": 5765589, \n",
      "      \"quantity_sold\": 24, \n",
      "      \"quantity_total\": 100\n",
      "    }\n",
      "  ], \n",
      "  \"user_age\": 376, \n",
      "  \"user_created\": 1330392865, \n",
      "  \"user_type\": 3, \n",
      "  \"venue_address\": \"2323 North Milwaukee Avenue\", \n",
      "  \"venue_country\": \"US\", \n",
      "  \"venue_latitude\": 41.9236883, \n",
      "  \"venue_longitude\": -87.6980263, \n",
      "  \"venue_name\": \"Revolution Brewery\", \n",
      "  \"venue_state\": \"IL\"\n",
      "}\n",
      "\n"
     ]
    }
   ],
   "source": [
    "print s1 \n",
    "\n",
    "print \n",
    "\n",
    "print s2\n",
    "\n"
   ]
  },
  {
   "cell_type": "code",
   "execution_count": 50,
   "metadata": {
    "scrolled": false
   },
   "outputs": [],
   "source": [
    "header = \"{ 'content' : \"\n",
    "c = ' , '\n",
    "footer = \"}\"\n",
    "\n",
    "jsonx2 = header + s1 + c + footer"
   ]
  },
  {
   "cell_type": "code",
   "execution_count": 60,
   "metadata": {},
   "outputs": [
    {
     "name": "stdout",
     "output_type": "stream",
     "text": [
      "{u'org_name': u'One Parent Families Scotland', u'name_length': 43, u'event_end': 1371596400, u'venue_latitude': 55.8614541, u'event_published': 1366807611.0, u'user_type': 1, u'channels': 8, u'currency': u'GBP', u'org_desc': u'<p><span style=\"color: #111111; font-family: Verdana, \\'Bitstream Vera Sans\\', Arial, Helvetica, sans-serif; font-size: 11px; line-height: 19.5px;\">One Parent Families Scotland works to ensure that all families, particularly those headed by a lone parent, have the support, information and confidence needed to play a full part in Scotland\\'s economic and social life.</span></p>\\r\\n<p><span style=\"color: #111111; font-family: Verdana, \\'Bitstream Vera Sans\\', Arial, Helvetica, sans-serif; font-size: 11px; line-height: 19.5px;\">We work with and for lone parents to empower and support them providing help through a variety of services across Scotland.</span></p>', u'event_created': 1366728088, u'event_start': 1369166400, u'has_logo': 1, u'email_domain': u'opfs.org.uk', u'user_created': 1344423469, u'payee_name': u'', u'payout_type': u'ACH', u'venue_name': u'Choices - One Parent Families Scotland', u'sale_duration2': 28, u'venue_address': u'100 Wellington Street', u'approx_payout_date': 1372028400, u'org_twitter': 5.0, u'gts': 183.84, u'listed': u'y', u'ticket_types': [{u'event_id': 6390269, u'cost': 36.95, u'availability': 1, u'quantity_total': 10, u'quantity_sold': 8}], u'org_facebook': 47.0, u'num_order': 2, u'user_age': 258, u'body_length': 1933, u'description': u'<p>Lone parents in Scotland are facing the most radical shake-up to the benefit system ever. \\xa0If you work with lone parents and want to know how these changes will impact on them, then come to our information session. \\xa0</p>\\r\\n<p>This course covers the framework of the new Universal Credit that will be introduced during 2013 and which will replace most of the existing benefits and tax credits.</p>\\r\\n<p>The course covers what is currently known about Universal Credit including the calculation.\\xa0 Please bring a pocket calculator with you.</p>\\r\\n<p>A basic understanding of the current benefit/tax credit systems will be presumed.\\xa0</p>\\r\\n<h4 style=\"font-size: 12px;\">Dates and Details</h4>\\r\\n<p>You can choose to take the half-day course on any of the following dates:</p>\\r\\n<ul>\\r\\n<li>Tuesday 18th June 2013 at 1pm</li>\\r\\n<li>Tuesday 21st May 2013 at 1pm</li>\\r\\n</ul>\\r\\n<p>All courses take place at Choices - One Parent Families Scotland in Glasgow, and last for 3 hours.\\xa0</p>\\r\\n<h4 style=\"font-size: 12px;\"><span style=\"font-size: 1em;\">Cheque/Invoice Payments Available</span></h4>\\r\\n<p>To pay by cheque or to ask to be sent an invoice, just click on the \"show other payment options\" link above and click the <strong>\"Pay Offline\"</strong> button to register. Cheques should be made out to \"One Parent Families Scotland\".</p>\\r\\n<h4 style=\"font-size: 12px;\">Cancellation and Refund Policy</h4>\\r\\n<p style=\"font-weight: normal;\">Cancellations must be made in writing or by email to\\xa0<a href=\"mailto:lyndsey.boiling@opfs.org.uk\">lyndsey.boiling@opfs.org.uk</a>.</p>\\r\\n<p style=\"font-weight: normal;\">No refund can be given if the cancellation is made within 4 working days of the course taking place. Bookings cancelled prior to this will receive a full refund.</p>\\r\\n<p style=\"font-weight: normal;\">A substitute may be made but notification of this should be sent to\\xa0<a href=\"mailto:lyndsey.boiling@opfs.org.uk\">lyndsey.boiling@opfs.org.uk</a>.</p>', u'object_id': 6390269, u'venue_longitude': -4.259903, u'venue_country': u'GB', u'previous_payouts': [{u'name': u'', u'created': u'2012-11-21 03:17:09', u'country': u'GB', u'state': u'', u'amount': 299.4, u'address': u'', u'zip_code': u'', u'event': 4069116, u'uid': 38005586}, {u'name': u'', u'created': u'2013-01-29 03:20:26', u'country': u'GB', u'state': u'', u'amount': 25.4, u'address': u'', u'zip_code': u'', u'event': 5049958, u'uid': 38005586}, {u'name': u'', u'created': u'2013-01-29 03:20:26', u'country': u'GB', u'state': u'', u'amount': 64.0, u'address': u'', u'zip_code': u'', u'event': 4949382, u'uid': 38005586}, {u'name': u'', u'created': u'2013-02-12 03:20:29', u'country': u'GB', u'state': u'', u'amount': 60.7, u'address': u'', u'zip_code': u'', u'event': 5049958, u'uid': 38005586}, {u'name': u'', u'created': u'2013-05-19 03:21:30', u'country': u'GB', u'state': u'', u'amount': 28.7, u'address': u'', u'zip_code': u'', u'event': 6390103, u'uid': 38005586}, {u'name': u'', u'created': u'2013-06-16 03:21:40', u'country': u'GB', u'state': u'', u'amount': 176.5, u'address': u'', u'zip_code': u'', u'event': 6390103, u'uid': 38005586}, {u'name': u'', u'created': u'2013-06-23 03:12:12', u'country': u'GB', u'state': u'', u'amount': 102.6, u'address': u'', u'zip_code': u'', u'event': 6390269, u'uid': 38005586}, {u'name': u'', u'created': u'2013-06-30 03:20:46', u'country': u'GB', u'state': u'', u'amount': 70.6, u'address': u'', u'zip_code': u'', u'event': 6390103, u'uid': 38005586}, {u'name': u'', u'created': u'2013-07-02 03:11:57', u'country': u'GB', u'state': u'', u'amount': 102.6, u'address': u'', u'zip_code': u'', u'event': 6389717, u'uid': 38005586}, {u'name': u'', u'created': u'2013-09-17 03:20:29', u'country': u'GB', u'state': u'', u'amount': 22.85, u'address': u'', u'zip_code': u'', u'event': 7642473, u'uid': 38005586}, {u'name': u'', u'created': u'2013-09-24 03:20:30', u'country': u'GB', u'state': u'', u'amount': 44.42, u'address': u'', u'zip_code': u'', u'event': 7642333, u'uid': 38005586}], u'sale_duration': 27.0, u'num_payouts': 4, u'name': u'Universal Credit Training (Glasgow) Q2 2013', u'country': u'GB', u'delivery_method': 1.0, u'has_analytics': 1, u'fb_published': 0, u'venue_state': u'Glasgow City', u'has_header': 0.0, u'show_map': 1}\n"
     ]
    }
   ],
   "source": [
    "print s1.json()"
   ]
  },
  {
   "cell_type": "code",
   "execution_count": 56,
   "metadata": {},
   "outputs": [
    {
     "ename": "ValueError",
     "evalue": "Expected object or value",
     "output_type": "error",
     "traceback": [
      "\u001b[0;31m---------------------------------------------------------------------------\u001b[0m",
      "\u001b[0;31mValueError\u001b[0m                                Traceback (most recent call last)",
      "\u001b[0;32m<ipython-input-56-81f7fb0473c7>\u001b[0m in \u001b[0;36m<module>\u001b[0;34m()\u001b[0m\n\u001b[0;32m----> 1\u001b[0;31m \u001b[0mq\u001b[0m \u001b[0;34m=\u001b[0m \u001b[0mpd\u001b[0m\u001b[0;34m.\u001b[0m\u001b[0mread_json\u001b[0m\u001b[0;34m(\u001b[0m\u001b[0mjsonx2\u001b[0m\u001b[0;34m,\u001b[0m \u001b[0mtyp\u001b[0m\u001b[0;34m=\u001b[0m\u001b[0;34m'frame'\u001b[0m\u001b[0;34m)\u001b[0m\u001b[0;34m\u001b[0m\u001b[0m\n\u001b[0m",
      "\u001b[0;32m/Users/wallace/anaconda2/lib/python2.7/site-packages/pandas/io/json/json.pyc\u001b[0m in \u001b[0;36mread_json\u001b[0;34m(path_or_buf, orient, typ, dtype, convert_axes, convert_dates, keep_default_dates, numpy, precise_float, date_unit, encoding, lines)\u001b[0m\n\u001b[1;32m    352\u001b[0m         obj = FrameParser(json, orient, dtype, convert_axes, convert_dates,\n\u001b[1;32m    353\u001b[0m                           \u001b[0mkeep_default_dates\u001b[0m\u001b[0;34m,\u001b[0m \u001b[0mnumpy\u001b[0m\u001b[0;34m,\u001b[0m \u001b[0mprecise_float\u001b[0m\u001b[0;34m,\u001b[0m\u001b[0;34m\u001b[0m\u001b[0m\n\u001b[0;32m--> 354\u001b[0;31m                           date_unit).parse()\n\u001b[0m\u001b[1;32m    355\u001b[0m \u001b[0;34m\u001b[0m\u001b[0m\n\u001b[1;32m    356\u001b[0m     \u001b[0;32mif\u001b[0m \u001b[0mtyp\u001b[0m \u001b[0;34m==\u001b[0m \u001b[0;34m'series'\u001b[0m \u001b[0;32mor\u001b[0m \u001b[0mobj\u001b[0m \u001b[0;32mis\u001b[0m \u001b[0mNone\u001b[0m\u001b[0;34m:\u001b[0m\u001b[0;34m\u001b[0m\u001b[0m\n",
      "\u001b[0;32m/Users/wallace/anaconda2/lib/python2.7/site-packages/pandas/io/json/json.pyc\u001b[0m in \u001b[0;36mparse\u001b[0;34m(self)\u001b[0m\n\u001b[1;32m    420\u001b[0m \u001b[0;34m\u001b[0m\u001b[0m\n\u001b[1;32m    421\u001b[0m         \u001b[0;32melse\u001b[0m\u001b[0;34m:\u001b[0m\u001b[0;34m\u001b[0m\u001b[0m\n\u001b[0;32m--> 422\u001b[0;31m             \u001b[0mself\u001b[0m\u001b[0;34m.\u001b[0m\u001b[0m_parse_no_numpy\u001b[0m\u001b[0;34m(\u001b[0m\u001b[0;34m)\u001b[0m\u001b[0;34m\u001b[0m\u001b[0m\n\u001b[0m\u001b[1;32m    423\u001b[0m \u001b[0;34m\u001b[0m\u001b[0m\n\u001b[1;32m    424\u001b[0m         \u001b[0;32mif\u001b[0m \u001b[0mself\u001b[0m\u001b[0;34m.\u001b[0m\u001b[0mobj\u001b[0m \u001b[0;32mis\u001b[0m \u001b[0mNone\u001b[0m\u001b[0;34m:\u001b[0m\u001b[0;34m\u001b[0m\u001b[0m\n",
      "\u001b[0;32m/Users/wallace/anaconda2/lib/python2.7/site-packages/pandas/io/json/json.pyc\u001b[0m in \u001b[0;36m_parse_no_numpy\u001b[0;34m(self)\u001b[0m\n\u001b[1;32m    637\u001b[0m         \u001b[0;32mif\u001b[0m \u001b[0morient\u001b[0m \u001b[0;34m==\u001b[0m \u001b[0;34m\"columns\"\u001b[0m\u001b[0;34m:\u001b[0m\u001b[0;34m\u001b[0m\u001b[0m\n\u001b[1;32m    638\u001b[0m             self.obj = DataFrame(\n\u001b[0;32m--> 639\u001b[0;31m                 loads(json, precise_float=self.precise_float), dtype=None)\n\u001b[0m\u001b[1;32m    640\u001b[0m         \u001b[0;32melif\u001b[0m \u001b[0morient\u001b[0m \u001b[0;34m==\u001b[0m \u001b[0;34m\"split\"\u001b[0m\u001b[0;34m:\u001b[0m\u001b[0;34m\u001b[0m\u001b[0m\n\u001b[1;32m    641\u001b[0m             decoded = dict((str(k), v)\n",
      "\u001b[0;31mValueError\u001b[0m: Expected object or value"
     ]
    }
   ],
   "source": [
    "q = pd.read_json(jsonx2, typ='frame')"
   ]
  },
  {
   "cell_type": "code",
   "execution_count": null,
   "metadata": {
    "collapsed": true
   },
   "outputs": [],
   "source": [
    "query_df = pd.DataFrame.from_dict(json_,  orient='index')\n",
    "query_df = query_df.transpose()"
   ]
  }
 ],
 "metadata": {
  "kernelspec": {
   "display_name": "Python 2",
   "language": "python",
   "name": "python2"
  },
  "language_info": {
   "codemirror_mode": {
    "name": "ipython",
    "version": 2
   },
   "file_extension": ".py",
   "mimetype": "text/x-python",
   "name": "python",
   "nbconvert_exporter": "python",
   "pygments_lexer": "ipython2",
   "version": "2.7.13"
  }
 },
 "nbformat": 4,
 "nbformat_minor": 2
}
