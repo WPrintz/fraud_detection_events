{
 "cells": [
  {
   "cell_type": "markdown",
   "metadata": {},
   "source": [
    "# Import modules"
   ]
  },
  {
   "cell_type": "code",
   "execution_count": 1,
   "metadata": {
    "scrolled": true
   },
   "outputs": [],
   "source": [
    "import numpy as np\n",
    "import pandas as pd\n",
    "import matplotlib.pyplot as plt\n",
    "%matplotlib inline\n",
    "from collections import Counter\n",
    "import datetime"
   ]
  },
  {
   "cell_type": "code",
   "execution_count": 2,
   "metadata": {
    "collapsed": true
   },
   "outputs": [],
   "source": [
    "import os\n",
    "import sys\n",
    "module_path = os.path.abspath(os.path.join('..'))\n",
    "if module_path not in sys.path:\n",
    "    sys.path.append(module_path)\n",
    "    \n",
    "# ex: from src.create_model_pickle import *\n"
   ]
  },
  {
   "cell_type": "markdown",
   "metadata": {},
   "source": [
    "# Import data"
   ]
  },
  {
   "cell_type": "code",
   "execution_count": 3,
   "metadata": {},
   "outputs": [],
   "source": [
    "# Use our json to dataframe conversion class\n",
    "from src.pipeline import pipeline_json\n",
    "pj = pipeline_json('../data/data.json')"
   ]
  },
  {
   "cell_type": "code",
   "execution_count": 25,
   "metadata": {},
   "outputs": [
    {
     "name": "stdout",
     "output_type": "stream",
     "text": [
      "<class 'pandas.core.frame.DataFrame'>\n",
      "Int64Index: 14337 entries, 0 to 14336\n",
      "Data columns (total 15 columns):\n",
      "fraud                  14337 non-null bool\n",
      "payout_type            14337 non-null int64\n",
      "fb_published           14337 non-null bool\n",
      "org_facebook           14337 non-null float64\n",
      "has_analytics          14337 non-null float64\n",
      "has_header             14337 non-null float64\n",
      "org_twitter            14337 non-null float64\n",
      "account_life           14337 non-null float64\n",
      "event_life             14238 non-null float64\n",
      "eu_currency            14337 non-null int64\n",
      "payout_count           14337 non-null float64\n",
      "total_payout           14337 non-null float64\n",
      "ticket_sales_amount    14337 non-null float64\n",
      "ticket_sales_count     14337 non-null float64\n",
      "wc_description         14337 non-null float64\n",
      "dtypes: bool(2), float64(11), int64(2)\n",
      "memory usage: 1.6 MB\n"
     ]
    }
   ],
   "source": [
    "df = pj.convert_to_df(scaling=True, filtered=True)\n",
    "df.info()"
   ]
  },
  {
   "cell_type": "code",
   "execution_count": 30,
   "metadata": {},
   "outputs": [
    {
     "data": {
      "text/plain": [
       "numpy.float64"
      ]
     },
     "execution_count": 30,
     "metadata": {},
     "output_type": "execute_result"
    }
   ],
   "source": [
    "# type(df['event_life'][0])\n",
    "len(df[df['event_life'] != type(float64)])"
   ]
  },
  {
   "cell_type": "code",
   "execution_count": 33,
   "metadata": {},
   "outputs": [
    {
     "name": "stdout",
     "output_type": "stream",
     "text": [
      "<class 'pandas.core.frame.DataFrame'>\n",
      "Int64Index: 14337 entries, 0 to 14336\n",
      "Data columns (total 15 columns):\n",
      "fraud                  14337 non-null bool\n",
      "payout_type            14337 non-null int64\n",
      "fb_published           14337 non-null bool\n",
      "org_facebook           14337 non-null float64\n",
      "has_analytics          14337 non-null float64\n",
      "has_header             14337 non-null float64\n",
      "org_twitter            14337 non-null float64\n",
      "account_life           14337 non-null float64\n",
      "event_life             14337 non-null float64\n",
      "eu_currency            14337 non-null int64\n",
      "payout_count           14337 non-null float64\n",
      "total_payout           14337 non-null float64\n",
      "ticket_sales_amount    14337 non-null float64\n",
      "ticket_sales_count     14337 non-null float64\n",
      "wc_description         14337 non-null float64\n",
      "dtypes: bool(2), float64(11), int64(2)\n",
      "memory usage: 2.2 MB\n"
     ]
    }
   ],
   "source": [
    "df['event_life'] = df['event_life'].map(lambda x: 0 if np.isnan(x) else x)\n",
    "df.info()"
   ]
  },
  {
   "cell_type": "markdown",
   "metadata": {},
   "source": [
    "date_cols = ['approx_payout_date', 'event_created', 'event_created', 'event_end', \\\n",
    "                     'event_published', 'event_start', 'user_created']\n",
    "\n",
    "for col in date_cols:\n",
    "    print df[col][:5] - df['user_created'][:5]"
   ]
  },
  {
   "cell_type": "code",
   "execution_count": null,
   "metadata": {},
   "outputs": [],
   "source": [
    "df['has_header'][:10]\n",
    "    "
   ]
  },
  {
   "cell_type": "markdown",
   "metadata": {},
   "source": [
    "a = df['event_published'][:5] - df['user_created'][:5]\n",
    "a.var"
   ]
  },
  {
   "cell_type": "markdown",
   "metadata": {},
   "source": [
    "i=12\n",
    "total_payout = 0\n",
    "payout_count = len(df['previous_payouts'][i])\n",
    "payees = set()\n",
    "for d in df['previous_payouts'][i]:\n",
    "    total_payout += d['amount']\n",
    "    payees.add(d['name'])\n",
    "print total_payout, payout_count, payees"
   ]
  },
  {
   "cell_type": "code",
   "execution_count": null,
   "metadata": {
    "collapsed": true
   },
   "outputs": [],
   "source": [
    "a = set()"
   ]
  },
  {
   "cell_type": "code",
   "execution_count": null,
   "metadata": {},
   "outputs": [],
   "source": [
    "df['ticket_types'][0][0].keys()"
   ]
  },
  {
   "cell_type": "code",
   "execution_count": null,
   "metadata": {},
   "outputs": [],
   "source": [
    "Counter(df['fraud'])"
   ]
  },
  {
   "cell_type": "code",
   "execution_count": null,
   "metadata": {},
   "outputs": [],
   "source": [
    "col = 'ticket_sales_amount'\n",
    "print col\n",
    "print \"fraud :\", df[df['fraud'] == True][col].mean()\n",
    "print \"not fraud :\", df[df['fraud'] == False][col].mean()"
   ]
  },
  {
   "cell_type": "code",
   "execution_count": null,
   "metadata": {},
   "outputs": [],
   "source": [
    "col = 'ticket_sales_count'\n",
    "print col\n",
    "print \"fraud :\", df[df['fraud'] == True][col].mean()\n",
    "print \"not fraud :\", df[df['fraud'] == False][col].mean()"
   ]
  },
  {
   "cell_type": "code",
   "execution_count": null,
   "metadata": {},
   "outputs": [],
   "source": [
    "\n",
    "col = 'body_length'\n",
    "print col\n",
    "print \"fraud :\", df[df['fraud'] == True][col].mean()\n",
    "print \"not fraud :\", df[df['fraud'] == False][col].mean()"
   ]
  },
  {
   "cell_type": "code",
   "execution_count": null,
   "metadata": {},
   "outputs": [],
   "source": [
    "df['short_description'][:10]"
   ]
  },
  {
   "cell_type": "code",
   "execution_count": null,
   "metadata": {},
   "outputs": [],
   "source": [
    "df['body_length'][:10]"
   ]
  },
  {
   "cell_type": "code",
   "execution_count": null,
   "metadata": {},
   "outputs": [],
   "source": [
    "Counter(df['currency'])"
   ]
  },
  {
   "cell_type": "code",
   "execution_count": null,
   "metadata": {},
   "outputs": [],
   "source": [
    "# table = pivot_table(df, values='D', index=['A', 'B'],\n",
    "# ...                     columns=['C'], aggfunc=np.sum)\n",
    "table = pd.pivot_table(df, columns=['currency'], values=['fraud'], aggfunc=np.mean)\n",
    "print table"
   ]
  },
  {
   "cell_type": "code",
   "execution_count": null,
   "metadata": {},
   "outputs": [],
   "source": [
    "Counter(df['currency'])"
   ]
  },
  {
   "cell_type": "code",
   "execution_count": null,
   "metadata": {},
   "outputs": [],
   "source": [
    "col = 'ticket_sales_events'\n",
    "print col\n",
    "print \"fraud :\", (df[df['fraud'] == True]['event_created'] - df[df['fraud'] == True]['user_created']).mean()\n",
    "print \"not fraud :\", (df[df['fraud'] == False]['event_created'] - df[df['fraud'] == False]['user_created']).mean()\n"
   ]
  },
  {
   "cell_type": "code",
   "execution_count": null,
   "metadata": {},
   "outputs": [],
   "source": [
    "col = 'has_analytics'\n",
    "print col\n",
    "print \"fraud :\", (df[df['fraud'] == True][col]).mean()\n",
    "print \"not fraud :\", (df[df['fraud'] == False][col]).mean()\n"
   ]
  },
  {
   "cell_type": "code",
   "execution_count": null,
   "metadata": {},
   "outputs": [],
   "source": []
  },
  {
   "cell_type": "code",
   "execution_count": null,
   "metadata": {},
   "outputs": [],
   "source": [
    "import bs4"
   ]
  },
  {
   "cell_type": "code",
   "execution_count": 14,
   "metadata": {},
   "outputs": [
    {
     "ename": "SyntaxError",
     "evalue": "invalid syntax (<ipython-input-14-23fe34dca953>, line 1)",
     "output_type": "error",
     "traceback": [
      "\u001b[0;36m  File \u001b[0;32m\"<ipython-input-14-23fe34dca953>\"\u001b[0;36m, line \u001b[0;32m1\u001b[0m\n\u001b[0;31m    df['event_life'].map(lambda x: 0 if np.isnan(x))\u001b[0m\n\u001b[0m                                                   ^\u001b[0m\n\u001b[0;31mSyntaxError\u001b[0m\u001b[0;31m:\u001b[0m invalid syntax\n"
     ]
    }
   ],
   "source": [
    "df['event_life'].map(lambda x: 0 if np.isnan(x))"
   ]
  },
  {
   "cell_type": "code",
   "execution_count": 13,
   "metadata": {},
   "outputs": [
    {
     "name": "stdout",
     "output_type": "stream",
     "text": [
      "<class 'pandas.core.frame.DataFrame'>\n",
      "Int64Index: 14337 entries, 0 to 14336\n",
      "Data columns (total 16 columns):\n",
      "fraud                  14337 non-null bool\n",
      "short_description      14337 non-null bool\n",
      "payout_type            14337 non-null int64\n",
      "fb_published           14337 non-null bool\n",
      "org_facebook           14337 non-null float64\n",
      "has_analytics          14337 non-null float64\n",
      "has_header             14337 non-null float64\n",
      "org_twitter            14337 non-null float64\n",
      "account_life           14337 non-null float64\n",
      "event_life             14238 non-null float64\n",
      "eu_currency            14337 non-null int64\n",
      "payout_count           14337 non-null float64\n",
      "total_payout           14337 non-null float64\n",
      "ticket_sales_amount    14337 non-null float64\n",
      "ticket_sales_count     14337 non-null float64\n",
      "wc_description         14337 non-null float64\n",
      "dtypes: bool(3), float64(11), int64(2)\n",
      "memory usage: 1.6 MB\n"
     ]
    }
   ],
   "source": [
    "df.info()"
   ]
  },
  {
   "cell_type": "code",
   "execution_count": 19,
   "metadata": {},
   "outputs": [
    {
     "data": {
      "text/plain": [
       "0   -5.0\n",
       "1   -1.0\n",
       "2   -1.0\n",
       "3   -1.0\n",
       "4   -1.0\n",
       "5   -1.0\n",
       "6   -1.0\n",
       "7   -1.0\n",
       "8   -6.0\n",
       "9   -1.0\n",
       "Name: event_life, dtype: float64"
      ]
     },
     "execution_count": 19,
     "metadata": {},
     "output_type": "execute_result"
    }
   ],
   "source": [
    "df['event_life'][:10]"
   ]
  },
  {
   "cell_type": "code",
   "execution_count": null,
   "metadata": {
    "collapsed": true
   },
   "outputs": [],
   "source": []
  }
 ],
 "metadata": {
  "kernelspec": {
   "display_name": "Python 2",
   "language": "python",
   "name": "python2"
  },
  "language_info": {
   "codemirror_mode": {
    "name": "ipython",
    "version": 2
   },
   "file_extension": ".py",
   "mimetype": "text/x-python",
   "name": "python",
   "nbconvert_exporter": "python",
   "pygments_lexer": "ipython2",
   "version": "2.7.13"
  }
 },
 "nbformat": 4,
 "nbformat_minor": 2
}
