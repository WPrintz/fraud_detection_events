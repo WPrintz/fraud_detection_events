{
 "cells": [
  {
   "cell_type": "markdown",
   "metadata": {},
   "source": [
    "# Import modules"
   ]
  },
  {
   "cell_type": "code",
   "execution_count": 25,
   "metadata": {
    "scrolled": true
   },
   "outputs": [],
   "source": [
    "import numpy as np\n",
    "import pandas as pd\n",
    "import matplotlib.pyplot as plt\n",
    "%matplotlib inline\n",
    "from collections import Counter\n",
    "import datetime"
   ]
  },
  {
   "cell_type": "code",
   "execution_count": 63,
   "metadata": {
    "collapsed": true
   },
   "outputs": [],
   "source": [
    "import os\n",
    "import sys\n",
    "module_path = os.path.abspath(os.path.join('..'))\n",
    "if module_path not in sys.path:\n",
    "    sys.path.append(module_path)\n",
    "    \n",
    "# ex: from src.create_model_pickle import *\n"
   ]
  },
  {
   "cell_type": "markdown",
   "metadata": {},
   "source": [
    "# Import data"
   ]
  },
  {
   "cell_type": "code",
   "execution_count": 68,
   "metadata": {},
   "outputs": [],
   "source": [
    "# Use our json to dataframe conversion class\n",
    "from src.pipeline import pipeline_json\n",
    "pj = pipeline_json('../data/data.json')"
   ]
  },
  {
   "cell_type": "code",
   "execution_count": 69,
   "metadata": {},
   "outputs": [
    {
     "name": "stdout",
     "output_type": "stream",
     "text": [
      "<class 'pandas.core.frame.DataFrame'>\n",
      "Int64Index: 14337 entries, 0 to 14336\n",
      "Data columns (total 44 columns):\n",
      "acct_type             14337 non-null object\n",
      "approx_payout_date    14337 non-null datetime64[ns]\n",
      "body_length           14337 non-null int64\n",
      "channels              14337 non-null int64\n",
      "country               14256 non-null object\n",
      "currency              14337 non-null object\n",
      "delivery_method       14321 non-null float64\n",
      "description           14337 non-null object\n",
      "email_domain          14337 non-null object\n",
      "event_created         14337 non-null datetime64[ns]\n",
      "event_end             14337 non-null datetime64[ns]\n",
      "event_published       14238 non-null datetime64[ns]\n",
      "event_start           14337 non-null datetime64[ns]\n",
      "fb_published          14337 non-null int64\n",
      "gts                   14337 non-null float64\n",
      "has_analytics         14337 non-null int64\n",
      "has_header            8928 non-null float64\n",
      "has_logo              14337 non-null int64\n",
      "listed                14337 non-null object\n",
      "name                  14337 non-null object\n",
      "name_length           14337 non-null int64\n",
      "num_order             14337 non-null int64\n",
      "num_payouts           14337 non-null int64\n",
      "object_id             14337 non-null int64\n",
      "org_desc              14337 non-null object\n",
      "org_facebook          14278 non-null float64\n",
      "org_name              14337 non-null object\n",
      "org_twitter           14278 non-null float64\n",
      "payee_name            14337 non-null object\n",
      "payout_type           14337 non-null object\n",
      "previous_payouts      14337 non-null object\n",
      "sale_duration         14182 non-null float64\n",
      "sale_duration2        14337 non-null int64\n",
      "show_map              14337 non-null int64\n",
      "ticket_types          14337 non-null object\n",
      "user_age              14337 non-null int64\n",
      "user_created          14337 non-null datetime64[ns]\n",
      "user_type             14337 non-null int64\n",
      "venue_address         14337 non-null object\n",
      "venue_country         13261 non-null object\n",
      "venue_latitude        13261 non-null float64\n",
      "venue_longitude       13261 non-null float64\n",
      "venue_name            13261 non-null object\n",
      "venue_state           13261 non-null object\n",
      "dtypes: datetime64[ns](6), float64(8), int64(13), object(17)\n",
      "memory usage: 4.9+ MB\n"
     ]
    }
   ],
   "source": [
    "df = pj.convert_to_df()\n",
    "df.info()"
   ]
  },
  {
   "cell_type": "code",
   "execution_count": 90,
   "metadata": {},
   "outputs": [],
   "source": [
    "'''\n",
    "0s or 1s :\n",
    "'show_map', 'fb_published', 'has_logo', , 'has_analytics'\n",
    "\n",
    "\n",
    "integers or floats:\n",
    "'gts', 'sale_duration', 'org_twitter', 'org_facebook'\n",
    "\n",
    "'y' or 'n' :\n",
    "'listed'\n",
    "yn_map = {'y': 1, 'n' : 0}\n",
    "'''\n",
    "\n",
    "# bin clean nan:'has_header'\n",
    "\n",
    "bin_dict = {0 : False, 1 : True}\n",
    "nan_bin_dict = {0 : 0, 1 : 1, None:-1}\n",
    "yn_map = {'y': 1, 'n' : 0}\n",
    "\n",
    "\n",
    "# bin_cols = ['show_map', 'fb_published', 'has_logo', 'has_analytics']\n",
    "# for col in bin_cols:\n",
    "#     df[col] = df[col].map(bin_dict)\n",
    "\n",
    "# yn_cols = ['listed']\n",
    "# for col in yn_cols:\n",
    "#     df[col] = df[col].map(yn_map)\n",
    "\n",
    "bin_nan_cols = ['has_header']\n",
    "for col in bin_nan_cols:\n",
    "    df[col] =\n",
    "    df[col] = df[col].map(nan_bin_dict)\n",
    "    "
   ]
  },
  {
   "cell_type": "code",
   "execution_count": 91,
   "metadata": {},
   "outputs": [
    {
     "name": "stdout",
     "output_type": "stream",
     "text": [
      "<class 'pandas.core.frame.DataFrame'>\n",
      "Int64Index: 14337 entries, 0 to 14336\n",
      "Data columns (total 44 columns):\n",
      "acct_type             14337 non-null object\n",
      "approx_payout_date    14337 non-null datetime64[ns]\n",
      "body_length           14337 non-null int64\n",
      "channels              14337 non-null int64\n",
      "country               14256 non-null object\n",
      "currency              14337 non-null object\n",
      "delivery_method       14321 non-null float64\n",
      "description           14337 non-null object\n",
      "email_domain          14337 non-null object\n",
      "event_created         14337 non-null datetime64[ns]\n",
      "event_end             14337 non-null datetime64[ns]\n",
      "event_published       14238 non-null datetime64[ns]\n",
      "event_start           14337 non-null datetime64[ns]\n",
      "fb_published          14337 non-null object\n",
      "gts                   14337 non-null float64\n",
      "has_analytics         14337 non-null object\n",
      "has_header            8928 non-null float64\n",
      "has_logo              14337 non-null object\n",
      "listed                14337 non-null int64\n",
      "name                  14337 non-null object\n",
      "name_length           14337 non-null int64\n",
      "num_order             14337 non-null int64\n",
      "num_payouts           14337 non-null int64\n",
      "object_id             14337 non-null int64\n",
      "org_desc              14337 non-null object\n",
      "org_facebook          14278 non-null float64\n",
      "org_name              14337 non-null object\n",
      "org_twitter           14278 non-null float64\n",
      "payee_name            14337 non-null object\n",
      "payout_type           14337 non-null object\n",
      "previous_payouts      14337 non-null object\n",
      "sale_duration         14182 non-null float64\n",
      "sale_duration2        14337 non-null int64\n",
      "show_map              14337 non-null object\n",
      "ticket_types          14337 non-null object\n",
      "user_age              14337 non-null int64\n",
      "user_created          14337 non-null datetime64[ns]\n",
      "user_type             14337 non-null int64\n",
      "venue_address         14337 non-null object\n",
      "venue_country         13261 non-null object\n",
      "venue_latitude        13261 non-null float64\n",
      "venue_longitude       13261 non-null float64\n",
      "venue_name            13261 non-null object\n",
      "venue_state           13261 non-null object\n",
      "dtypes: datetime64[ns](6), float64(8), int64(10), object(20)\n",
      "memory usage: 5.5+ MB\n"
     ]
    }
   ],
   "source": [
    "df.info()"
   ]
  },
  {
   "cell_type": "code",
   "execution_count": 50,
   "metadata": {},
   "outputs": [],
   "source": [
    "\n",
    "    "
   ]
  },
  {
   "cell_type": "code",
   "execution_count": null,
   "metadata": {},
   "outputs": [],
   "source": []
  },
  {
   "cell_type": "code",
   "execution_count": null,
   "metadata": {
    "collapsed": true
   },
   "outputs": [],
   "source": []
  }
 ],
 "metadata": {
  "kernelspec": {
   "display_name": "Python 2",
   "language": "python",
   "name": "python2"
  },
  "language_info": {
   "codemirror_mode": {
    "name": "ipython",
    "version": 2
   },
   "file_extension": ".py",
   "mimetype": "text/x-python",
   "name": "python",
   "nbconvert_exporter": "python",
   "pygments_lexer": "ipython2",
   "version": "2.7.13"
  }
 },
 "nbformat": 4,
 "nbformat_minor": 2
}
