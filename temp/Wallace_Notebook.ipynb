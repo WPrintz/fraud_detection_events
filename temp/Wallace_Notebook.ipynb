{
 "cells": [
  {
   "cell_type": "markdown",
   "metadata": {},
   "source": [
    "# Import modules"
   ]
  },
  {
   "cell_type": "code",
   "execution_count": 1,
   "metadata": {
    "scrolled": true
   },
   "outputs": [],
   "source": [
    "import numpy as np\n",
    "import pandas as pd\n",
    "import matplotlib.pyplot as plt\n",
    "%matplotlib inline\n",
    "from collections import Counter\n",
    "import datetime"
   ]
  },
  {
   "cell_type": "code",
   "execution_count": 2,
   "metadata": {
    "collapsed": true
   },
   "outputs": [],
   "source": [
    "import os\n",
    "import sys\n",
    "module_path = os.path.abspath(os.path.join('..'))\n",
    "if module_path not in sys.path:\n",
    "    sys.path.append(module_path)\n",
    "    \n",
    "# ex: from src.create_model_pickle import *\n"
   ]
  },
  {
   "cell_type": "markdown",
   "metadata": {},
   "source": [
    "# Import data"
   ]
  },
  {
   "cell_type": "code",
   "execution_count": 4,
   "metadata": {},
   "outputs": [],
   "source": [
    "# Use our json to dataframe conversion class\n",
    "from src.pipeline import pipeline_json\n",
    "pj = pipeline_json('../data/data.json')"
   ]
  },
  {
   "cell_type": "code",
   "execution_count": 43,
   "metadata": {},
   "outputs": [
    {
     "name": "stdout",
     "output_type": "stream",
     "text": [
      "<class 'pandas.core.frame.DataFrame'>\n",
      "Int64Index: 14337 entries, 0 to 14336\n",
      "Data columns (total 53 columns):\n",
      "acct_type              14337 non-null object\n",
      "approx_payout_date     14337 non-null datetime64[ns]\n",
      "body_length            14337 non-null int64\n",
      "channels               14337 non-null int64\n",
      "country                14256 non-null object\n",
      "currency               14337 non-null object\n",
      "delivery_method        14321 non-null float64\n",
      "description            14337 non-null object\n",
      "email_domain           14337 non-null object\n",
      "event_created          14337 non-null datetime64[ns]\n",
      "event_end              14337 non-null datetime64[ns]\n",
      "event_published        14238 non-null datetime64[ns]\n",
      "event_start            14337 non-null datetime64[ns]\n",
      "fb_published           14337 non-null bool\n",
      "gts                    14337 non-null float64\n",
      "has_analytics          14337 non-null bool\n",
      "has_header             14337 non-null float64\n",
      "has_logo               14337 non-null bool\n",
      "listed                 14337 non-null int64\n",
      "name                   14337 non-null object\n",
      "name_length            14337 non-null int64\n",
      "num_order              14337 non-null int64\n",
      "num_payouts            14337 non-null int64\n",
      "object_id              14337 non-null int64\n",
      "org_desc               14337 non-null object\n",
      "org_facebook           14337 non-null float64\n",
      "org_name               14337 non-null object\n",
      "org_twitter            14337 non-null float64\n",
      "payee_name             14337 non-null object\n",
      "payout_type            14337 non-null int64\n",
      "previous_payouts       14337 non-null object\n",
      "sale_duration          14182 non-null float64\n",
      "sale_duration2         14337 non-null int64\n",
      "show_map               14337 non-null bool\n",
      "ticket_types           14337 non-null object\n",
      "user_age               14337 non-null int64\n",
      "user_created           14337 non-null datetime64[ns]\n",
      "user_type              14337 non-null int64\n",
      "venue_address          14337 non-null object\n",
      "venue_country          13261 non-null object\n",
      "venue_latitude         13261 non-null float64\n",
      "venue_longitude        13261 non-null float64\n",
      "venue_name             13261 non-null object\n",
      "venue_state            13261 non-null object\n",
      "fraud                  14337 non-null bool\n",
      "short_description      14337 non-null bool\n",
      "account_life           14337 non-null int64\n",
      "total_payout           14337 non-null float64\n",
      "payout_count           14337 non-null int64\n",
      "payees_set             14337 non-null object\n",
      "ticket_sales_amount    14337 non-null float64\n",
      "ticket_sales_count     14337 non-null int64\n",
      "ticket_sales_events    14337 non-null int64\n",
      "dtypes: bool(6), datetime64[ns](6), float64(10), int64(15), object(16)\n",
      "memory usage: 5.3+ MB\n"
     ]
    }
   ],
   "source": [
    "df = pj.convert_to_df()\n",
    "df.info()"
   ]
  },
  {
   "cell_type": "markdown",
   "metadata": {},
   "source": [
    "date_cols = ['approx_payout_date', 'event_created', 'event_created', 'event_end', \\\n",
    "                     'event_published', 'event_start', 'user_created']\n",
    "\n",
    "for col in date_cols:\n",
    "    print df[col][:5] - df['user_created'][:5]"
   ]
  },
  {
   "cell_type": "code",
   "execution_count": null,
   "metadata": {},
   "outputs": [],
   "source": [
    "df['has_header'][:10]\n",
    "    "
   ]
  },
  {
   "cell_type": "markdown",
   "metadata": {},
   "source": [
    "a = df['event_published'][:5] - df['user_created'][:5]\n",
    "a.var"
   ]
  },
  {
   "cell_type": "markdown",
   "metadata": {},
   "source": [
    "i=12\n",
    "total_payout = 0\n",
    "payout_count = len(df['previous_payouts'][i])\n",
    "payees = set()\n",
    "for d in df['previous_payouts'][i]:\n",
    "    total_payout += d['amount']\n",
    "    payees.add(d['name'])\n",
    "print total_payout, payout_count, payees"
   ]
  },
  {
   "cell_type": "code",
   "execution_count": null,
   "metadata": {
    "collapsed": true
   },
   "outputs": [],
   "source": [
    "a = set()"
   ]
  },
  {
   "cell_type": "code",
   "execution_count": 16,
   "metadata": {},
   "outputs": [
    {
     "data": {
      "text/plain": [
       "[u'event_id', u'cost', u'availability', u'quantity_total', u'quantity_sold']"
      ]
     },
     "execution_count": 16,
     "metadata": {},
     "output_type": "execute_result"
    }
   ],
   "source": [
    "df['ticket_types'][0][0].keys()"
   ]
  },
  {
   "cell_type": "code",
   "execution_count": 17,
   "metadata": {},
   "outputs": [
    {
     "data": {
      "text/plain": [
       "Counter({False: 13044, True: 1293})"
      ]
     },
     "execution_count": 17,
     "metadata": {},
     "output_type": "execute_result"
    }
   ],
   "source": [
    "Counter(df['fraud'])"
   ]
  },
  {
   "cell_type": "code",
   "execution_count": 36,
   "metadata": {},
   "outputs": [
    {
     "name": "stdout",
     "output_type": "stream",
     "text": [
      "ticket_sales_count\n",
      "fraud : 1.73008507347\n",
      "not fraud : 2.78994173566\n"
     ]
    }
   ],
   "source": [
    "col = 'ticket_sales_amount'\n",
    "print col\n",
    "print \"fraud :\", df[df['fraud'] == True][col].mean()\n",
    "print \"not fraud :\", df[df['fraud'] == False][col].mean()"
   ]
  },
  {
   "cell_type": "code",
   "execution_count": 32,
   "metadata": {},
   "outputs": [
    {
     "name": "stdout",
     "output_type": "stream",
     "text": [
      "total_payout\n",
      "fraud : 1227.46851508\n",
      "not fraud : 93904.2333517\n"
     ]
    }
   ],
   "source": [
    "col = 'total_payout'\n",
    "print col\n",
    "print \"fraud :\", df[df['fraud'] == True][col].mean()\n",
    "print \"not fraud :\", df[df['fraud'] == False][col].mean()"
   ]
  },
  {
   "cell_type": "code",
   "execution_count": null,
   "metadata": {
    "collapsed": true
   },
   "outputs": [],
   "source": []
  }
 ],
 "metadata": {
  "kernelspec": {
   "display_name": "Python 2",
   "language": "python",
   "name": "python2"
  },
  "language_info": {
   "codemirror_mode": {
    "name": "ipython",
    "version": 2
   },
   "file_extension": ".py",
   "mimetype": "text/x-python",
   "name": "python",
   "nbconvert_exporter": "python",
   "pygments_lexer": "ipython2",
   "version": "2.7.13"
  }
 },
 "nbformat": 4,
 "nbformat_minor": 2
}
