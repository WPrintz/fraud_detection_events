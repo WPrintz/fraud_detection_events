{
 "cells": [
  {
   "cell_type": "markdown",
   "metadata": {},
   "source": [
    "# Import modules"
   ]
  },
  {
   "cell_type": "code",
   "execution_count": null,
   "metadata": {
    "collapsed": true,
    "scrolled": true
   },
   "outputs": [],
   "source": [
    "import numpy as np\n",
    "import pandas as pd\n",
    "import matplotlib.pyplot as plt\n",
    "%matplotlib inline\n",
    "from collections import Counter\n",
    "import datetime"
   ]
  },
  {
   "cell_type": "code",
   "execution_count": 2,
   "metadata": {
    "collapsed": true
   },
   "outputs": [],
   "source": [
    "import os\n",
    "import sys\n",
    "module_path = os.path.abspath(os.path.join('..'))\n",
    "if module_path not in sys.path:\n",
    "    sys.path.append(module_path)\n",
    "    \n",
    "# ex: from src.create_model_pickle import *\n"
   ]
  },
  {
   "cell_type": "markdown",
   "metadata": {},
   "source": [
    "# Import data"
   ]
  },
  {
   "cell_type": "code",
   "execution_count": null,
   "metadata": {
    "collapsed": true
   },
   "outputs": [],
   "source": [
    "# Use our json to dataframe conversion class\n",
    "from src.pipeline import pipeline_json\n",
    "pj = pipeline_json('../data/data.json')"
   ]
  },
  {
   "cell_type": "code",
   "execution_count": null,
   "metadata": {},
   "outputs": [],
   "source": [
    "df = pj.convert_to_df(scaling=True, filtered=True)\n",
    "df.info()"
   ]
  },
  {
   "cell_type": "code",
   "execution_count": null,
   "metadata": {
    "collapsed": true
   },
   "outputs": [],
   "source": [
    "df.describe()"
   ]
  },
  {
   "cell_type": "code",
   "execution_count": null,
   "metadata": {
    "collapsed": true
   },
   "outputs": [],
   "source": [
    "df['event_life'] = df['event_life'].map(lambda x: 0 if np.isnan(x) else x)\n",
    "df.info()"
   ]
  },
  {
   "cell_type": "markdown",
   "metadata": {},
   "source": [
    "date_cols = ['approx_payout_date', 'event_created', 'event_created', 'event_end', \\\n",
    "                     'event_published', 'event_start', 'user_created']\n",
    "\n",
    "for col in date_cols:\n",
    "    print df[col][:5] - df['user_created'][:5]"
   ]
  },
  {
   "cell_type": "code",
   "execution_count": null,
   "metadata": {
    "collapsed": true
   },
   "outputs": [],
   "source": [
    "df['has_header'][:10]\n",
    "    "
   ]
  },
  {
   "cell_type": "markdown",
   "metadata": {},
   "source": [
    "a = df['event_published'][:5] - df['user_created'][:5]\n",
    "a.var"
   ]
  },
  {
   "cell_type": "markdown",
   "metadata": {},
   "source": [
    "i=12\n",
    "total_payout = 0\n",
    "payout_count = len(df['previous_payouts'][i])\n",
    "payees = set()\n",
    "for d in df['previous_payouts'][i]:\n",
    "    total_payout += d['amount']\n",
    "    payees.add(d['name'])\n",
    "print total_payout, payout_count, payees"
   ]
  },
  {
   "cell_type": "code",
   "execution_count": null,
   "metadata": {
    "collapsed": true
   },
   "outputs": [],
   "source": [
    "a = set()"
   ]
  },
  {
   "cell_type": "code",
   "execution_count": null,
   "metadata": {
    "collapsed": true
   },
   "outputs": [],
   "source": [
    "df['ticket_types'][0][0].keys()"
   ]
  },
  {
   "cell_type": "code",
   "execution_count": null,
   "metadata": {
    "collapsed": true
   },
   "outputs": [],
   "source": [
    "Counter(df['fraud'])"
   ]
  },
  {
   "cell_type": "code",
   "execution_count": null,
   "metadata": {
    "collapsed": true
   },
   "outputs": [],
   "source": [
    "col = 'ticket_sales_amount'\n",
    "print col\n",
    "print \"fraud :\", df[df['fraud'] == True][col].mean()\n",
    "print \"not fraud :\", df[df['fraud'] == False][col].mean()"
   ]
  },
  {
   "cell_type": "code",
   "execution_count": null,
   "metadata": {
    "collapsed": true
   },
   "outputs": [],
   "source": [
    "col = 'ticket_sales_count'\n",
    "print col\n",
    "print \"fraud :\", df[df['fraud'] == True][col].mean()\n",
    "print \"not fraud :\", df[df['fraud'] == False][col].mean()"
   ]
  },
  {
   "cell_type": "code",
   "execution_count": null,
   "metadata": {
    "collapsed": true
   },
   "outputs": [],
   "source": [
    "\n",
    "col = 'body_length'\n",
    "print col\n",
    "print \"fraud :\", df[df['fraud'] == True][col].mean()\n",
    "print \"not fraud :\", df[df['fraud'] == False][col].mean()"
   ]
  },
  {
   "cell_type": "code",
   "execution_count": null,
   "metadata": {
    "collapsed": true
   },
   "outputs": [],
   "source": [
    "df['short_description'][:10]"
   ]
  },
  {
   "cell_type": "code",
   "execution_count": null,
   "metadata": {
    "collapsed": true
   },
   "outputs": [],
   "source": [
    "df['body_length'][:10]"
   ]
  },
  {
   "cell_type": "code",
   "execution_count": null,
   "metadata": {
    "collapsed": true
   },
   "outputs": [],
   "source": [
    "Counter(df['currency'])"
   ]
  },
  {
   "cell_type": "code",
   "execution_count": null,
   "metadata": {
    "collapsed": true
   },
   "outputs": [],
   "source": [
    "# table = pivot_table(df, values='D', index=['A', 'B'],\n",
    "# ...                     columns=['C'], aggfunc=np.sum)\n",
    "table = pd.pivot_table(df, columns=['currency'], values=['fraud'], aggfunc=np.mean)\n",
    "print table"
   ]
  },
  {
   "cell_type": "code",
   "execution_count": null,
   "metadata": {
    "collapsed": true
   },
   "outputs": [],
   "source": [
    "Counter(df['currency'])"
   ]
  },
  {
   "cell_type": "code",
   "execution_count": null,
   "metadata": {
    "collapsed": true
   },
   "outputs": [],
   "source": [
    "col = 'ticket_sales_events'\n",
    "print col\n",
    "print \"fraud :\", (df[df['fraud'] == True]['event_created'] - df[df['fraud'] == True]['user_created']).mean()\n",
    "print \"not fraud :\", (df[df['fraud'] == False]['event_created'] - df[df['fraud'] == False]['user_created']).mean()\n"
   ]
  },
  {
   "cell_type": "code",
   "execution_count": null,
   "metadata": {
    "collapsed": true
   },
   "outputs": [],
   "source": [
    "col = 'has_analytics'\n",
    "print col\n",
    "print \"fraud :\", (df[df['fraud'] == True][col]).mean()\n",
    "print \"not fraud :\", (df[df['fraud'] == False][col]).mean()\n"
   ]
  },
  {
   "cell_type": "code",
   "execution_count": null,
   "metadata": {
    "collapsed": true
   },
   "outputs": [],
   "source": []
  },
  {
   "cell_type": "code",
   "execution_count": null,
   "metadata": {
    "collapsed": true
   },
   "outputs": [],
   "source": [
    "import bs4"
   ]
  },
  {
   "cell_type": "code",
   "execution_count": null,
   "metadata": {
    "collapsed": true
   },
   "outputs": [],
   "source": [
    "df['event_life'].map(lambda x: 0 if np.isnan(x))"
   ]
  },
  {
   "cell_type": "code",
   "execution_count": null,
   "metadata": {
    "collapsed": true
   },
   "outputs": [],
   "source": [
    "df.info()"
   ]
  },
  {
   "cell_type": "code",
   "execution_count": null,
   "metadata": {
    "collapsed": true
   },
   "outputs": [],
   "source": [
    "df['event_life'][:10]"
   ]
  },
  {
   "cell_type": "markdown",
   "metadata": {},
   "source": [
    "# Setup PostgreSQL table"
   ]
  },
  {
   "cell_type": "markdown",
   "metadata": {},
   "source": [
    "PostgreSQL database is already setup with a table \"events\".\n",
    "\n",
    "Table \"events\" has two fields :\n",
    "\n",
    "    \"predict\" : [float]\n",
    "    \n",
    "    \"json\" : [text]\n",
    "    "
   ]
  },
  {
   "cell_type": "code",
   "execution_count": null,
   "metadata": {
    "collapsed": true
   },
   "outputs": [],
   "source": [
    "#Read sample data to json file for testing writing to database\n",
    "with open('../data/example.json', 'r') as f:\n",
    "        json_ex = f.read()"
   ]
  },
  {
   "cell_type": "code",
   "execution_count": null,
   "metadata": {
    "collapsed": true
   },
   "outputs": [],
   "source": [
    "import psycopg2"
   ]
  },
  {
   "cell_type": "code",
   "execution_count": null,
   "metadata": {
    "collapsed": true
   },
   "outputs": [],
   "source": [
    "#Call prediction on JSON data\n",
    "\n",
    "predict = 0.5"
   ]
  },
  {
   "cell_type": "code",
   "execution_count": null,
   "metadata": {
    "collapsed": true
   },
   "outputs": [],
   "source": [
    "#Write prediction and JSON string to database\n",
    "conn = psycopg2.connect(dbname = 'fraud', port=5432, password='', user='wallace', host='localhost')\n",
    "cur = conn.cursor()\n",
    "cur.execute(\"INSERT INTO events (predict, json) VALUES (%s, %s)\",(predict, json_ex))\n",
    "conn.commit()\n",
    "cur.close()\n",
    "conn.close()"
   ]
  },
  {
   "cell_type": "code",
   "execution_count": null,
   "metadata": {
    "collapsed": true,
    "scrolled": false
   },
   "outputs": [],
   "source": [
    "#Read table and print results\n",
    "conn = psycopg2.connect(dbname = 'fraud', port=5432, password='', user='wallace', host='localhost')\n",
    "cur = conn.cursor()\n",
    "query = '''SELECT * FROM events;'''\n",
    "cur.execute(query)\n",
    "rows = cur.fetchall()\n",
    "for i in xrange(len(rows)):\n",
    "    print rows[i]\n",
    "    print\n",
    "cur.close()\n",
    "conn.close()\n"
   ]
  },
  {
   "cell_type": "code",
   "execution_count": null,
   "metadata": {
    "collapsed": true
   },
   "outputs": [],
   "source": []
  },
  {
   "cell_type": "code",
   "execution_count": null,
   "metadata": {
    "collapsed": true
   },
   "outputs": [],
   "source": []
  },
  {
   "cell_type": "code",
   "execution_count": null,
   "metadata": {
    "collapsed": true
   },
   "outputs": [],
   "source": [
    "cur.close()\n",
    "conn.close()\n"
   ]
  },
  {
   "cell_type": "code",
   "execution_count": null,
   "metadata": {
    "collapsed": true
   },
   "outputs": [],
   "source": []
  },
  {
   "cell_type": "code",
   "execution_count": null,
   "metadata": {
    "collapsed": true
   },
   "outputs": [],
   "source": []
  },
  {
   "cell_type": "markdown",
   "metadata": {},
   "source": [
    "# Read and split JSON file from disk"
   ]
  },
  {
   "cell_type": "code",
   "execution_count": 3,
   "metadata": {
    "collapsed": true
   },
   "outputs": [],
   "source": [
    "json_df = pd.read_json('../data/data.json')"
   ]
  },
  {
   "cell_type": "code",
   "execution_count": null,
   "metadata": {},
   "outputs": [],
   "source": [
    "print len(json_df)"
   ]
  },
  {
   "cell_type": "code",
   "execution_count": 27,
   "metadata": {
    "scrolled": true
   },
   "outputs": [
    {
     "name": "stdout",
     "output_type": "stream",
     "text": [
      "{\"acct_type\":\"fraudster_event\",\"approx_payout_date\":1266062400,\"body_length\":3852,\"channels\":5,\"country\":\"US\",\"currency\":\"USD\",\"delivery_method\":0.0,\"description\":\"<p><a href=\\\"http:\\/\\/s432.photobucket.com\\/albums\\/qq49\\/digusonline\\/?action=view&amp;current=supersunday.jpg\\\" target=\\\"_blank\\\"><img src=\\\"http:\\/\\/i432.photobucket.com\\/albums\\/qq49\\/digusonline\\/supersunday.jpg\\\" border=\\\"0\\\" alt=\\\"Photobucket\\\" \\/><\\/a><\\/p>\\r\\n<p>\\u00a0<\\/p>\\r\\n<p style=\\\"text-align: center;\\\"><font size=\\\"3\\\"><strong>Party Starz Entertaintment &amp; Diverse International Group Presents...<br \\/><\\/strong><\\/font><br \\/><font face=\\\"tahoma,arial,helvetica,sans-serif\\\" size=\\\"4\\\"><strong>The Official\\u00a0\\\"99 Hour No Sleep\\\" Super Bowl <\\/strong><\\/font><\\/p>\\r\\n<p style=\\\"text-align: center;\\\"><font face=\\\"tahoma,arial,helvetica,sans-serif\\\" size=\\\"4\\\"><strong>Weekend <\\/strong><\\/font><font face=\\\"tahoma,arial,helvetica,sans-serif\\\" size=\\\"4\\\"><strong>Grand Finale<\\/strong><\\/font><\\/p>\\r\\n<p><br \\/><span style=\\\"font-family: Times New Roman,serif;\\\"><font size=\\\"3\\\"><font face=\\\"tahoma,arial,helvetica,sans-serif\\\">No matter who wins or loses, this post-game party cannot be missed! Enjoy the drink specials and all night music!<strong>\\u00a0<\\/strong><\\/font><\\/font><span style=\\\"font-family: Times New Roman,serif;\\\"><font face=\\\"tahoma,arial,helvetica,sans-serif\\\" size=\\\"3\\\">The ultimate \\\"99 No Sleep\\\"\\u00a0Super Bowl Weekend Grand Finale! Sunday, February 7th, 2010 @ Ink Nightclub-South Beach (717 Washington Ave, Miami Bch, FL 33139).<\\/font><\\/span><\\/span><\\/p>\\r\\n<p><span style=\\\"font-family: Times New Roman,serif;\\\"><span style=\\\"font-family: Times New Roman,serif;\\\"><font face=\\\"tahoma,arial,helvetica,sans-serif\\\" size=\\\"3\\\">Hosted by 99 Jamz with special appearances by Fast Life Youngstaz. Special invited guests: Billy Blue, Dorrough and Brisco and with performances by various artist's and many many more at South Beach\\u00a0Miami's finest venue! This is a party you have to see to believe! This is everyone's last chance to make that impression, so don't\\u00a0half-step, bring your \\\"A\\\" game\\u00a0and party with\\u00a0all of the hottest artists, celebrities, models and superstar athletes that are guaranteed to be in the building!<\\/font><\\/span><\\/span><\\/p>\\r\\n<p><span style=\\\"font-family: Times New Roman,serif;\\\"><font size=\\\"3\\\"><span style=\\\"font-family: Times New Roman,serif;\\\"><font face=\\\"tahoma,arial,helvetica,sans-serif\\\">DJ Q &amp; DJ Slym will ber keepig the party jumping til the sun comes up with the hottest Hip-Hop, R&amp;B, Reggae, Old School and more. <\\/font><\\/span><\\/font><\\/span><\\/p>\\r\\n<p><span style=\\\"font-family: Times New Roman,serif;\\\"><font size=\\\"3\\\"><span style=\\\"font-family: Times New Roman,serif;\\\"><font face=\\\"tahoma,arial,helvetica,sans-serif\\\">Doors open @ 10pm. Ladies are 18+ and 21+ for Gents. 2-4-1 drinks until 1am, plus the best bottle specials ALL NIGHT LONG!!! We're offering\\u00a0Super Bowl game ticket stub discounts all night!<\\/font><\\/span><\\/font><\\/span><\\/p>\\r\\n<p><span style=\\\"font-family: Times New Roman,serif;\\\"><font size=\\\"3\\\"><span style=\\\"font-family: Times New Roman,serif;\\\"><font face=\\\"tahoma,arial,helvetica,sans-serif\\\">Dress code is\\u00a0enforced, but it's not what you wear but how you wear it!\\u00a0All-Night Drink Specials! For more information\\u00a0&amp; table reservations email<\\/font><\\/span><\\/font><\\/span><span style=\\\"font-family: Times New Roman,serif;\\\"><font size=\\\"3\\\"><span style=\\\"font-family: Times New Roman,serif;\\\"><font face=\\\"tahoma,arial,helvetica,sans-serif\\\">: <a href=\\\"mailto:99hrnosleepweekend@gmail.com\\\">99hrnosleepweekend@gmail.com<\\/a> or 305.742.4880.<\\/font><\\/span><\\/font><\\/span><\\/p>\\r\\n<p><span style=\\\"font-family: Times New Roman,serif;\\\"><\\/span><\\/p>\\r\\n<p>\\u00a0<\\/p>\\r\\n<p style=\\\"text-align: center;\\\"><span style=\\\"font-family: Times New Roman,serif;\\\"><font size=\\\"3\\\"><span style=\\\"font-family: Times New Roman,serif;\\\"><font face=\\\"tahoma,arial,helvetica,sans-serif\\\">This is a 99 Hour No Sleep Celebrity Super Bowl Weekend event! <a \\r\\n<p>\\u00a0<\\/p>\",\"email_domain\":\"gmail.com\",\"event_created\":1262739706,\"event_end\":1265630400,\"event_published\":1263109838.0,\"event_start\":1265594400,\"fb_published\":0,\"gts\":0.0,\"has_analytics\":0,\"has_header\":1.0,\"has_logo\":0,\"listed\":\"y\",\"name\":\"99 HOUR \\\"NO SLEEP\\\" SUPER BOWL CELEBRITY WEEKEND GRAND FINALE\",\"name_length\":60,\"num_order\":0,\"num_payouts\":0,\"object_id\":527017,\"org_desc\":\"\",\"org_facebook\":0.0,\"org_name\":\"Party Starz Ent & Diverse Int'l Group\",\"org_twitter\":0.0,\"payee_name\":\"\",\"payout_type\":\"\",\"previous_payouts\":[],\"sale_duration\":29.0,\"sale_duration2\":33,\"show_map\":1,\"ticket_types\":[{\"event_id\":527017,\"cost\":25.0,\"availability\":1,\"quantity_total\":800,\"quantity_sold\":0},{\"event_id\":527017,\"cost\":50.0,\"availability\":1,\"quantity_total\":100,\"quantity_sold\":0},{\"event_id\":527017,\"cost\":550.0,\"availability\":1,\"quantity_total\":20,\"quantity_sold\":0}],\"user_age\":36,\"user_created\":1259613950,\"user_type\":1,\"venue_address\":\"717 Washington Avenue\",\"venue_country\":\"US\",\"venue_latitude\":25.777471,\"venue_longitude\":-80.1334329,\"venue_name\":\"INK Nightclub - South Beach\",\"venue_state\":\"FL\"}\n",
      "\n",
      "{\"acct_type\":\"premium\",\"approx_payout_date\":1296720000,\"body_length\":3499,\"channels\":0,\"country\":\"US\",\"currency\":\"USD\",\"delivery_method\":1.0,\"description\":\"<p>Join us for a quick, one-night, community-building trip to Charleston, SC.<\\/p>\\r\\n<p><strong>COST:<\\/strong><\\/p>\\r\\n<p>The trip costs a total of $35, which includes breakfast and lunch on Saturday and housing. You will be responsible to pay for your own dinner on Friday and Saturday. Early Bird tickets are available until noon on January 20 and include a great Winter Getaway T-Shirt. So don't wait to register!<\\/p>\\r\\n<p>Registration ends at noon on January 27.<\\/p>\\r\\n<p>A <em>very limited number<\\/em> of scholarships are available. Contact your campus minister as soon as possible to see if you qualify.<\\/p>\\r\\n<p><strong>TRANSPORTATION:<\\/strong><\\/p>\\r\\n<p>We are working to secure two fifteen passenger buses, which will be filled on a first-come, first-served basis. Payment must be received before a slot on a bus can be reserved. You will be responsible for your own transportation if a bus slot is not available.<\\/p>\\r\\n<p><strong>WHAT TO BRING:<\\/strong><\\/p>\\r\\n<p>We will be staying in the gym of <a href=\\\"http:\\/\\/www.metronorthpca.org\\/\\\">Metro North Presbyterian Church<\\/a> in Goose Creek, SC, and showering (maybe) at various members homes. You will want to bring an air mattress, sleeping bag, towel, and anything else you might need to get a good nights sleep on a cold gym floor.<\\/p>\\r\\n<p>You will also need to bring money for dinner on Friday and Saturday night.<\\/p>\\r\\n<p><strong>WHAT WE'RE DOING:<\\/strong><\\/p>\\r\\n<p>Here is our general (and tentative) itinerary:<\\/p>\\r\\n<p><span style=\\\"text-decoration: underline;\\\">Friday<\\/span><\\/p>\\r\\n<p>3pm - Leave from the Dinkins Parking Lot at Winthrop University<br \\/>6pm - Arrive at Metro North Church and drop off belongings<br \\/>8pm - Eat dinner in downtown Charleston, hang out<br \\/>11pm - Return to Metro North, sleep<\\/p>\\r\\n<p><span style=\\\"text-decoration: underline;\\\">Saturday<\\/span><\\/p>\\r\\n<p>9am - Breakfast<br \\/>10am - Seminar on Faith in Life<br \\/>11am - Pack, clean up, load up\\u00a0<br \\/>noon - Lunch<br \\/>1pm - Head to the beach<br \\/>5pm - Head back to downtown Charleston (dinner on your own)<br \\/>9pm - Leave for Rock Hill\\u00a0<br \\/>midnight - Arrive in home\\u00a0<\\/p>\\r\\n<p><strong>WAIVERS<\\/strong><\\/p>\\r\\n<p>By registering for this conference, you hereby acknowledge your agreement to the following waivers:<\\/p>\\r\\n<p><span style=\\\"text-decoration: underline;\\\">Emergency Waiver<\\/span><\\/p>\\r\\n<p>I the attendee hereby authorize the staff of Reformed University Fellowship at Winthrop to act as my agent to consent to medical, surgical, or dental examination and\\/or treatment. In case of emergency, I hereby authorize treatment and\\/or care at any hospital.<\\/p>\\r\\n<p><span style=\\\"text-decoration: underline;\\\">Insurance and Liability Waiver<\\/span><\\/p>\\r\\n<p><span>In consideration of my being allowed to participate in the Winthrop RUF Winter Getaway, I hereby assume all risks involved in my participation in this event. I understand that I will be responsible for any medical expenses for myself and waive any legal right or claim I or my family might have against Reformed University Fellowship\\/Ministries, its staff, or Board of Directors, as a result of any injury incurred or death by participation in activities or travel to or from the 2011 Winter Getaway. I agree that the foregoing insurance and liability waiver agreement is intended to be as broad and inclusive as is permitted by law in the State\\/Province in which the event is conducted and that if any portion thereof is held invalid it is agreed that the balance shall continue in full force and effect.\\u00a0<\\/span><\\/p>\",\"email_domain\":\"ruf.org\",\"event_created\":1293832670,\"event_end\":1296288000,\"event_published\":1293833295.0,\"event_start\":1296255600,\"fb_published\":0,\"gts\":868.02,\"has_analytics\":0,\"has_header\":0.0,\"has_logo\":1,\"listed\":\"n\",\"name\":\"Winthrop RUF Winter Getaway\",\"name_length\":27,\"num_order\":23,\"num_payouts\":1,\"object_id\":786878,\"org_desc\":\"<p>Since 1987, RUF has ministered to students at Winthrop, giving a well-developed, heart-felt witness to the person and work of Jesus Christ. We long to cultivate mature relationships among students that manifest themselves in a love for others, a heart for service, and a deep intimacy with the Living God. As God deals with us through His Word and through each other, we hope to see the Kingdom of God advance beyond the walls of Winthrop into the community at large. We invite you to be a part of God\\u2019s work in, with, and through RUF at Winthrop.<\\/p>\",\"org_facebook\":0.0,\"org_name\":\"RUF at Winthrop University\",\"org_twitter\":12.0,\"payee_name\":\"RUF\",\"payout_type\":\"CHECK\",\"previous_payouts\":[{\"name\":\"RUF\",\"created\":\"2010-10-01 01:10:09\",\"country\":\"US\",\"state\":\"GA\",\"amount\":34389.38,\"address\":\"1700 North Brown Road\",\"zip_code\":\"30043\",\"event\":786869,\"uid\":5419068},{\"name\":\"RUF\",\"created\":\"2011-02-02 01:12:10\",\"country\":\"US\",\"state\":\"GA\",\"amount\":764.93,\"address\":\"1700 North Brown Road\",\"zip_code\":\"30043\",\"event\":786878,\"uid\":5419068},{\"name\":\"RUF\",\"created\":\"2011-03-15 01:30:42\",\"country\":\"US\",\"state\":\"GA\",\"amount\":17405.26,\"address\":\"1700 North Brown Road\",\"zip_code\":\"30043\",\"event\":1181203,\"uid\":5419068},{\"name\":\"RUF\",\"created\":\"2011-03-15 01:30:42\",\"country\":\"US\",\"state\":\"GA\",\"amount\":2224.16,\"address\":\"1700 North Brown Road\",\"zip_code\":\"30043\",\"event\":1293213,\"uid\":5419068},{\"name\":\"RUF\",\"created\":\"2011-04-01 01:30:31\",\"country\":\"US\",\"state\":\"GA\",\"amount\":5370.58,\"address\":\"1700 North Brown Road\",\"zip_code\":\"30043\",\"event\":1181203,\"uid\":5419068},{\"name\":\"RUF\",\"created\":\"2011-05-01 01:30:48\",\"country\":\"US\",\"state\":\"GA\",\"amount\":81511.89,\"address\":\"1700 North Brown Road\",\"zip_code\":\"30043\",\"event\":1181203,\"uid\":5419068},{\"name\":\"RUF\",\"created\":\"2011-05-01 01:30:48\",\"country\":\"US\",\"state\":\"GA\",\"amount\":86855.8,\"address\":\"1700 North Brown Road\",\"zip_code\":\"30043\",\"event\":1293213,\"uid\":5419068},{\"name\":\"RUF\",\"created\":\"2011-05-15 01:30:31\",\"country\":\"US\",\"state\":\"GA\",\"amount\":3095.08,\"address\":\"1700 North Brown Road\",\"zip_code\":\"30043\",\"event\":1293213,\"uid\":5419068},{\"name\":\"RUF\",\"created\":\"2011-05-19 01:13:14\",\"country\":\"US\",\"state\":\"GA\",\"amount\":40833.14,\"address\":\"1700 North Brown Road\",\"zip_code\":\"30043\",\"event\":1181203,\"uid\":5419068},{\"name\":\"RUF\",\"created\":\"2011-05-26 01:12:49\",\"country\":\"US\",\"state\":\"GA\",\"amount\":25751.65,\"address\":\"1700 North Brown Road\",\"zip_code\":\"30043\",\"event\":1293213,\"uid\":5419068},{\"name\":\"RUF\",\"created\":\"2011-08-15 01:30:34\",\"country\":\"US\",\"state\":\"GA\",\"amount\":261.89,\"address\":\"1700 North Brown Road\",\"zip_code\":\"30043\",\"event\":1225457,\"uid\":5419068},{\"name\":\"RUF\",\"created\":\"2011-08-23 01:10:51\",\"country\":\"US\",\"state\":\"GA\",\"amount\":32.5,\"address\":\"1700 North Brown Road\",\"zip_code\":\"30043\",\"event\":1225457,\"uid\":5419068},{\"name\":\"RUF\",\"created\":\"2011-09-01 01:30:49\",\"country\":\"US\",\"state\":\"GA\",\"amount\":2318.73,\"address\":\"1700 North Brown Road\",\"zip_code\":\"30043\",\"event\":1988623,\"uid\":5419068},{\"name\":\"RUF\",\"created\":\"2011-09-15 01:30:27\",\"country\":\"US\",\"state\":\"GA\",\"amount\":21481.32,\"address\":\"1700 North Brown Road\",\"zip_code\":\"30043\",\"event\":1988623,\"uid\":5419068},{\"name\":\"RUF\",\"created\":\"2011-09-30 01:11:01\",\"country\":\"US\",\"state\":\"GA\",\"amount\":16142.47,\"address\":\"1700 North Brown Road\",\"zip_code\":\"30043\",\"event\":1988623,\"uid\":5419068},{\"name\":\"RUF\",\"created\":\"2011-10-01 01:30:29\",\"country\":\"US\",\"state\":\"GA\",\"amount\":132.04,\"address\":\"1700 North Brown Road\",\"zip_code\":\"30043\",\"event\":2218060,\"uid\":5419068},{\"name\":\"RUF\",\"created\":\"2011-10-15 01:30:25\",\"country\":\"US\",\"state\":\"GA\",\"amount\":793.81,\"address\":\"1700 North Brown Road\",\"zip_code\":\"30043\",\"event\":2218060,\"uid\":5419068},{\"name\":\"RUF\",\"created\":\"2011-10-21 01:11:23\",\"country\":\"US\",\"state\":\"GA\",\"amount\":113.0,\"address\":\"1700 North Brown Road\",\"zip_code\":\"30043\",\"event\":2218060,\"uid\":5419068},{\"name\":\"RUF\",\"created\":\"2012-02-01 03:30:53\",\"country\":\"US\",\"state\":\"GA\",\"amount\":7032.66,\"address\":\"1700 North Brown Road\",\"zip_code\":\"30043\",\"event\":2759189,\"uid\":5419068},{\"name\":\"RUF\",\"created\":\"2012-02-01 03:30:53\",\"country\":\"US\",\"state\":\"GA\",\"amount\":1876.73,\"address\":\"1700 North Brown Road\",\"zip_code\":\"30043\",\"event\":2804299,\"uid\":5419068},{\"name\":\"RUF\",\"created\":\"2012-02-02 03:12:43\",\"country\":\"US\",\"state\":\"GA\",\"amount\":146.13,\"address\":\"1700 North Brown Road\",\"zip_code\":\"30043\",\"event\":2738145,\"uid\":5419068},{\"name\":\"RUF \",\"created\":\"2012-02-15 03:30:44\",\"country\":\"US\",\"state\":\"GA\",\"amount\":263.93,\"address\":\"1700 North Brown Road\",\"zip_code\":\"30043\",\"event\":2707505,\"uid\":5419068},{\"name\":\"RUF\",\"created\":\"2012-02-15 03:30:44\",\"country\":\"US\",\"state\":\"GA\",\"amount\":5425.92,\"address\":\"1700 North Brown Road\",\"zip_code\":\"30043\",\"event\":2759189,\"uid\":5419068},{\"name\":\"RUF\",\"created\":\"2012-02-17 03:12:04\",\"country\":\"US\",\"state\":\"GA\",\"amount\":5848.27,\"address\":\"1700 North Brown Road\",\"zip_code\":\"30043\",\"event\":2804299,\"uid\":5419068},{\"name\":\"RUF\",\"created\":\"2012-03-02 03:12:11\",\"country\":\"US\",\"state\":\"GA\",\"amount\":3984.25,\"address\":\"1700 North Brown Road\",\"zip_code\":\"30043\",\"event\":2759189,\"uid\":5419068},{\"name\":\"RUF\",\"created\":\"2012-03-15 03:30:49\",\"country\":\"US\",\"state\":\"GA\",\"amount\":29683.73,\"address\":\"1700 North Brown Road\",\"zip_code\":\"30043\",\"event\":2760853,\"uid\":5419068},{\"name\":\"RUF\",\"created\":\"2012-03-15 03:30:49\",\"country\":\"US\",\"state\":\"GA\",\"amount\":10379.33,\"address\":\"1700 North Brown Road\",\"zip_code\":\"30043\",\"event\":3049167,\"uid\":5419068},{\"name\":\"RUF \",\"created\":\"2012-03-29 03:13:28\",\"country\":\"US\",\"state\":\"GA\",\"amount\":31.07,\"address\":\"1700 North Brown Road\",\"zip_code\":\"30043\",\"event\":2707505,\"uid\":5419068},{\"name\":\"RUF\",\"created\":\"2012-04-01 03:30:55\",\"country\":\"US\",\"state\":\"GA\",\"amount\":43465.59,\"address\":\"1700 North Brown Road\",\"zip_code\":\"30043\",\"event\":2760853,\"uid\":5419068},{\"name\":\"RUF\",\"created\":\"2012-04-01 03:30:55\",\"country\":\"US\",\"state\":\"GA\",\"amount\":16894.06,\"address\":\"1700 North Brown Road\",\"zip_code\":\"30043\",\"event\":3049167,\"uid\":5419068},{\"name\":\"RUF\",\"created\":\"2012-04-15 03:30:47\",\"country\":\"US\",\"state\":\"GA\",\"amount\":46518.9,\"address\":\"1700 North Brown Road\",\"zip_code\":\"30043\",\"event\":2760853,\"uid\":5419068},{\"name\":\"RUF\",\"created\":\"2012-04-15 03:30:47\",\"country\":\"US\",\"state\":\"GA\",\"amount\":35955.38,\"address\":\"1700 North Brown Road\",\"zip_code\":\"30043\",\"event\":3049167,\"uid\":5419068},{\"name\":\"RUF\",\"created\":\"2012-05-01 03:30:54\",\"country\":\"US\",\"state\":\"GA\",\"amount\":2537.13,\"address\":\"1700 North Brown Road\",\"zip_code\":\"30043\",\"event\":2760853,\"uid\":5419068},{\"name\":\"RUF\",\"created\":\"2012-05-01 03:30:54\",\"country\":\"US\",\"state\":\"GA\",\"amount\":14565.88,\"address\":\"1700 North Brown Road\",\"zip_code\":\"30043\",\"event\":3049167,\"uid\":5419068},{\"name\":\"RUF\",\"created\":\"2012-05-15 03:30:53\",\"country\":\"US\",\"state\":\"GA\",\"amount\":71314.81,\"address\":\"1700 North Brown Road\",\"zip_code\":\"30043\",\"event\":3049167,\"uid\":5419068},{\"name\":\"RUF\",\"created\":\"2012-05-17 03:14:19\",\"country\":\"US\",\"state\":\"GA\",\"amount\":37586.56,\"address\":\"1700 North Brown Road\",\"zip_code\":\"30043\",\"event\":2760853,\"uid\":5419068},{\"name\":\"RUF\",\"created\":\"2012-05-24 03:13:12\",\"country\":\"US\",\"state\":\"GA\",\"amount\":18560.8,\"address\":\"1700 North Brown Road\",\"zip_code\":\"30043\",\"event\":3049167,\"uid\":5419068},{\"name\":\"RUF\",\"created\":\"2012-09-01 03:30:39\",\"country\":\"US\",\"state\":\"GA\",\"amount\":4965.98,\"address\":\"1700 North Brown Road\",\"zip_code\":\"30043\",\"event\":3877318,\"uid\":5419068},{\"name\":\"RUF\",\"created\":\"2012-09-15 03:30:38\",\"country\":\"US\",\"state\":\"GA\",\"amount\":2029.86,\"address\":\"1700 North Brown Road\",\"zip_code\":\"30043\",\"event\":2831243,\"uid\":5419068},{\"name\":\"RUF\",\"created\":\"2012-09-15 03:30:38\",\"country\":\"US\",\"state\":\"GA\",\"amount\":28205.81,\"address\":\"1700 North Brown Road\",\"zip_code\":\"30043\",\"event\":3877318,\"uid\":5419068},{\"name\":\"RUF\",\"created\":\"2012-09-28 03:16:13\",\"country\":\"US\",\"state\":\"GA\",\"amount\":14120.8,\"address\":\"1700 North Brown Road\",\"zip_code\":\"30043\",\"event\":3877318,\"uid\":5419068},{\"name\":\"RUF\",\"created\":\"2012-10-05 03:17:30\",\"country\":\"US\",\"state\":\"GA\",\"amount\":4242.5,\"address\":\"1700 North Brown Road\",\"zip_code\":\"30043\",\"event\":2831243,\"uid\":5419068},{\"name\":\"RUF\",\"created\":\"2012-10-18 03:14:48\",\"country\":\"US\",\"state\":\"GA\",\"amount\":4832.31,\"address\":\"1700 North Brown Road\",\"zip_code\":\"30043\",\"event\":4256932,\"uid\":5419068},{\"name\":\"RUF\",\"created\":\"2013-09-01 03:32:05\",\"country\":\"US\",\"state\":\"GA\",\"amount\":37.26,\"address\":\"1700 North Brown Road\",\"zip_code\":\"30043\",\"event\":4909773,\"uid\":5419068},{\"name\":\"RUF\",\"created\":\"2013-09-01 03:32:06\",\"country\":\"US\",\"state\":\"GA\",\"amount\":4361.34,\"address\":\"1700 North Brown Road\",\"zip_code\":\"30043\",\"event\":7579105,\"uid\":5419068},{\"name\":\"RUF\",\"created\":\"2013-09-15 03:30:55\",\"country\":\"US\",\"state\":\"GA\",\"amount\":664.72,\"address\":\"1700 North Brown Road\",\"zip_code\":\"30043\",\"event\":4909773,\"uid\":5419068},{\"name\":\"RUF\",\"created\":\"2013-09-15 03:30:55\",\"country\":\"US\",\"state\":\"GA\",\"amount\":28941.9,\"address\":\"1700 North Brown Road\",\"zip_code\":\"30043\",\"event\":7579105,\"uid\":5419068},{\"name\":\"RUF\",\"created\":\"2013-09-27 03:13:28\",\"country\":\"US\",\"state\":\"GA\",\"amount\":14657.28,\"address\":\"1700 North Brown Road\",\"zip_code\":\"30043\",\"event\":7579105,\"uid\":5419068},{\"name\":\"RUF\",\"created\":\"2013-10-04 03:12:18\",\"country\":\"US\",\"state\":\"GA\",\"amount\":4715.34,\"address\":\"1700 North Brown Road\",\"zip_code\":\"30043\",\"event\":4909773,\"uid\":5419068}],\"sale_duration\":28.0,\"sale_duration2\":28,\"show_map\":0,\"ticket_types\":[{\"event_id\":786878,\"cost\":35.0,\"availability\":1,\"quantity_total\":50,\"quantity_sold\":22},{\"event_id\":786878,\"cost\":35.0,\"availability\":1,\"quantity_total\":50,\"quantity_sold\":3}],\"user_age\":149,\"user_created\":1280942776,\"user_type\":3,\"venue_address\":\"\",\"venue_country\":\"US\",\"venue_latitude\":32.7765656,\"venue_longitude\":-79.9309216,\"venue_name\":\"The Charleston, SC area\",\"venue_state\":\"SC\"}\n"
     ]
    }
   ],
   "source": [
    "json_ex1 = json_df.iloc[0,:].to_json()\n",
    "json_ex2 = json_df.iloc[1,:].to_json()\n",
    "# my_json=pd.concat([json_ex1, json_ex2], axis=1).to_frame()\n",
    "# my_json = .to_json()\n",
    "# a = pd.read_json(my_json)\n",
    "# my_json.head()\n",
    "# a = pd.read_json('{' + json_ex1 + ',' + json_ex2 + '}')\n",
    "print json_ex1\n",
    "print\n",
    "print json_ex2"
   ]
  },
  {
   "cell_type": "code",
   "execution_count": null,
   "metadata": {},
   "outputs": [],
   "source": [
    "b = pd.DataFrame(a)\n",
    "print b"
   ]
  },
  {
   "cell_type": "code",
   "execution_count": null,
   "metadata": {},
   "outputs": [],
   "source": [
    "from src.pipeline import pipeline_json\n",
    "pj = pipeline_json(my_json)\n",
    "X = pj.convert_to_df(scaling=True, filtered=True)\n",
    "y = pj.output_labelarray()"
   ]
  },
  {
   "cell_type": "code",
   "execution_count": null,
   "metadata": {
    "scrolled": false
   },
   "outputs": [],
   "source": [
    "date_cols = ['approx_payout_date', 'event_created', 'event_created', 'event_end', \\\n",
    "             'event_published', 'event_start', 'user_created']\n",
    "for col in date_cols:\n",
    "    a[col] = pd.to_datetime(a[col], unit='s')\n",
    "    \n",
    "a"
   ]
  },
  {
   "cell_type": "code",
   "execution_count": null,
   "metadata": {},
   "outputs": [],
   "source": [
    "a['acct_type']\n"
   ]
  },
  {
   "cell_type": "code",
   "execution_count": 29,
   "metadata": {},
   "outputs": [
    {
     "ename": "TypeError",
     "evalue": "expected string or buffer",
     "output_type": "error",
     "traceback": [
      "\u001b[0;31m---------------------------------------------------------------------------\u001b[0m",
      "\u001b[0;31mTypeError\u001b[0m                                 Traceback (most recent call last)",
      "\u001b[0;32m<ipython-input-29-13e4fe83b0ff>\u001b[0m in \u001b[0;36m<module>\u001b[0;34m()\u001b[0m\n\u001b[1;32m      3\u001b[0m \u001b[0;34m\u001b[0m\u001b[0m\n\u001b[1;32m      4\u001b[0m \u001b[0mresponse\u001b[0m \u001b[0;34m=\u001b[0m \u001b[0mrequests\u001b[0m\u001b[0;34m.\u001b[0m\u001b[0mget\u001b[0m\u001b[0;34m(\u001b[0m\u001b[0;34m'http://galvanize-case-study-on-fraud.herokuapp.com/data_point'\u001b[0m\u001b[0;34m)\u001b[0m\u001b[0;34m\u001b[0m\u001b[0m\n\u001b[0;32m----> 5\u001b[0;31m \u001b[0mjson_data\u001b[0m \u001b[0;34m=\u001b[0m \u001b[0mjson\u001b[0m\u001b[0;34m.\u001b[0m\u001b[0mloads\u001b[0m\u001b[0;34m(\u001b[0m\u001b[0mresponse\u001b[0m\u001b[0;34m)\u001b[0m\u001b[0;34m\u001b[0m\u001b[0m\n\u001b[0m",
      "\u001b[0;32m/Users/wallace/anaconda2/lib/python2.7/json/__init__.pyc\u001b[0m in \u001b[0;36mloads\u001b[0;34m(s, encoding, cls, object_hook, parse_float, parse_int, parse_constant, object_pairs_hook, **kw)\u001b[0m\n\u001b[1;32m    337\u001b[0m             \u001b[0mparse_int\u001b[0m \u001b[0;32mis\u001b[0m \u001b[0mNone\u001b[0m \u001b[0;32mand\u001b[0m \u001b[0mparse_float\u001b[0m \u001b[0;32mis\u001b[0m \u001b[0mNone\u001b[0m \u001b[0;32mand\u001b[0m\u001b[0;34m\u001b[0m\u001b[0m\n\u001b[1;32m    338\u001b[0m             parse_constant is None and object_pairs_hook is None and not kw):\n\u001b[0;32m--> 339\u001b[0;31m         \u001b[0;32mreturn\u001b[0m \u001b[0m_default_decoder\u001b[0m\u001b[0;34m.\u001b[0m\u001b[0mdecode\u001b[0m\u001b[0;34m(\u001b[0m\u001b[0ms\u001b[0m\u001b[0;34m)\u001b[0m\u001b[0;34m\u001b[0m\u001b[0m\n\u001b[0m\u001b[1;32m    340\u001b[0m     \u001b[0;32mif\u001b[0m \u001b[0mcls\u001b[0m \u001b[0;32mis\u001b[0m \u001b[0mNone\u001b[0m\u001b[0;34m:\u001b[0m\u001b[0;34m\u001b[0m\u001b[0m\n\u001b[1;32m    341\u001b[0m         \u001b[0mcls\u001b[0m \u001b[0;34m=\u001b[0m \u001b[0mJSONDecoder\u001b[0m\u001b[0;34m\u001b[0m\u001b[0m\n",
      "\u001b[0;32m/Users/wallace/anaconda2/lib/python2.7/json/decoder.pyc\u001b[0m in \u001b[0;36mdecode\u001b[0;34m(self, s, _w)\u001b[0m\n\u001b[1;32m    362\u001b[0m \u001b[0;34m\u001b[0m\u001b[0m\n\u001b[1;32m    363\u001b[0m         \"\"\"\n\u001b[0;32m--> 364\u001b[0;31m         \u001b[0mobj\u001b[0m\u001b[0;34m,\u001b[0m \u001b[0mend\u001b[0m \u001b[0;34m=\u001b[0m \u001b[0mself\u001b[0m\u001b[0;34m.\u001b[0m\u001b[0mraw_decode\u001b[0m\u001b[0;34m(\u001b[0m\u001b[0ms\u001b[0m\u001b[0;34m,\u001b[0m \u001b[0midx\u001b[0m\u001b[0;34m=\u001b[0m\u001b[0m_w\u001b[0m\u001b[0;34m(\u001b[0m\u001b[0ms\u001b[0m\u001b[0;34m,\u001b[0m \u001b[0;36m0\u001b[0m\u001b[0;34m)\u001b[0m\u001b[0;34m.\u001b[0m\u001b[0mend\u001b[0m\u001b[0;34m(\u001b[0m\u001b[0;34m)\u001b[0m\u001b[0;34m)\u001b[0m\u001b[0;34m\u001b[0m\u001b[0m\n\u001b[0m\u001b[1;32m    365\u001b[0m         \u001b[0mend\u001b[0m \u001b[0;34m=\u001b[0m \u001b[0m_w\u001b[0m\u001b[0;34m(\u001b[0m\u001b[0ms\u001b[0m\u001b[0;34m,\u001b[0m \u001b[0mend\u001b[0m\u001b[0;34m)\u001b[0m\u001b[0;34m.\u001b[0m\u001b[0mend\u001b[0m\u001b[0;34m(\u001b[0m\u001b[0;34m)\u001b[0m\u001b[0;34m\u001b[0m\u001b[0m\n\u001b[1;32m    366\u001b[0m         \u001b[0;32mif\u001b[0m \u001b[0mend\u001b[0m \u001b[0;34m!=\u001b[0m \u001b[0mlen\u001b[0m\u001b[0;34m(\u001b[0m\u001b[0ms\u001b[0m\u001b[0;34m)\u001b[0m\u001b[0;34m:\u001b[0m\u001b[0;34m\u001b[0m\u001b[0m\n",
      "\u001b[0;31mTypeError\u001b[0m: expected string or buffer"
     ]
    }
   ],
   "source": []
  },
  {
   "cell_type": "code",
   "execution_count": 37,
   "metadata": {},
   "outputs": [
    {
     "name": "stdout",
     "output_type": "stream",
     "text": [
      "{\n",
      "  \"approx_payout_date\": 1358564400, \n",
      "  \"body_length\": 1029, \n",
      "  \"channels\": 12, \n",
      "  \"country\": \"US\", \n",
      "  \"currency\": \"USD\", \n",
      "  \"delivery_method\": 0.0, \n",
      "  \"description\": \"<p><span><span class=\\\"fsl\\\">Join us for a day of community service, lunch, and a Broadway show! <br /> <br /> Details: <br /> <br /> 11:15 AM @ Dorot <br /> <br /> Meet at DOROT at 11:15am to distribute gifts to the elderly. <br /> 171 West 85th Street (Near Amsterdam Avenue)<br /> <br /> Group Lunch @ Dorot<br /> <br /> 3pm- Performance of My Name Is Asher Lev <br /> Venue: Westside Theatre<br /> Location: 407 W. 43rd St.<br /> <span style=\\\"font-size: large;\\\"><strong>$15 +  fees</strong></span><br /> w/ a Q&amp;A after the show <br /> <br /> </span></span></p>\\r\\n<p><span><span class=\\\"fsl\\\"><strong>This tickets will only be distributed at Dorot.</strong> <br /></span></span></p>\\r\\n<p><span><span class=\\\"fsl\\\"><br /></span></span></p>\\r\\n<p><span><span class=\\\"fsl\\\">For more information and to reserve a ticket as well as reserve a spot for the community service project with Dorot please contact :<br /> <br /> Sam Schachter (<a href=\\\"mailto:hillel@hunter.cuny.du\\\">Hillel@hunter.cuny.edu</a>) <br /> </span></span></p>\", \n",
      "  \"email_domain\": \"hunter.cuny.edu\", \n",
      "  \"event_created\": 1355343000, \n",
      "  \"event_end\": 1358132400, \n",
      "  \"event_published\": 1355343645.0, \n",
      "  \"event_start\": 1358118000, \n",
      "  \"fb_published\": 0, \n",
      "  \"gts\": 548.97, \n",
      "  \"has_analytics\": 0, \n",
      "  \"has_header\": 0.0, \n",
      "  \"has_logo\": 1, \n",
      "  \"listed\": \"y\", \n",
      "  \"name\": \"Distribute gifts to elderly/ ticket to My Name Is Asher Lev admission\\r\\n(CUNY Hillel and Dorot) \", \n",
      "  \"name_length\": 95, \n",
      "  \"num_order\": 23, \n",
      "  \"num_payouts\": 0, \n",
      "  \"object_id\": 5018316, \n",
      "  \"org_desc\": \"<h2>What is Hunter Hillel?</h2>\\r\\n<p>\\u00a0</p>\\r\\n<p>Walking through the hallways of Hunter College can be extremely intimidating. There are 20,000 students on individual missions, whether it be running to class, heading to the OASIS to conquer Hunter College bureaucracy, or just looking for a friend. In the craziness that is Hunter College, it can be difficult to find a place to call home.</p>\\r\\n<p>Hillel is well known on campus for being one of the most dynamic, active and welcoming student organizations at Hunter College. Celebrating the Jewish experience is our top priority, and we've created a warm environment that gives students the means to do so in fun and exciting ways.</p>\\r\\n<p>We take great pride in the social, spiritual and intellectual growth that students realize during their time spent with Hillel. Because of the countless events we host throughout the year, students have ample opportunities to explore Judaism and connect with a friendly, diverse group of people.</p>\\r\\n<p>We encourage you to learn more and discover how Hunter Hillel can impact your life.</p>\\r\\n<p>\\u00a0</p>\\r\\n<p>Dorot</p>\\r\\n<p><span>For more than three decades, DOROT has been an innovative leader in the fields of aging services and volunteerism. Building upon this success, we initiated a strategic planning process with the overriding goal of strengthening our ability to carry out our core mission.<br /><br /> The strategic plan, adopted by DOROT\\u2019s Board of Directors in March 2011, is guided by the Vision, Mission and Values as set forth below. The Mission Statement highlights DOROT\\u2019s belief that reducing social isolation, along with providing concrete services, has a powerful effect on improving the lives and health of older adults. In revising the Mission Statement, we wanted to give more prominence to the intent that underlies all we do, and emphasize the real impact our programs have on enabling seniors to live with dignity, independence and improved health in the community. In an era of concern over rapidly rising health care costs and a nation that is rapidly aging, our work will have increasing importance.<br /><br /> <strong>Vision</strong><br /> DOROT will be an innovative leader in mobilizing volunteers of all ages to improve the lives and health of the elderly, addressing the challenges of an aging society.<br /><br /> <strong>Mission</strong><br /> DOROT alleviates social isolation among the elderly and provides services to help them live independently as valued members of the community. We serve the Jewish and wider community, bringing the generations together in a mutually beneficial partnership of elders, volunteers and professionals. Our work provides an effective model for others.<br /><br /> <strong>Values</strong></span></p>\\r\\n<ol style=\\\"margin-top: 0px;\\\" type=\\\"1\\\">\\r\\n<li><em>Jewish Communal Responsibility</em><br /> Affirming our commitment to honor the older members of the community, by bringing the generations together</li>\\r\\n<li><em>Commitment to Excellence</em><br /> Upholding the highest of standards in all that we do</li>\\r\\n<li><em>Compassion</em><br /> Connecting personally with sensitivity and concern to provide exceptional care</li>\\r\\n<li><em>Making a Difference</em><br /> Having a demonstrable impact in the lives of the people we serve</li>\\r\\n<li><em>Integrity</em><br /> Being worthy of the trust of all our constituents</li>\\r\\n<li><em>Innovation</em><br /> Being dedicated to learning and to creatively addressing the evolving needs of the elder and volunteer communities</li>\\r\\n</ol>\", \n",
      "  \"org_facebook\": 0.0, \n",
      "  \"org_name\": \"Hunter College Hillel \", \n",
      "  \"org_twitter\": 0.0, \n",
      "  \"payee_name\": \"Hunter Hillel \", \n",
      "  \"payout_type\": \"CHECK\", \n",
      "  \"previous_payouts\": [\n",
      "    {\n",
      "      \"address\": \"695 Park Ave \", \n",
      "      \"amount\": 493.0, \n",
      "      \"country\": \"US\", \n",
      "      \"created\": \"2013-01-18 03:12:35\", \n",
      "      \"event\": 5018316, \n",
      "      \"name\": \"Hunter Hillel \", \n",
      "      \"state\": \"NY\", \n",
      "      \"uid\": 32413461, \n",
      "      \"zip_code\": \"10065\"\n",
      "    }\n",
      "  ], \n",
      "  \"sale_duration\": 32.0, \n",
      "  \"sale_duration2\": 32, \n",
      "  \"show_map\": 1, \n",
      "  \"ticket_types\": [\n",
      "    {\n",
      "      \"availability\": 1, \n",
      "      \"cost\": 17.0, \n",
      "      \"event_id\": 5018316, \n",
      "      \"quantity_sold\": 29, \n",
      "      \"quantity_total\": 29\n",
      "    }\n",
      "  ], \n",
      "  \"user_age\": 226, \n",
      "  \"user_created\": 1335804666, \n",
      "  \"user_type\": 4, \n",
      "  \"venue_address\": \"407 W 43rd St. \", \n",
      "  \"venue_country\": \"\", \n",
      "  \"venue_latitude\": 41.8163186, \n",
      "  \"venue_longitude\": -87.6367942, \n",
      "  \"venue_name\": \"Westside Theater \", \n",
      "  \"venue_state\": \"\"\n",
      "}\n",
      "\n"
     ]
    }
   ],
   "source": [
    "print response.content\n"
   ]
  },
  {
   "cell_type": "code",
   "execution_count": 33,
   "metadata": {},
   "outputs": [],
   "source": [
    "from src.pipeline import pipeline_json\n",
    "# pj = pipeline_json(my_json)\n",
    "# X = pj.convert_to_df(scaling=True, filtered=True)\n",
    "# y = pj.output_labelarray()\n",
    "pj = pipeline_json(response.content)\n",
    "X = pj.convert_to_df(scaling=True, filtered=True)"
   ]
  },
  {
   "cell_type": "code",
   "execution_count": 34,
   "metadata": {},
   "outputs": [
    {
     "ename": "KeyError",
     "evalue": "'acct_type'",
     "output_type": "error",
     "traceback": [
      "\u001b[0;31m---------------------------------------------------------------------------\u001b[0m",
      "\u001b[0;31mKeyError\u001b[0m                                  Traceback (most recent call last)",
      "\u001b[0;32m<ipython-input-34-e60858a9409d>\u001b[0m in \u001b[0;36m<module>\u001b[0;34m()\u001b[0m\n\u001b[0;32m----> 1\u001b[0;31m \u001b[0mX\u001b[0m \u001b[0;34m=\u001b[0m \u001b[0mpj\u001b[0m\u001b[0;34m.\u001b[0m\u001b[0mconvert_to_df\u001b[0m\u001b[0;34m(\u001b[0m\u001b[0mscaling\u001b[0m\u001b[0;34m=\u001b[0m\u001b[0mTrue\u001b[0m\u001b[0;34m,\u001b[0m \u001b[0mfiltered\u001b[0m\u001b[0;34m=\u001b[0m\u001b[0mTrue\u001b[0m\u001b[0;34m)\u001b[0m\u001b[0;34m\u001b[0m\u001b[0m\n\u001b[0m",
      "\u001b[0;32m/Users/wallace/Documents/GitHub/Case_Studies/fraud_detection_events/src/pipeline.pyc\u001b[0m in \u001b[0;36mconvert_to_df\u001b[0;34m(self, scaling, filtered)\u001b[0m\n\u001b[1;32m     53\u001b[0m         \u001b[0mself\u001b[0m\u001b[0;34m.\u001b[0m\u001b[0m_convert_datetime\u001b[0m\u001b[0;34m(\u001b[0m\u001b[0;34m)\u001b[0m\u001b[0;34m\u001b[0m\u001b[0m\n\u001b[1;32m     54\u001b[0m         \u001b[0mself\u001b[0m\u001b[0;34m.\u001b[0m\u001b[0m_convert_bools\u001b[0m\u001b[0;34m(\u001b[0m\u001b[0;34m)\u001b[0m\u001b[0;34m\u001b[0m\u001b[0m\n\u001b[0;32m---> 55\u001b[0;31m         \u001b[0mself\u001b[0m\u001b[0;34m.\u001b[0m\u001b[0m_add_features\u001b[0m\u001b[0;34m(\u001b[0m\u001b[0;34m)\u001b[0m\u001b[0;34m\u001b[0m\u001b[0m\n\u001b[0m\u001b[1;32m     56\u001b[0m \u001b[0;34m\u001b[0m\u001b[0m\n\u001b[1;32m     57\u001b[0m \u001b[0;34m\u001b[0m\u001b[0m\n",
      "\u001b[0;32m/Users/wallace/Documents/GitHub/Case_Studies/fraud_detection_events/src/pipeline.pyc\u001b[0m in \u001b[0;36m_add_features\u001b[0;34m(self)\u001b[0m\n\u001b[1;32m    113\u001b[0m \u001b[0;34m\u001b[0m\u001b[0m\n\u001b[1;32m    114\u001b[0m         \u001b[0;31m#Condition Response variable fraud flag\u001b[0m\u001b[0;34m\u001b[0m\u001b[0;34m\u001b[0m\u001b[0m\n\u001b[0;32m--> 115\u001b[0;31m         \u001b[0mself\u001b[0m\u001b[0;34m.\u001b[0m\u001b[0mdf\u001b[0m\u001b[0;34m[\u001b[0m\u001b[0;34m'fraud'\u001b[0m\u001b[0;34m]\u001b[0m \u001b[0;34m=\u001b[0m \u001b[0mself\u001b[0m\u001b[0;34m.\u001b[0m\u001b[0mdf\u001b[0m\u001b[0;34m[\u001b[0m\u001b[0;34m'acct_type'\u001b[0m\u001b[0;34m]\u001b[0m\u001b[0;34m.\u001b[0m\u001b[0mstr\u001b[0m\u001b[0;34m.\u001b[0m\u001b[0mcontains\u001b[0m\u001b[0;34m(\u001b[0m\u001b[0;34m\"fraud\"\u001b[0m\u001b[0;34m)\u001b[0m\u001b[0;34m\u001b[0m\u001b[0m\n\u001b[0m\u001b[1;32m    116\u001b[0m \u001b[0;34m\u001b[0m\u001b[0m\n\u001b[1;32m    117\u001b[0m \u001b[0;34m\u001b[0m\u001b[0m\n",
      "\u001b[0;32m/Users/wallace/anaconda2/lib/python2.7/site-packages/pandas/core/frame.pyc\u001b[0m in \u001b[0;36m__getitem__\u001b[0;34m(self, key)\u001b[0m\n\u001b[1;32m   2060\u001b[0m             \u001b[0;32mreturn\u001b[0m \u001b[0mself\u001b[0m\u001b[0;34m.\u001b[0m\u001b[0m_getitem_multilevel\u001b[0m\u001b[0;34m(\u001b[0m\u001b[0mkey\u001b[0m\u001b[0;34m)\u001b[0m\u001b[0;34m\u001b[0m\u001b[0m\n\u001b[1;32m   2061\u001b[0m         \u001b[0;32melse\u001b[0m\u001b[0;34m:\u001b[0m\u001b[0;34m\u001b[0m\u001b[0m\n\u001b[0;32m-> 2062\u001b[0;31m             \u001b[0;32mreturn\u001b[0m \u001b[0mself\u001b[0m\u001b[0;34m.\u001b[0m\u001b[0m_getitem_column\u001b[0m\u001b[0;34m(\u001b[0m\u001b[0mkey\u001b[0m\u001b[0;34m)\u001b[0m\u001b[0;34m\u001b[0m\u001b[0m\n\u001b[0m\u001b[1;32m   2063\u001b[0m \u001b[0;34m\u001b[0m\u001b[0m\n\u001b[1;32m   2064\u001b[0m     \u001b[0;32mdef\u001b[0m \u001b[0m_getitem_column\u001b[0m\u001b[0;34m(\u001b[0m\u001b[0mself\u001b[0m\u001b[0;34m,\u001b[0m \u001b[0mkey\u001b[0m\u001b[0;34m)\u001b[0m\u001b[0;34m:\u001b[0m\u001b[0;34m\u001b[0m\u001b[0m\n",
      "\u001b[0;32m/Users/wallace/anaconda2/lib/python2.7/site-packages/pandas/core/frame.pyc\u001b[0m in \u001b[0;36m_getitem_column\u001b[0;34m(self, key)\u001b[0m\n\u001b[1;32m   2067\u001b[0m         \u001b[0;31m# get column\u001b[0m\u001b[0;34m\u001b[0m\u001b[0;34m\u001b[0m\u001b[0m\n\u001b[1;32m   2068\u001b[0m         \u001b[0;32mif\u001b[0m \u001b[0mself\u001b[0m\u001b[0;34m.\u001b[0m\u001b[0mcolumns\u001b[0m\u001b[0;34m.\u001b[0m\u001b[0mis_unique\u001b[0m\u001b[0;34m:\u001b[0m\u001b[0;34m\u001b[0m\u001b[0m\n\u001b[0;32m-> 2069\u001b[0;31m             \u001b[0;32mreturn\u001b[0m \u001b[0mself\u001b[0m\u001b[0;34m.\u001b[0m\u001b[0m_get_item_cache\u001b[0m\u001b[0;34m(\u001b[0m\u001b[0mkey\u001b[0m\u001b[0;34m)\u001b[0m\u001b[0;34m\u001b[0m\u001b[0m\n\u001b[0m\u001b[1;32m   2070\u001b[0m \u001b[0;34m\u001b[0m\u001b[0m\n\u001b[1;32m   2071\u001b[0m         \u001b[0;31m# duplicate columns & possible reduce dimensionality\u001b[0m\u001b[0;34m\u001b[0m\u001b[0;34m\u001b[0m\u001b[0m\n",
      "\u001b[0;32m/Users/wallace/anaconda2/lib/python2.7/site-packages/pandas/core/generic.pyc\u001b[0m in \u001b[0;36m_get_item_cache\u001b[0;34m(self, item)\u001b[0m\n\u001b[1;32m   1532\u001b[0m         \u001b[0mres\u001b[0m \u001b[0;34m=\u001b[0m \u001b[0mcache\u001b[0m\u001b[0;34m.\u001b[0m\u001b[0mget\u001b[0m\u001b[0;34m(\u001b[0m\u001b[0mitem\u001b[0m\u001b[0;34m)\u001b[0m\u001b[0;34m\u001b[0m\u001b[0m\n\u001b[1;32m   1533\u001b[0m         \u001b[0;32mif\u001b[0m \u001b[0mres\u001b[0m \u001b[0;32mis\u001b[0m \u001b[0mNone\u001b[0m\u001b[0;34m:\u001b[0m\u001b[0;34m\u001b[0m\u001b[0m\n\u001b[0;32m-> 1534\u001b[0;31m             \u001b[0mvalues\u001b[0m \u001b[0;34m=\u001b[0m \u001b[0mself\u001b[0m\u001b[0;34m.\u001b[0m\u001b[0m_data\u001b[0m\u001b[0;34m.\u001b[0m\u001b[0mget\u001b[0m\u001b[0;34m(\u001b[0m\u001b[0mitem\u001b[0m\u001b[0;34m)\u001b[0m\u001b[0;34m\u001b[0m\u001b[0m\n\u001b[0m\u001b[1;32m   1535\u001b[0m             \u001b[0mres\u001b[0m \u001b[0;34m=\u001b[0m \u001b[0mself\u001b[0m\u001b[0;34m.\u001b[0m\u001b[0m_box_item_values\u001b[0m\u001b[0;34m(\u001b[0m\u001b[0mitem\u001b[0m\u001b[0;34m,\u001b[0m \u001b[0mvalues\u001b[0m\u001b[0;34m)\u001b[0m\u001b[0;34m\u001b[0m\u001b[0m\n\u001b[1;32m   1536\u001b[0m             \u001b[0mcache\u001b[0m\u001b[0;34m[\u001b[0m\u001b[0mitem\u001b[0m\u001b[0;34m]\u001b[0m \u001b[0;34m=\u001b[0m \u001b[0mres\u001b[0m\u001b[0;34m\u001b[0m\u001b[0m\n",
      "\u001b[0;32m/Users/wallace/anaconda2/lib/python2.7/site-packages/pandas/core/internals.pyc\u001b[0m in \u001b[0;36mget\u001b[0;34m(self, item, fastpath)\u001b[0m\n\u001b[1;32m   3588\u001b[0m \u001b[0;34m\u001b[0m\u001b[0m\n\u001b[1;32m   3589\u001b[0m             \u001b[0;32mif\u001b[0m \u001b[0;32mnot\u001b[0m \u001b[0misnull\u001b[0m\u001b[0;34m(\u001b[0m\u001b[0mitem\u001b[0m\u001b[0;34m)\u001b[0m\u001b[0;34m:\u001b[0m\u001b[0;34m\u001b[0m\u001b[0m\n\u001b[0;32m-> 3590\u001b[0;31m                 \u001b[0mloc\u001b[0m \u001b[0;34m=\u001b[0m \u001b[0mself\u001b[0m\u001b[0;34m.\u001b[0m\u001b[0mitems\u001b[0m\u001b[0;34m.\u001b[0m\u001b[0mget_loc\u001b[0m\u001b[0;34m(\u001b[0m\u001b[0mitem\u001b[0m\u001b[0;34m)\u001b[0m\u001b[0;34m\u001b[0m\u001b[0m\n\u001b[0m\u001b[1;32m   3591\u001b[0m             \u001b[0;32melse\u001b[0m\u001b[0;34m:\u001b[0m\u001b[0;34m\u001b[0m\u001b[0m\n\u001b[1;32m   3592\u001b[0m                 \u001b[0mindexer\u001b[0m \u001b[0;34m=\u001b[0m \u001b[0mnp\u001b[0m\u001b[0;34m.\u001b[0m\u001b[0marange\u001b[0m\u001b[0;34m(\u001b[0m\u001b[0mlen\u001b[0m\u001b[0;34m(\u001b[0m\u001b[0mself\u001b[0m\u001b[0;34m.\u001b[0m\u001b[0mitems\u001b[0m\u001b[0;34m)\u001b[0m\u001b[0;34m)\u001b[0m\u001b[0;34m[\u001b[0m\u001b[0misnull\u001b[0m\u001b[0;34m(\u001b[0m\u001b[0mself\u001b[0m\u001b[0;34m.\u001b[0m\u001b[0mitems\u001b[0m\u001b[0;34m)\u001b[0m\u001b[0;34m]\u001b[0m\u001b[0;34m\u001b[0m\u001b[0m\n",
      "\u001b[0;32m/Users/wallace/anaconda2/lib/python2.7/site-packages/pandas/core/indexes/base.pyc\u001b[0m in \u001b[0;36mget_loc\u001b[0;34m(self, key, method, tolerance)\u001b[0m\n\u001b[1;32m   2393\u001b[0m                 \u001b[0;32mreturn\u001b[0m \u001b[0mself\u001b[0m\u001b[0;34m.\u001b[0m\u001b[0m_engine\u001b[0m\u001b[0;34m.\u001b[0m\u001b[0mget_loc\u001b[0m\u001b[0;34m(\u001b[0m\u001b[0mkey\u001b[0m\u001b[0;34m)\u001b[0m\u001b[0;34m\u001b[0m\u001b[0m\n\u001b[1;32m   2394\u001b[0m             \u001b[0;32mexcept\u001b[0m \u001b[0mKeyError\u001b[0m\u001b[0;34m:\u001b[0m\u001b[0;34m\u001b[0m\u001b[0m\n\u001b[0;32m-> 2395\u001b[0;31m                 \u001b[0;32mreturn\u001b[0m \u001b[0mself\u001b[0m\u001b[0;34m.\u001b[0m\u001b[0m_engine\u001b[0m\u001b[0;34m.\u001b[0m\u001b[0mget_loc\u001b[0m\u001b[0;34m(\u001b[0m\u001b[0mself\u001b[0m\u001b[0;34m.\u001b[0m\u001b[0m_maybe_cast_indexer\u001b[0m\u001b[0;34m(\u001b[0m\u001b[0mkey\u001b[0m\u001b[0;34m)\u001b[0m\u001b[0;34m)\u001b[0m\u001b[0;34m\u001b[0m\u001b[0m\n\u001b[0m\u001b[1;32m   2396\u001b[0m \u001b[0;34m\u001b[0m\u001b[0m\n\u001b[1;32m   2397\u001b[0m         \u001b[0mindexer\u001b[0m \u001b[0;34m=\u001b[0m \u001b[0mself\u001b[0m\u001b[0;34m.\u001b[0m\u001b[0mget_indexer\u001b[0m\u001b[0;34m(\u001b[0m\u001b[0;34m[\u001b[0m\u001b[0mkey\u001b[0m\u001b[0;34m]\u001b[0m\u001b[0;34m,\u001b[0m \u001b[0mmethod\u001b[0m\u001b[0;34m=\u001b[0m\u001b[0mmethod\u001b[0m\u001b[0;34m,\u001b[0m \u001b[0mtolerance\u001b[0m\u001b[0;34m=\u001b[0m\u001b[0mtolerance\u001b[0m\u001b[0;34m)\u001b[0m\u001b[0;34m\u001b[0m\u001b[0m\n",
      "\u001b[0;32mpandas/_libs/index.pyx\u001b[0m in \u001b[0;36mpandas._libs.index.IndexEngine.get_loc (pandas/_libs/index.c:5239)\u001b[0;34m()\u001b[0m\n",
      "\u001b[0;32mpandas/_libs/index.pyx\u001b[0m in \u001b[0;36mpandas._libs.index.IndexEngine.get_loc (pandas/_libs/index.c:5085)\u001b[0;34m()\u001b[0m\n",
      "\u001b[0;32mpandas/_libs/hashtable_class_helper.pxi\u001b[0m in \u001b[0;36mpandas._libs.hashtable.PyObjectHashTable.get_item (pandas/_libs/hashtable.c:20405)\u001b[0;34m()\u001b[0m\n",
      "\u001b[0;32mpandas/_libs/hashtable_class_helper.pxi\u001b[0m in \u001b[0;36mpandas._libs.hashtable.PyObjectHashTable.get_item (pandas/_libs/hashtable.c:20359)\u001b[0;34m()\u001b[0m\n",
      "\u001b[0;31mKeyError\u001b[0m: 'acct_type'"
     ]
    }
   ],
   "source": [
    "X = pj.convert_to_df(scaling=True, filtered=True)"
   ]
  },
  {
   "cell_type": "code",
   "execution_count": 40,
   "metadata": {},
   "outputs": [],
   "source": [
    "from src.request_json import get_json\n",
    "s = get_json()"
   ]
  },
  {
   "cell_type": "code",
   "execution_count": 41,
   "metadata": {},
   "outputs": [
    {
     "name": "stdout",
     "output_type": "stream",
     "text": [
      "{\n",
      "  \"approx_payout_date\": 1331530200, \n",
      "  \"body_length\": 7595, \n",
      "  \"channels\": 12, \n",
      "  \"country\": \"CA\", \n",
      "  \"currency\": \"CAD\", \n",
      "  \"delivery_method\": 0.0, \n",
      "  \"description\": \"<p><object width=\\\"600\\\" height=\\\"437\\\" data=\\\"http://www.youtube.com/v/ebrvC5lsNoo?version=3&amp;hl=en_US&amp;rel=0\\\" type=\\\"application/x-shockwave-flash\\\"><param name=\\\"allowFullScreen\\\" value=\\\"true\\\" /><param name=\\\"allowscriptaccess\\\" value=\\\"always\\\" /><param name=\\\"src\\\" value=\\\"http://www.youtube.com/v/ebrvC5lsNoo?version=3&amp;hl=en_US&amp;rel=0\\\" /><param name=\\\"allowfullscreen\\\" value=\\\"true\\\" /></object></p>\\r\\n<p class=\\\"MsoNormal\\\" style=\\\"margin-bottom: .0001pt; mso-pagination: none; mso-layout-grid-align: none; text-autospace: none;\\\"><strong><span style=\\\"font-size: 11.0pt; mso-bidi-font-size: 15.0pt; font-family: Helvetica; mso-bidi-font-family: Helvetica;\\\"><br /></span></strong></p>\\r\\n<p class=\\\"MsoNormal\\\" style=\\\"margin-bottom: .0001pt; mso-pagination: none; mso-layout-grid-align: none; text-autospace: none;\\\"><strong><span style=\\\"font-size: 11.0pt; mso-bidi-font-size: 15.0pt; font-family: Helvetica; mso-bidi-font-family: Helvetica;\\\">Ryeberg Curated Video</span></strong><span style=\\\"font-size: 11.0pt; mso-bidi-font-size: 15.0pt; font-family: Helvetica; mso-bidi-font-family: Helvetica;\\\"> is coming to Vancouver for its first live show outside Toronto. Four writers will take the stage to give short talks about the YouTube videos that inspire them. It\\u2019s Ryeberg.com, offline, on stage, <em>live!</em></span></p>\\r\\n<p class=\\\"MsoNormal\\\" style=\\\"margin-bottom: .0001pt; mso-pagination: none; mso-layout-grid-align: none; text-autospace: none;\\\"><span style=\\\"font-size: 11.0pt; mso-bidi-font-size: 13.0pt; font-family: Helvetica; mso-bidi-font-family: Helvetica;\\\">\\u00a0</span></p>\\r\\n<p class=\\\"MsoNormal\\\" style=\\\"margin-bottom: .0001pt; mso-pagination: none; mso-layout-grid-align: none; text-autospace: none;\\\"><strong><span style=\\\"font-size: 11.0pt; mso-bidi-font-size: 15.0pt; font-family: Helvetica; mso-bidi-font-family: Helvetica;\\\">Ryeberg Live Vancouver 2012</span></strong><span style=\\\"font-size: 11.0pt; mso-bidi-font-size: 15.0pt; font-family: Helvetica; mso-bidi-font-family: Helvetica;\\\"> will feature performances by\\u00a0<strong>Miriam Toews </strong>(bestselling author of <em style=\\\"mso-bidi-font-style: normal;\\\">A Complicated Kindness</em> and <em style=\\\"mso-bidi-font-style: normal;\\\">Irma Voth</em>), <strong>Charles Demers</strong> (stand-up comedian, author of <em style=\\\"mso-bidi-font-style: normal;\\\">Vancouver Special</em>),\\u00a0<strong>Michael Turner</strong> (poet, critic, and author of <em style=\\\"mso-bidi-font-style: normal;\\\">Hard Core Logo</em> and <em style=\\\"mso-bidi-font-style: normal;\\\">The Pornographer\\u2019s Poem</em>), and <strong>Stephen Osborne</strong> (publisher of <em style=\\\"mso-bidi-font-style: normal;\\\">Geist Magazine</em> and author of <em style=\\\"mso-bidi-font-style: normal;\\\">Ice &amp; Fire: Dispatches From The New World</em>). The evening will be hosted by Ryeberg Editor-In-Chief, <strong style=\\\"mso-bidi-font-weight: normal;\\\">Erik Rutherford</strong>. </span></p>\\r\\n<p class=\\\"MsoNormal\\\" style=\\\"margin-bottom: .0001pt; mso-pagination: none; mso-layout-grid-align: none; text-autospace: none;\\\"><span style=\\\"font-size: 11.0pt; mso-bidi-font-size: 15.0pt; font-family: Helvetica; mso-bidi-font-family: Helvetica;\\\">\\u00a0</span></p>\\r\\n<p class=\\\"MsoNormal\\\" style=\\\"margin-bottom: .0001pt; mso-pagination: none; mso-layout-grid-align: none; text-autospace: none;\\\"><strong><span style=\\\"font-size: 11.0pt; mso-bidi-font-size: 15.0pt; font-family: Helvetica; mso-bidi-font-family: Helvetica;\\\">When:\\u00a0</span></strong><span style=\\\"font-size: 11.0pt; mso-bidi-font-size: 15.0pt; font-family: Helvetica; mso-bidi-font-family: Helvetica;\\\">Tuesday, 6 March, 2012:\\u00a0</span><span style=\\\"font-size: 11.0pt; mso-bidi-font-size: 15.0pt; font-family: Helvetica; mso-bidi-font-family: Helvetica;\\\">Show at 8pm (Doors at 7pm)</span></p>\\r\\n<p class=\\\"MsoNormal\\\" style=\\\"margin-bottom: .0001pt; mso-pagination: none; mso-layout-grid-align: none; text-autospace: none;\\\"><span style=\\\"font-size: 11.0pt; mso-bidi-font-size: 15.0pt; font-family: Helvetica; mso-bidi-font-family: Helvetica;\\\"><span style=\\\"font-size: 11.0pt; mso-bidi-font-size: 15.0pt; font-family: Helvetica; mso-bidi-font-family: Helvetica;\\\"><strong>Where</strong>:\\u00a0</span></span><span style=\\\"font-size: 11.0pt; mso-bidi-font-size: 15.0pt; font-family: Helvetica; mso-bidi-font-family: Helvetica;\\\">The Waldorf Hotel:\\u00a0</span><span style=\\\"font-size: 11.0pt; mso-bidi-font-size: 15.0pt; font-family: Helvetica; mso-bidi-font-family: Helvetica;\\\">1489 East Hastings Street,\\u00a0</span><span style=\\\"font-size: 11.0pt; mso-bidi-font-size: 15.0pt; font-family: Helvetica; mso-bidi-font-family: Helvetica;\\\">Vancouver, (604) 253-7141</span></p>\\r\\n<p class=\\\"MsoNormal\\\" style=\\\"margin-bottom: .0001pt; mso-pagination: none; mso-layout-grid-align: none; text-autospace: none;\\\"><span style=\\\"font-size: 11.0pt; mso-bidi-font-size: 15.0pt; font-family: Helvetica; mso-bidi-font-family: Helvetica;\\\"><strong>How Much</strong>:\\u00a0</span><span style=\\\"font-size: 11.0pt; mso-bidi-font-size: 15.0pt; font-family: Helvetica; mso-bidi-font-family: Helvetica;\\\">$12 @the door\\u00a0</span><span style=\\\"font-size: 11.0pt; mso-bidi-font-size: 15.0pt; font-family: Helvetica; mso-bidi-font-family: Helvetica;\\\">$10 advance tickets</span></p>\\r\\n<p class=\\\"MsoNormal\\\" style=\\\"margin-bottom: .0001pt; mso-pagination: none; mso-layout-grid-align: none; text-autospace: none;\\\"><em><span style=\\\"font-size: 11.0pt; mso-bidi-font-size: 15.0pt; font-family: Helvetica; mso-bidi-font-family: Helvetica;\\\">Free copy of Geist Magazine @ the door! Door prizes!</span></em></p>\\r\\n<p class=\\\"MsoNormal\\\" style=\\\"margin-bottom: .0001pt; mso-pagination: none; mso-layout-grid-align: none; text-autospace: none;\\\"><span style=\\\"font-size: 11.0pt; mso-bidi-font-size: 15.0pt; font-family: Helvetica; mso-bidi-font-family: Helvetica;\\\"><span style=\\\"font-size: 11.0pt; mso-bidi-font-size: 15.0pt; font-family: Helvetica; mso-bidi-font-family: Helvetica;\\\"><br /></span></span></p>\\r\\n<p class=\\\"MsoNormal\\\" style=\\\"margin-bottom: .0001pt; mso-pagination: none; mso-layout-grid-align: none; text-autospace: none;\\\"><span style=\\\"font-size: 11.0pt; mso-bidi-font-size: 15.0pt; font-family: Helvetica; mso-bidi-font-family: Helvetica;\\\"><span style=\\\"font-size: 11.0pt; mso-bidi-font-size: 15.0pt; font-family: Helvetica; mso-bidi-font-family: Helvetica;\\\">More details at </span><span style=\\\"font-size: 11.0pt; mso-bidi-font-size: 15.0pt; font-family: Helvetica; mso-bidi-font-family: Helvetica;\\\"><a href=\\\"http://www.ryeberg.com\\\" target=\\\"_blank&quot;\\\">www.ryeberg.com</a>\\u00a0and <a href=\\\"http://www.geist.com/\\\" target=\\\"_blank&quot;\\\">www.geist.com</a>.</span></span></p>\\r\\n<p class=\\\"MsoNormal\\\" style=\\\"margin-bottom: .0001pt; mso-pagination: none; mso-layout-grid-align: none; text-autospace: none;\\\"><span style=\\\"font-size: 11.0pt; mso-bidi-font-size: 15.0pt; font-family: Helvetica; mso-bidi-font-family: Helvetica;\\\"><span style=\\\"font-size: 11.0pt; mso-bidi-font-size: 15.0pt; font-family: Helvetica; mso-bidi-font-family: Helvetica;\\\"><br /></span></span></p>\\r\\n<p class=\\\"MsoNormal\\\" style=\\\"margin-bottom: .0001pt; mso-pagination: none; mso-layout-grid-align: none; text-autospace: none;\\\"><span style=\\\"font-size: 11.0pt; mso-bidi-font-size: 15.0pt; font-family: Helvetica; mso-bidi-font-family: Helvetica;\\\"><span style=\\\"font-size: 11.0pt; mso-bidi-font-size: 15.0pt; font-family: Helvetica; mso-bidi-font-family: Helvetica;\\\">Contact: @Ryeberg and info[at]ryeberg.com</span></span></p>\\r\\n<p class=\\\"MsoNormal\\\" style=\\\"margin-bottom: .0001pt; mso-pagination: none; mso-layout-grid-align: none; text-autospace: none;\\\"><span style=\\\"font-size: 11.0pt; mso-bidi-font-size: 15.0pt; font-family: Helvetica; mso-bidi-font-family: Helvetica;\\\"><br /></span></p>\", \n",
      "  \"email_domain\": \"ryeberg.com\", \n",
      "  \"event_created\": 1329155826, \n",
      "  \"event_end\": 1331101800, \n",
      "  \"event_published\": 1329287565.0, \n",
      "  \"event_start\": 1331092800, \n",
      "  \"fb_published\": 0, \n",
      "  \"gts\": 775.96, \n",
      "  \"has_analytics\": 0, \n",
      "  \"has_header\": 0.0, \n",
      "  \"has_logo\": 1, \n",
      "  \"listed\": \"y\", \n",
      "  \"name\": \"Ryeberg Live Vancouver 2012\", \n",
      "  \"name_length\": 27, \n",
      "  \"num_order\": 40, \n",
      "  \"num_payouts\": 0, \n",
      "  \"object_id\": 2946317, \n",
      "  \"org_desc\": \"<p><strong><span style=\\\"font-size: 11.0pt; mso-bidi-font-size: 15.0pt; font-family: Helvetica; mso-fareast-font-family: Cambria; mso-fareast-theme-font: minor-latin; mso-bidi-font-family: Helvetica; mso-ansi-language: EN-US; mso-fareast-language: EN-US;\\\"><span style=\\\"font-size: 11.0pt; mso-bidi-font-size: 15.0pt; font-family: Helvetica; mso-fareast-font-family: Cambria; mso-fareast-theme-font: minor-latin; mso-bidi-font-family: Helvetica; mso-ansi-language: EN-US; mso-fareast-language: EN-US;\\\">What is Ryeberg?\\u00a0</span></span></strong></p>\\r\\n<p><span style=\\\"font-size: 11.0pt; mso-bidi-font-size: 15.0pt; font-family: Helvetica; mso-fareast-font-family: Cambria; mso-fareast-theme-font: minor-latin; mso-bidi-font-family: Helvetica; mso-ansi-language: EN-US; mso-fareast-language: EN-US;\\\">Ryeberg.com is what happens when you combine the traditional discursive essay with online video. \\\"</span><span style=\\\"font-size: 11.0pt; mso-bidi-font-size: 15.0pt; font-family: Helvetica; mso-fareast-font-family: Cambria; mso-fareast-theme-font: minor-latin; mso-bidi-font-family: Helvetica; mso-ansi-language: EN-US; mso-fareast-language: EN-US;\\\">The resulting essays are fascinating in two major ways: (1) they guide us to pieces either beautiful or curious that were probably unknown to us and (2) they are personal essays about their authors. So they illuminate both the art and the critic.\\\" Says Russell Smith in The Globe and Mail.\\u00a0</span><span style=\\\"font-size: 11.0pt; mso-bidi-font-size: 15.0pt; font-family: Helvetica; mso-fareast-font-family: Cambria; mso-fareast-theme-font: minor-latin; mso-bidi-font-family: Helvetica; mso-ansi-language: EN-US; mso-fareast-language: EN-US;\\\">Ryeberg has been publishing this very modern form of essay out of Toronto since 2009.</span></p>\\r\\n<p><strong><span style=\\\"font-size: 11.0pt; mso-bidi-font-size: 15.0pt; font-family: Helvetica; mso-fareast-font-family: Cambria; mso-fareast-theme-font: minor-latin; mso-bidi-font-family: Helvetica; mso-ansi-language: EN-US; mso-fareast-language: EN-US;\\\"><span style=\\\"font-size: 11.0pt; mso-bidi-font-size: 15.0pt; font-family: Helvetica; mso-fareast-font-family: Cambria; mso-fareast-theme-font: minor-latin; mso-bidi-font-family: Helvetica; mso-ansi-language: EN-US; mso-fareast-language: EN-US;\\\">Who is Ryeberg?</span></span></strong></p>\\r\\n<p><span style=\\\"font-size: 11.0pt; mso-bidi-font-size: 15.0pt; font-family: Helvetica; mso-fareast-font-family: Cambria; mso-fareast-theme-font: minor-latin; mso-bidi-font-family: Helvetica; mso-ansi-language: EN-US; mso-fareast-language: EN-US;\\\">Ryeberg Live Vancouver is organized with the help of Lizzy Karp and the generous support of Geist Magazine. Thanks to Kasha Marciniak at the Waldorf Hotel.</span></p>\\r\\n<p><span style=\\\"font-size: 11.0pt; mso-bidi-font-size: 15.0pt; font-family: Helvetica; mso-fareast-font-family: Cambria; mso-fareast-theme-font: minor-latin; mso-bidi-font-family: Helvetica; mso-ansi-language: EN-US; mso-fareast-language: EN-US;\\\">Ryeberg Live Toronto is organized with the help of Steph Bonic. Thanks to Mia Nielson at The Drake Hotel. \\u00a0</span></p>\\r\\n<p><span style=\\\"font-size: 11.0pt; mso-bidi-font-size: 15.0pt; font-family: Helvetica; mso-fareast-font-family: Cambria; mso-fareast-theme-font: minor-latin; mso-bidi-font-family: Helvetica; mso-ansi-language: EN-US; mso-fareast-language: EN-US;\\\"><span style=\\\"font-size: 11.0pt; mso-bidi-font-size: 15.0pt; font-family: Helvetica; mso-fareast-font-family: Cambria; mso-fareast-theme-font: minor-latin; mso-bidi-font-family: Helvetica; mso-ansi-language: EN-US; mso-fareast-language: EN-US;\\\">For more info, go to\\u00a0</span></span><span style=\\\"font-size: 11.0pt; mso-bidi-font-size: 15.0pt; font-family: Helvetica; mso-fareast-font-family: Cambria; mso-fareast-theme-font: minor-latin; mso-bidi-font-family: Helvetica; mso-ansi-language: EN-US; mso-fareast-language: EN-US;\\\">www.ryeberg.com.</span></p>\\r\\n<p><span style=\\\"font-size: 11.0pt; mso-bidi-font-size: 15.0pt; font-family: Helvetica; mso-fareast-font-family: Cambria; mso-fareast-theme-font: minor-latin; mso-bidi-font-family: Helvetica; mso-ansi-language: EN-US; mso-fareast-language: EN-US;\\\"><span style=\\\"font-size: 11.0pt; mso-bidi-font-size: 15.0pt; font-family: Helvetica; mso-fareast-font-family: Cambria; mso-fareast-theme-font: minor-latin; mso-bidi-font-family: Helvetica; mso-ansi-language: EN-US; mso-fareast-language: EN-US;\\\"><br /></span></span></p>\\r\\n<p><span style=\\\"font-size: 11.0pt; mso-bidi-font-size: 15.0pt; font-family: Helvetica; mso-fareast-font-family: Cambria; mso-fareast-theme-font: minor-latin; mso-bidi-font-family: Helvetica; mso-ansi-language: EN-US; mso-fareast-language: EN-US;\\\"><span style=\\\"font-size: 11.0pt; mso-bidi-font-size: 15.0pt; font-family: Helvetica; mso-fareast-font-family: Cambria; mso-fareast-theme-font: minor-latin; mso-bidi-font-family: Helvetica; mso-ansi-language: EN-US; mso-fareast-language: EN-US;\\\"><br /></span></span></p>\\r\\n<p>\\u00a0</p>\\r\\n<p>\\u00a0</p>\", \n",
      "  \"org_facebook\": 7.0, \n",
      "  \"org_name\": \"Ryeberg Curated Video\", \n",
      "  \"org_twitter\": 8.0, \n",
      "  \"payee_name\": \"\", \n",
      "  \"payout_type\": \"ACH\", \n",
      "  \"previous_payouts\": [\n",
      "    {\n",
      "      \"address\": \"\", \n",
      "      \"amount\": 647.57, \n",
      "      \"country\": \"CA\", \n",
      "      \"created\": \"2012-03-11 03:12:20\", \n",
      "      \"event\": 2946317, \n",
      "      \"name\": \"\", \n",
      "      \"state\": \"\", \n",
      "      \"uid\": 27268975, \n",
      "      \"zip_code\": \"\"\n",
      "    }, \n",
      "    {\n",
      "      \"address\": \"\", \n",
      "      \"amount\": 33.64, \n",
      "      \"country\": \"CA\", \n",
      "      \"created\": \"2012-03-24 03:12:49\", \n",
      "      \"event\": 2958055, \n",
      "      \"name\": \"\", \n",
      "      \"state\": \"\", \n",
      "      \"uid\": 27268975, \n",
      "      \"zip_code\": \"\"\n",
      "    }\n",
      "  ], \n",
      "  \"sale_duration\": 21.0, \n",
      "  \"sale_duration2\": 22, \n",
      "  \"show_map\": 1, \n",
      "  \"ticket_types\": [\n",
      "    {\n",
      "      \"availability\": 1, \n",
      "      \"cost\": 8.41, \n",
      "      \"event_id\": 2946317, \n",
      "      \"quantity_sold\": 77, \n",
      "      \"quantity_total\": 125\n",
      "    }\n",
      "  ], \n",
      "  \"user_age\": 0, \n",
      "  \"user_created\": 1329155824, \n",
      "  \"user_type\": 3, \n",
      "  \"venue_address\": \"1489 East Hastings Street\", \n",
      "  \"venue_country\": \"CA\", \n",
      "  \"venue_latitude\": 49.2814968, \n",
      "  \"venue_longitude\": -123.0745067, \n",
      "  \"venue_name\": \"The Waldorf Hotel\", \n",
      "  \"venue_state\": \"British Columbia\"\n",
      "}\n",
      "\n"
     ]
    }
   ],
   "source": [
    "print s\n"
   ]
  },
  {
   "cell_type": "code",
   "execution_count": null,
   "metadata": {
    "collapsed": true
   },
   "outputs": [],
   "source": []
  }
 ],
 "metadata": {
  "kernelspec": {
   "display_name": "Python 2",
   "language": "python",
   "name": "python2"
  },
  "language_info": {
   "codemirror_mode": {
    "name": "ipython",
    "version": 2
   },
   "file_extension": ".py",
   "mimetype": "text/x-python",
   "name": "python",
   "nbconvert_exporter": "python",
   "pygments_lexer": "ipython2",
   "version": "2.7.13"
  }
 },
 "nbformat": 4,
 "nbformat_minor": 2
}
