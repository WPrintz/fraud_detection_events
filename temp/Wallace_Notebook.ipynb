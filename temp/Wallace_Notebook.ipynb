{
 "cells": [
  {
   "cell_type": "markdown",
   "metadata": {},
   "source": [
    "# Import modules"
   ]
  },
  {
   "cell_type": "code",
   "execution_count": 1,
   "metadata": {
    "scrolled": true
   },
   "outputs": [],
   "source": [
    "import numpy as np\n",
    "import pandas as pd\n",
    "import matplotlib.pyplot as plt\n",
    "%matplotlib inline\n",
    "from collections import Counter\n",
    "import datetime"
   ]
  },
  {
   "cell_type": "code",
   "execution_count": 2,
   "metadata": {
    "collapsed": true
   },
   "outputs": [],
   "source": [
    "import os\n",
    "import sys\n",
    "module_path = os.path.abspath(os.path.join('..'))\n",
    "if module_path not in sys.path:\n",
    "    sys.path.append(module_path)\n",
    "    \n",
    "# ex: from src.create_model_pickle import *\n"
   ]
  },
  {
   "cell_type": "markdown",
   "metadata": {},
   "source": [
    "# Import data"
   ]
  },
  {
   "cell_type": "code",
   "execution_count": null,
   "metadata": {},
   "outputs": [],
   "source": [
    "# Use our json to dataframe conversion class\n",
    "from src.pipeline import pipeline_json\n",
    "pj = pipeline_json('../data/data.json')"
   ]
  },
  {
   "cell_type": "code",
   "execution_count": null,
   "metadata": {},
   "outputs": [],
   "source": [
    "df = pj.convert_to_df()\n",
    "df.info()"
   ]
  },
  {
   "cell_type": "markdown",
   "metadata": {},
   "source": [
    "'''\n",
    "0s or 1s :\n",
    "'show_map', 'fb_published', 'has_logo', , 'has_analytics'\n",
    "\n",
    "\n",
    "integers or floats:\n",
    "'gts', 'sale_duration', 'org_twitter', 'org_facebook'\n",
    "\n",
    "'y' or 'n' :\n",
    "'listed'\n",
    "yn_map = {'y': 1, 'n' : 0}\n",
    "'''\n",
    "\n",
    "\n",
    "\n",
    "\n",
    "bin_dict = {0 : False, 1 : True}\n",
    "bin_cols = ['show_map', 'fb_published', 'has_logo', 'has_analytics']\n",
    "for col in bin_cols:\n",
    "    df[col] = df[col].map(bin_dict)\n",
    "\n",
    "yn_dict = {'y': 1, 'n' : 0}\n",
    "yn_cols = ['listed']\n",
    "for col in yn_cols:\n",
    "    df[col] = df[col].map(yn_dict)\n",
    "\n",
    "\n",
    "bin_nan_cols = ['has_header']\n",
    "for col in bin_nan_cols:\n",
    "    df[col] = df[col].map(lambda x: x if not np.isnan(x) else -1)\n",
    "    df[col].astype('int', copy=True)\n",
    "\n",
    "payout_dict = {'CHECK': 1, 'ACH' : 1, '':0}\n",
    "df['payout_type'] = df['payout_type'].map(payout_dict)\n"
   ]
  },
  {
   "cell_type": "code",
   "execution_count": null,
   "metadata": {},
   "outputs": [],
   "source": [
    "df.info()"
   ]
  },
  {
   "cell_type": "code",
   "execution_count": null,
   "metadata": {},
   "outputs": [],
   "source": [
    "df['has_header'][:10]\n",
    "    "
   ]
  },
  {
   "cell_type": "code",
   "execution_count": null,
   "metadata": {},
   "outputs": [],
   "source": []
  },
  {
   "cell_type": "code",
   "execution_count": null,
   "metadata": {
    "collapsed": true
   },
   "outputs": [],
   "source": []
  }
 ],
 "metadata": {
  "kernelspec": {
   "display_name": "Python 2",
   "language": "python",
   "name": "python2"
  },
  "language_info": {
   "codemirror_mode": {
    "name": "ipython",
    "version": 2
   },
   "file_extension": ".py",
   "mimetype": "text/x-python",
   "name": "python",
   "nbconvert_exporter": "python",
   "pygments_lexer": "ipython2",
   "version": "2.7.13"
  }
 },
 "nbformat": 4,
 "nbformat_minor": 2
}
