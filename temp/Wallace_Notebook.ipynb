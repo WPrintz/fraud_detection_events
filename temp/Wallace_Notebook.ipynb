{
 "cells": [
  {
   "cell_type": "markdown",
   "metadata": {},
   "source": [
    "# Import modules"
   ]
  },
  {
   "cell_type": "code",
   "execution_count": null,
   "metadata": {
    "collapsed": true,
    "scrolled": true
   },
   "outputs": [],
   "source": [
    "import numpy as np\n",
    "import pandas as pd\n",
    "import matplotlib.pyplot as plt\n",
    "%matplotlib inline\n",
    "from collections import Counter\n",
    "import datetime"
   ]
  },
  {
   "cell_type": "code",
   "execution_count": 2,
   "metadata": {
    "collapsed": true
   },
   "outputs": [],
   "source": [
    "import os\n",
    "import sys\n",
    "module_path = os.path.abspath(os.path.join('..'))\n",
    "if module_path not in sys.path:\n",
    "    sys.path.append(module_path)\n",
    "    \n",
    "# ex: from src.create_model_pickle import *\n"
   ]
  },
  {
   "cell_type": "markdown",
   "metadata": {},
   "source": [
    "# Import data"
   ]
  },
  {
   "cell_type": "code",
   "execution_count": null,
   "metadata": {
    "collapsed": true
   },
   "outputs": [],
   "source": [
    "# Use our json to dataframe conversion class\n",
    "from src.pipeline import pipeline_json\n",
    "pj = pipeline_json('../data/data.json')"
   ]
  },
  {
   "cell_type": "code",
   "execution_count": null,
   "metadata": {},
   "outputs": [],
   "source": [
    "df = pj.convert_to_df(scaling=True, filtered=True)\n",
    "df.info()"
   ]
  },
  {
   "cell_type": "code",
   "execution_count": null,
   "metadata": {
    "collapsed": true
   },
   "outputs": [],
   "source": [
    "df.describe()"
   ]
  },
  {
   "cell_type": "code",
   "execution_count": null,
   "metadata": {
    "collapsed": true
   },
   "outputs": [],
   "source": [
    "df['event_life'] = df['event_life'].map(lambda x: 0 if np.isnan(x) else x)\n",
    "df.info()"
   ]
  },
  {
   "cell_type": "markdown",
   "metadata": {},
   "source": [
    "date_cols = ['approx_payout_date', 'event_created', 'event_created', 'event_end', \\\n",
    "                     'event_published', 'event_start', 'user_created']\n",
    "\n",
    "for col in date_cols:\n",
    "    print df[col][:5] - df['user_created'][:5]"
   ]
  },
  {
   "cell_type": "code",
   "execution_count": null,
   "metadata": {
    "collapsed": true
   },
   "outputs": [],
   "source": [
    "df['has_header'][:10]\n",
    "    "
   ]
  },
  {
   "cell_type": "markdown",
   "metadata": {},
   "source": [
    "a = df['event_published'][:5] - df['user_created'][:5]\n",
    "a.var"
   ]
  },
  {
   "cell_type": "markdown",
   "metadata": {},
   "source": [
    "i=12\n",
    "total_payout = 0\n",
    "payout_count = len(df['previous_payouts'][i])\n",
    "payees = set()\n",
    "for d in df['previous_payouts'][i]:\n",
    "    total_payout += d['amount']\n",
    "    payees.add(d['name'])\n",
    "print total_payout, payout_count, payees"
   ]
  },
  {
   "cell_type": "code",
   "execution_count": null,
   "metadata": {
    "collapsed": true
   },
   "outputs": [],
   "source": [
    "a = set()"
   ]
  },
  {
   "cell_type": "code",
   "execution_count": null,
   "metadata": {
    "collapsed": true
   },
   "outputs": [],
   "source": [
    "df['ticket_types'][0][0].keys()"
   ]
  },
  {
   "cell_type": "code",
   "execution_count": null,
   "metadata": {
    "collapsed": true
   },
   "outputs": [],
   "source": [
    "Counter(df['fraud'])"
   ]
  },
  {
   "cell_type": "code",
   "execution_count": null,
   "metadata": {
    "collapsed": true
   },
   "outputs": [],
   "source": [
    "col = 'ticket_sales_amount'\n",
    "print col\n",
    "print \"fraud :\", df[df['fraud'] == True][col].mean()\n",
    "print \"not fraud :\", df[df['fraud'] == False][col].mean()"
   ]
  },
  {
   "cell_type": "code",
   "execution_count": null,
   "metadata": {
    "collapsed": true
   },
   "outputs": [],
   "source": [
    "col = 'ticket_sales_count'\n",
    "print col\n",
    "print \"fraud :\", df[df['fraud'] == True][col].mean()\n",
    "print \"not fraud :\", df[df['fraud'] == False][col].mean()"
   ]
  },
  {
   "cell_type": "code",
   "execution_count": null,
   "metadata": {
    "collapsed": true
   },
   "outputs": [],
   "source": [
    "\n",
    "col = 'body_length'\n",
    "print col\n",
    "print \"fraud :\", df[df['fraud'] == True][col].mean()\n",
    "print \"not fraud :\", df[df['fraud'] == False][col].mean()"
   ]
  },
  {
   "cell_type": "code",
   "execution_count": null,
   "metadata": {
    "collapsed": true
   },
   "outputs": [],
   "source": [
    "df['short_description'][:10]"
   ]
  },
  {
   "cell_type": "code",
   "execution_count": null,
   "metadata": {
    "collapsed": true
   },
   "outputs": [],
   "source": [
    "df['body_length'][:10]"
   ]
  },
  {
   "cell_type": "code",
   "execution_count": null,
   "metadata": {
    "collapsed": true
   },
   "outputs": [],
   "source": [
    "Counter(df['currency'])"
   ]
  },
  {
   "cell_type": "code",
   "execution_count": null,
   "metadata": {
    "collapsed": true
   },
   "outputs": [],
   "source": [
    "# table = pivot_table(df, values='D', index=['A', 'B'],\n",
    "# ...                     columns=['C'], aggfunc=np.sum)\n",
    "table = pd.pivot_table(df, columns=['currency'], values=['fraud'], aggfunc=np.mean)\n",
    "print table"
   ]
  },
  {
   "cell_type": "code",
   "execution_count": null,
   "metadata": {
    "collapsed": true
   },
   "outputs": [],
   "source": [
    "Counter(df['currency'])"
   ]
  },
  {
   "cell_type": "code",
   "execution_count": null,
   "metadata": {
    "collapsed": true
   },
   "outputs": [],
   "source": [
    "col = 'ticket_sales_events'\n",
    "print col\n",
    "print \"fraud :\", (df[df['fraud'] == True]['event_created'] - df[df['fraud'] == True]['user_created']).mean()\n",
    "print \"not fraud :\", (df[df['fraud'] == False]['event_created'] - df[df['fraud'] == False]['user_created']).mean()\n"
   ]
  },
  {
   "cell_type": "code",
   "execution_count": null,
   "metadata": {
    "collapsed": true
   },
   "outputs": [],
   "source": [
    "col = 'has_analytics'\n",
    "print col\n",
    "print \"fraud :\", (df[df['fraud'] == True][col]).mean()\n",
    "print \"not fraud :\", (df[df['fraud'] == False][col]).mean()\n"
   ]
  },
  {
   "cell_type": "code",
   "execution_count": null,
   "metadata": {
    "collapsed": true
   },
   "outputs": [],
   "source": []
  },
  {
   "cell_type": "code",
   "execution_count": null,
   "metadata": {
    "collapsed": true
   },
   "outputs": [],
   "source": [
    "import bs4"
   ]
  },
  {
   "cell_type": "code",
   "execution_count": null,
   "metadata": {
    "collapsed": true
   },
   "outputs": [],
   "source": [
    "df['event_life'].map(lambda x: 0 if np.isnan(x))"
   ]
  },
  {
   "cell_type": "code",
   "execution_count": null,
   "metadata": {
    "collapsed": true
   },
   "outputs": [],
   "source": [
    "df.info()"
   ]
  },
  {
   "cell_type": "code",
   "execution_count": null,
   "metadata": {
    "collapsed": true
   },
   "outputs": [],
   "source": [
    "df['event_life'][:10]"
   ]
  },
  {
   "cell_type": "markdown",
   "metadata": {},
   "source": [
    "# Setup PostgreSQL table"
   ]
  },
  {
   "cell_type": "markdown",
   "metadata": {},
   "source": [
    "PostgreSQL database is already setup with a table \"events\".\n",
    "\n",
    "Table \"events\" has two fields :\n",
    "\n",
    "    \"predict\" : [float]\n",
    "    \n",
    "    \"json\" : [text]\n",
    "    "
   ]
  },
  {
   "cell_type": "code",
   "execution_count": 48,
   "metadata": {
    "collapsed": true
   },
   "outputs": [],
   "source": [
    "#Read sample data to json file for testing writing to database\n",
    "with open('../data/data.json', 'r') as f:\n",
    "        json_raw = f.read()\n",
    "        \n",
    "#Read sample data to json file for testing writing to database\n",
    "with open('../data/example.json', 'r') as f:\n",
    "        json_ex = f.read()"
   ]
  },
  {
   "cell_type": "code",
   "execution_count": null,
   "metadata": {
    "collapsed": true
   },
   "outputs": [],
   "source": [
    "import psycopg2"
   ]
  },
  {
   "cell_type": "code",
   "execution_count": null,
   "metadata": {
    "collapsed": true
   },
   "outputs": [],
   "source": [
    "#Call prediction on JSON data\n",
    "\n",
    "predict = 0.5"
   ]
  },
  {
   "cell_type": "code",
   "execution_count": null,
   "metadata": {
    "collapsed": true
   },
   "outputs": [],
   "source": [
    "#Write prediction and JSON string to database\n",
    "conn = psycopg2.connect(dbname = 'fraud', port=5432, password='', user='wallace', host='localhost')\n",
    "cur = conn.cursor()\n",
    "cur.execute(\"INSERT INTO events (predict, json) VALUES (%s, %s)\",(predict, json_ex))\n",
    "conn.commit()\n",
    "cur.close()\n",
    "conn.close()"
   ]
  },
  {
   "cell_type": "code",
   "execution_count": null,
   "metadata": {
    "collapsed": true,
    "scrolled": false
   },
   "outputs": [],
   "source": [
    "#Read table and print results\n",
    "conn = psycopg2.connect(dbname = 'fraud', port=5432, password='', user='wallace', host='localhost')\n",
    "cur = conn.cursor()\n",
    "query = '''SELECT * FROM events;'''\n",
    "cur.execute(query)\n",
    "rows = cur.fetchall()\n",
    "for i in xrange(len(rows)):\n",
    "    print rows[i]\n",
    "    print\n",
    "cur.close()\n",
    "conn.close()\n"
   ]
  },
  {
   "cell_type": "code",
   "execution_count": null,
   "metadata": {
    "collapsed": true
   },
   "outputs": [],
   "source": []
  },
  {
   "cell_type": "code",
   "execution_count": null,
   "metadata": {
    "collapsed": true
   },
   "outputs": [],
   "source": []
  },
  {
   "cell_type": "code",
   "execution_count": null,
   "metadata": {
    "collapsed": true
   },
   "outputs": [],
   "source": [
    "cur.close()\n",
    "conn.close()\n"
   ]
  },
  {
   "cell_type": "code",
   "execution_count": null,
   "metadata": {
    "collapsed": true
   },
   "outputs": [],
   "source": []
  },
  {
   "cell_type": "code",
   "execution_count": null,
   "metadata": {
    "collapsed": true
   },
   "outputs": [],
   "source": []
  },
  {
   "cell_type": "markdown",
   "metadata": {},
   "source": [
    "# Read and split JSON file from disk"
   ]
  },
  {
   "cell_type": "code",
   "execution_count": 45,
   "metadata": {
    "collapsed": true
   },
   "outputs": [],
   "source": [
    "json_df = pd.read_json('../data/data.json')"
   ]
  },
  {
   "cell_type": "code",
   "execution_count": null,
   "metadata": {},
   "outputs": [],
   "source": [
    "print len(json_df)"
   ]
  },
  {
   "cell_type": "code",
   "execution_count": 27,
   "metadata": {
    "scrolled": true
   },
   "outputs": [
    {
     "name": "stdout",
     "output_type": "stream",
     "text": [
      "{\"acct_type\":\"fraudster_event\",\"approx_payout_date\":1266062400,\"body_length\":3852,\"channels\":5,\"country\":\"US\",\"currency\":\"USD\",\"delivery_method\":0.0,\"description\":\"<p><a href=\\\"http:\\/\\/s432.photobucket.com\\/albums\\/qq49\\/digusonline\\/?action=view&amp;current=supersunday.jpg\\\" target=\\\"_blank\\\"><img src=\\\"http:\\/\\/i432.photobucket.com\\/albums\\/qq49\\/digusonline\\/supersunday.jpg\\\" border=\\\"0\\\" alt=\\\"Photobucket\\\" \\/><\\/a><\\/p>\\r\\n<p>\\u00a0<\\/p>\\r\\n<p style=\\\"text-align: center;\\\"><font size=\\\"3\\\"><strong>Party Starz Entertaintment &amp; Diverse International Group Presents...<br \\/><\\/strong><\\/font><br \\/><font face=\\\"tahoma,arial,helvetica,sans-serif\\\" size=\\\"4\\\"><strong>The Official\\u00a0\\\"99 Hour No Sleep\\\" Super Bowl <\\/strong><\\/font><\\/p>\\r\\n<p style=\\\"text-align: center;\\\"><font face=\\\"tahoma,arial,helvetica,sans-serif\\\" size=\\\"4\\\"><strong>Weekend <\\/strong><\\/font><font face=\\\"tahoma,arial,helvetica,sans-serif\\\" size=\\\"4\\\"><strong>Grand Finale<\\/strong><\\/font><\\/p>\\r\\n<p><br \\/><span style=\\\"font-family: Times New Roman,serif;\\\"><font size=\\\"3\\\"><font face=\\\"tahoma,arial,helvetica,sans-serif\\\">No matter who wins or loses, this post-game party cannot be missed! Enjoy the drink specials and all night music!<strong>\\u00a0<\\/strong><\\/font><\\/font><span style=\\\"font-family: Times New Roman,serif;\\\"><font face=\\\"tahoma,arial,helvetica,sans-serif\\\" size=\\\"3\\\">The ultimate \\\"99 No Sleep\\\"\\u00a0Super Bowl Weekend Grand Finale! Sunday, February 7th, 2010 @ Ink Nightclub-South Beach (717 Washington Ave, Miami Bch, FL 33139).<\\/font><\\/span><\\/span><\\/p>\\r\\n<p><span style=\\\"font-family: Times New Roman,serif;\\\"><span style=\\\"font-family: Times New Roman,serif;\\\"><font face=\\\"tahoma,arial,helvetica,sans-serif\\\" size=\\\"3\\\">Hosted by 99 Jamz with special appearances by Fast Life Youngstaz. Special invited guests: Billy Blue, Dorrough and Brisco and with performances by various artist's and many many more at South Beach\\u00a0Miami's finest venue! This is a party you have to see to believe! This is everyone's last chance to make that impression, so don't\\u00a0half-step, bring your \\\"A\\\" game\\u00a0and party with\\u00a0all of the hottest artists, celebrities, models and superstar athletes that are guaranteed to be in the building!<\\/font><\\/span><\\/span><\\/p>\\r\\n<p><span style=\\\"font-family: Times New Roman,serif;\\\"><font size=\\\"3\\\"><span style=\\\"font-family: Times New Roman,serif;\\\"><font face=\\\"tahoma,arial,helvetica,sans-serif\\\">DJ Q &amp; DJ Slym will ber keepig the party jumping til the sun comes up with the hottest Hip-Hop, R&amp;B, Reggae, Old School and more. <\\/font><\\/span><\\/font><\\/span><\\/p>\\r\\n<p><span style=\\\"font-family: Times New Roman,serif;\\\"><font size=\\\"3\\\"><span style=\\\"font-family: Times New Roman,serif;\\\"><font face=\\\"tahoma,arial,helvetica,sans-serif\\\">Doors open @ 10pm. Ladies are 18+ and 21+ for Gents. 2-4-1 drinks until 1am, plus the best bottle specials ALL NIGHT LONG!!! We're offering\\u00a0Super Bowl game ticket stub discounts all night!<\\/font><\\/span><\\/font><\\/span><\\/p>\\r\\n<p><span style=\\\"font-family: Times New Roman,serif;\\\"><font size=\\\"3\\\"><span style=\\\"font-family: Times New Roman,serif;\\\"><font face=\\\"tahoma,arial,helvetica,sans-serif\\\">Dress code is\\u00a0enforced, but it's not what you wear but how you wear it!\\u00a0All-Night Drink Specials! For more information\\u00a0&amp; table reservations email<\\/font><\\/span><\\/font><\\/span><span style=\\\"font-family: Times New Roman,serif;\\\"><font size=\\\"3\\\"><span style=\\\"font-family: Times New Roman,serif;\\\"><font face=\\\"tahoma,arial,helvetica,sans-serif\\\">: <a href=\\\"mailto:99hrnosleepweekend@gmail.com\\\">99hrnosleepweekend@gmail.com<\\/a> or 305.742.4880.<\\/font><\\/span><\\/font><\\/span><\\/p>\\r\\n<p><span style=\\\"font-family: Times New Roman,serif;\\\"><\\/span><\\/p>\\r\\n<p>\\u00a0<\\/p>\\r\\n<p style=\\\"text-align: center;\\\"><span style=\\\"font-family: Times New Roman,serif;\\\"><font size=\\\"3\\\"><span style=\\\"font-family: Times New Roman,serif;\\\"><font face=\\\"tahoma,arial,helvetica,sans-serif\\\">This is a 99 Hour No Sleep Celebrity Super Bowl Weekend event! <a \\r\\n<p>\\u00a0<\\/p>\",\"email_domain\":\"gmail.com\",\"event_created\":1262739706,\"event_end\":1265630400,\"event_published\":1263109838.0,\"event_start\":1265594400,\"fb_published\":0,\"gts\":0.0,\"has_analytics\":0,\"has_header\":1.0,\"has_logo\":0,\"listed\":\"y\",\"name\":\"99 HOUR \\\"NO SLEEP\\\" SUPER BOWL CELEBRITY WEEKEND GRAND FINALE\",\"name_length\":60,\"num_order\":0,\"num_payouts\":0,\"object_id\":527017,\"org_desc\":\"\",\"org_facebook\":0.0,\"org_name\":\"Party Starz Ent & Diverse Int'l Group\",\"org_twitter\":0.0,\"payee_name\":\"\",\"payout_type\":\"\",\"previous_payouts\":[],\"sale_duration\":29.0,\"sale_duration2\":33,\"show_map\":1,\"ticket_types\":[{\"event_id\":527017,\"cost\":25.0,\"availability\":1,\"quantity_total\":800,\"quantity_sold\":0},{\"event_id\":527017,\"cost\":50.0,\"availability\":1,\"quantity_total\":100,\"quantity_sold\":0},{\"event_id\":527017,\"cost\":550.0,\"availability\":1,\"quantity_total\":20,\"quantity_sold\":0}],\"user_age\":36,\"user_created\":1259613950,\"user_type\":1,\"venue_address\":\"717 Washington Avenue\",\"venue_country\":\"US\",\"venue_latitude\":25.777471,\"venue_longitude\":-80.1334329,\"venue_name\":\"INK Nightclub - South Beach\",\"venue_state\":\"FL\"}\n",
      "\n",
      "{\"acct_type\":\"premium\",\"approx_payout_date\":1296720000,\"body_length\":3499,\"channels\":0,\"country\":\"US\",\"currency\":\"USD\",\"delivery_method\":1.0,\"description\":\"<p>Join us for a quick, one-night, community-building trip to Charleston, SC.<\\/p>\\r\\n<p><strong>COST:<\\/strong><\\/p>\\r\\n<p>The trip costs a total of $35, which includes breakfast and lunch on Saturday and housing. You will be responsible to pay for your own dinner on Friday and Saturday. Early Bird tickets are available until noon on January 20 and include a great Winter Getaway T-Shirt. So don't wait to register!<\\/p>\\r\\n<p>Registration ends at noon on January 27.<\\/p>\\r\\n<p>A <em>very limited number<\\/em> of scholarships are available. Contact your campus minister as soon as possible to see if you qualify.<\\/p>\\r\\n<p><strong>TRANSPORTATION:<\\/strong><\\/p>\\r\\n<p>We are working to secure two fifteen passenger buses, which will be filled on a first-come, first-served basis. Payment must be received before a slot on a bus can be reserved. You will be responsible for your own transportation if a bus slot is not available.<\\/p>\\r\\n<p><strong>WHAT TO BRING:<\\/strong><\\/p>\\r\\n<p>We will be staying in the gym of <a href=\\\"http:\\/\\/www.metronorthpca.org\\/\\\">Metro North Presbyterian Church<\\/a> in Goose Creek, SC, and showering (maybe) at various members homes. You will want to bring an air mattress, sleeping bag, towel, and anything else you might need to get a good nights sleep on a cold gym floor.<\\/p>\\r\\n<p>You will also need to bring money for dinner on Friday and Saturday night.<\\/p>\\r\\n<p><strong>WHAT WE'RE DOING:<\\/strong><\\/p>\\r\\n<p>Here is our general (and tentative) itinerary:<\\/p>\\r\\n<p><span style=\\\"text-decoration: underline;\\\">Friday<\\/span><\\/p>\\r\\n<p>3pm - Leave from the Dinkins Parking Lot at Winthrop University<br \\/>6pm - Arrive at Metro North Church and drop off belongings<br \\/>8pm - Eat dinner in downtown Charleston, hang out<br \\/>11pm - Return to Metro North, sleep<\\/p>\\r\\n<p><span style=\\\"text-decoration: underline;\\\">Saturday<\\/span><\\/p>\\r\\n<p>9am - Breakfast<br \\/>10am - Seminar on Faith in Life<br \\/>11am - Pack, clean up, load up\\u00a0<br \\/>noon - Lunch<br \\/>1pm - Head to the beach<br \\/>5pm - Head back to downtown Charleston (dinner on your own)<br \\/>9pm - Leave for Rock Hill\\u00a0<br \\/>midnight - Arrive in home\\u00a0<\\/p>\\r\\n<p><strong>WAIVERS<\\/strong><\\/p>\\r\\n<p>By registering for this conference, you hereby acknowledge your agreement to the following waivers:<\\/p>\\r\\n<p><span style=\\\"text-decoration: underline;\\\">Emergency Waiver<\\/span><\\/p>\\r\\n<p>I the attendee hereby authorize the staff of Reformed University Fellowship at Winthrop to act as my agent to consent to medical, surgical, or dental examination and\\/or treatment. In case of emergency, I hereby authorize treatment and\\/or care at any hospital.<\\/p>\\r\\n<p><span style=\\\"text-decoration: underline;\\\">Insurance and Liability Waiver<\\/span><\\/p>\\r\\n<p><span>In consideration of my being allowed to participate in the Winthrop RUF Winter Getaway, I hereby assume all risks involved in my participation in this event. I understand that I will be responsible for any medical expenses for myself and waive any legal right or claim I or my family might have against Reformed University Fellowship\\/Ministries, its staff, or Board of Directors, as a result of any injury incurred or death by participation in activities or travel to or from the 2011 Winter Getaway. I agree that the foregoing insurance and liability waiver agreement is intended to be as broad and inclusive as is permitted by law in the State\\/Province in which the event is conducted and that if any portion thereof is held invalid it is agreed that the balance shall continue in full force and effect.\\u00a0<\\/span><\\/p>\",\"email_domain\":\"ruf.org\",\"event_created\":1293832670,\"event_end\":1296288000,\"event_published\":1293833295.0,\"event_start\":1296255600,\"fb_published\":0,\"gts\":868.02,\"has_analytics\":0,\"has_header\":0.0,\"has_logo\":1,\"listed\":\"n\",\"name\":\"Winthrop RUF Winter Getaway\",\"name_length\":27,\"num_order\":23,\"num_payouts\":1,\"object_id\":786878,\"org_desc\":\"<p>Since 1987, RUF has ministered to students at Winthrop, giving a well-developed, heart-felt witness to the person and work of Jesus Christ. We long to cultivate mature relationships among students that manifest themselves in a love for others, a heart for service, and a deep intimacy with the Living God. As God deals with us through His Word and through each other, we hope to see the Kingdom of God advance beyond the walls of Winthrop into the community at large. We invite you to be a part of God\\u2019s work in, with, and through RUF at Winthrop.<\\/p>\",\"org_facebook\":0.0,\"org_name\":\"RUF at Winthrop University\",\"org_twitter\":12.0,\"payee_name\":\"RUF\",\"payout_type\":\"CHECK\",\"previous_payouts\":[{\"name\":\"RUF\",\"created\":\"2010-10-01 01:10:09\",\"country\":\"US\",\"state\":\"GA\",\"amount\":34389.38,\"address\":\"1700 North Brown Road\",\"zip_code\":\"30043\",\"event\":786869,\"uid\":5419068},{\"name\":\"RUF\",\"created\":\"2011-02-02 01:12:10\",\"country\":\"US\",\"state\":\"GA\",\"amount\":764.93,\"address\":\"1700 North Brown Road\",\"zip_code\":\"30043\",\"event\":786878,\"uid\":5419068},{\"name\":\"RUF\",\"created\":\"2011-03-15 01:30:42\",\"country\":\"US\",\"state\":\"GA\",\"amount\":17405.26,\"address\":\"1700 North Brown Road\",\"zip_code\":\"30043\",\"event\":1181203,\"uid\":5419068},{\"name\":\"RUF\",\"created\":\"2011-03-15 01:30:42\",\"country\":\"US\",\"state\":\"GA\",\"amount\":2224.16,\"address\":\"1700 North Brown Road\",\"zip_code\":\"30043\",\"event\":1293213,\"uid\":5419068},{\"name\":\"RUF\",\"created\":\"2011-04-01 01:30:31\",\"country\":\"US\",\"state\":\"GA\",\"amount\":5370.58,\"address\":\"1700 North Brown Road\",\"zip_code\":\"30043\",\"event\":1181203,\"uid\":5419068},{\"name\":\"RUF\",\"created\":\"2011-05-01 01:30:48\",\"country\":\"US\",\"state\":\"GA\",\"amount\":81511.89,\"address\":\"1700 North Brown Road\",\"zip_code\":\"30043\",\"event\":1181203,\"uid\":5419068},{\"name\":\"RUF\",\"created\":\"2011-05-01 01:30:48\",\"country\":\"US\",\"state\":\"GA\",\"amount\":86855.8,\"address\":\"1700 North Brown Road\",\"zip_code\":\"30043\",\"event\":1293213,\"uid\":5419068},{\"name\":\"RUF\",\"created\":\"2011-05-15 01:30:31\",\"country\":\"US\",\"state\":\"GA\",\"amount\":3095.08,\"address\":\"1700 North Brown Road\",\"zip_code\":\"30043\",\"event\":1293213,\"uid\":5419068},{\"name\":\"RUF\",\"created\":\"2011-05-19 01:13:14\",\"country\":\"US\",\"state\":\"GA\",\"amount\":40833.14,\"address\":\"1700 North Brown Road\",\"zip_code\":\"30043\",\"event\":1181203,\"uid\":5419068},{\"name\":\"RUF\",\"created\":\"2011-05-26 01:12:49\",\"country\":\"US\",\"state\":\"GA\",\"amount\":25751.65,\"address\":\"1700 North Brown Road\",\"zip_code\":\"30043\",\"event\":1293213,\"uid\":5419068},{\"name\":\"RUF\",\"created\":\"2011-08-15 01:30:34\",\"country\":\"US\",\"state\":\"GA\",\"amount\":261.89,\"address\":\"1700 North Brown Road\",\"zip_code\":\"30043\",\"event\":1225457,\"uid\":5419068},{\"name\":\"RUF\",\"created\":\"2011-08-23 01:10:51\",\"country\":\"US\",\"state\":\"GA\",\"amount\":32.5,\"address\":\"1700 North Brown Road\",\"zip_code\":\"30043\",\"event\":1225457,\"uid\":5419068},{\"name\":\"RUF\",\"created\":\"2011-09-01 01:30:49\",\"country\":\"US\",\"state\":\"GA\",\"amount\":2318.73,\"address\":\"1700 North Brown Road\",\"zip_code\":\"30043\",\"event\":1988623,\"uid\":5419068},{\"name\":\"RUF\",\"created\":\"2011-09-15 01:30:27\",\"country\":\"US\",\"state\":\"GA\",\"amount\":21481.32,\"address\":\"1700 North Brown Road\",\"zip_code\":\"30043\",\"event\":1988623,\"uid\":5419068},{\"name\":\"RUF\",\"created\":\"2011-09-30 01:11:01\",\"country\":\"US\",\"state\":\"GA\",\"amount\":16142.47,\"address\":\"1700 North Brown Road\",\"zip_code\":\"30043\",\"event\":1988623,\"uid\":5419068},{\"name\":\"RUF\",\"created\":\"2011-10-01 01:30:29\",\"country\":\"US\",\"state\":\"GA\",\"amount\":132.04,\"address\":\"1700 North Brown Road\",\"zip_code\":\"30043\",\"event\":2218060,\"uid\":5419068},{\"name\":\"RUF\",\"created\":\"2011-10-15 01:30:25\",\"country\":\"US\",\"state\":\"GA\",\"amount\":793.81,\"address\":\"1700 North Brown Road\",\"zip_code\":\"30043\",\"event\":2218060,\"uid\":5419068},{\"name\":\"RUF\",\"created\":\"2011-10-21 01:11:23\",\"country\":\"US\",\"state\":\"GA\",\"amount\":113.0,\"address\":\"1700 North Brown Road\",\"zip_code\":\"30043\",\"event\":2218060,\"uid\":5419068},{\"name\":\"RUF\",\"created\":\"2012-02-01 03:30:53\",\"country\":\"US\",\"state\":\"GA\",\"amount\":7032.66,\"address\":\"1700 North Brown Road\",\"zip_code\":\"30043\",\"event\":2759189,\"uid\":5419068},{\"name\":\"RUF\",\"created\":\"2012-02-01 03:30:53\",\"country\":\"US\",\"state\":\"GA\",\"amount\":1876.73,\"address\":\"1700 North Brown Road\",\"zip_code\":\"30043\",\"event\":2804299,\"uid\":5419068},{\"name\":\"RUF\",\"created\":\"2012-02-02 03:12:43\",\"country\":\"US\",\"state\":\"GA\",\"amount\":146.13,\"address\":\"1700 North Brown Road\",\"zip_code\":\"30043\",\"event\":2738145,\"uid\":5419068},{\"name\":\"RUF \",\"created\":\"2012-02-15 03:30:44\",\"country\":\"US\",\"state\":\"GA\",\"amount\":263.93,\"address\":\"1700 North Brown Road\",\"zip_code\":\"30043\",\"event\":2707505,\"uid\":5419068},{\"name\":\"RUF\",\"created\":\"2012-02-15 03:30:44\",\"country\":\"US\",\"state\":\"GA\",\"amount\":5425.92,\"address\":\"1700 North Brown Road\",\"zip_code\":\"30043\",\"event\":2759189,\"uid\":5419068},{\"name\":\"RUF\",\"created\":\"2012-02-17 03:12:04\",\"country\":\"US\",\"state\":\"GA\",\"amount\":5848.27,\"address\":\"1700 North Brown Road\",\"zip_code\":\"30043\",\"event\":2804299,\"uid\":5419068},{\"name\":\"RUF\",\"created\":\"2012-03-02 03:12:11\",\"country\":\"US\",\"state\":\"GA\",\"amount\":3984.25,\"address\":\"1700 North Brown Road\",\"zip_code\":\"30043\",\"event\":2759189,\"uid\":5419068},{\"name\":\"RUF\",\"created\":\"2012-03-15 03:30:49\",\"country\":\"US\",\"state\":\"GA\",\"amount\":29683.73,\"address\":\"1700 North Brown Road\",\"zip_code\":\"30043\",\"event\":2760853,\"uid\":5419068},{\"name\":\"RUF\",\"created\":\"2012-03-15 03:30:49\",\"country\":\"US\",\"state\":\"GA\",\"amount\":10379.33,\"address\":\"1700 North Brown Road\",\"zip_code\":\"30043\",\"event\":3049167,\"uid\":5419068},{\"name\":\"RUF \",\"created\":\"2012-03-29 03:13:28\",\"country\":\"US\",\"state\":\"GA\",\"amount\":31.07,\"address\":\"1700 North Brown Road\",\"zip_code\":\"30043\",\"event\":2707505,\"uid\":5419068},{\"name\":\"RUF\",\"created\":\"2012-04-01 03:30:55\",\"country\":\"US\",\"state\":\"GA\",\"amount\":43465.59,\"address\":\"1700 North Brown Road\",\"zip_code\":\"30043\",\"event\":2760853,\"uid\":5419068},{\"name\":\"RUF\",\"created\":\"2012-04-01 03:30:55\",\"country\":\"US\",\"state\":\"GA\",\"amount\":16894.06,\"address\":\"1700 North Brown Road\",\"zip_code\":\"30043\",\"event\":3049167,\"uid\":5419068},{\"name\":\"RUF\",\"created\":\"2012-04-15 03:30:47\",\"country\":\"US\",\"state\":\"GA\",\"amount\":46518.9,\"address\":\"1700 North Brown Road\",\"zip_code\":\"30043\",\"event\":2760853,\"uid\":5419068},{\"name\":\"RUF\",\"created\":\"2012-04-15 03:30:47\",\"country\":\"US\",\"state\":\"GA\",\"amount\":35955.38,\"address\":\"1700 North Brown Road\",\"zip_code\":\"30043\",\"event\":3049167,\"uid\":5419068},{\"name\":\"RUF\",\"created\":\"2012-05-01 03:30:54\",\"country\":\"US\",\"state\":\"GA\",\"amount\":2537.13,\"address\":\"1700 North Brown Road\",\"zip_code\":\"30043\",\"event\":2760853,\"uid\":5419068},{\"name\":\"RUF\",\"created\":\"2012-05-01 03:30:54\",\"country\":\"US\",\"state\":\"GA\",\"amount\":14565.88,\"address\":\"1700 North Brown Road\",\"zip_code\":\"30043\",\"event\":3049167,\"uid\":5419068},{\"name\":\"RUF\",\"created\":\"2012-05-15 03:30:53\",\"country\":\"US\",\"state\":\"GA\",\"amount\":71314.81,\"address\":\"1700 North Brown Road\",\"zip_code\":\"30043\",\"event\":3049167,\"uid\":5419068},{\"name\":\"RUF\",\"created\":\"2012-05-17 03:14:19\",\"country\":\"US\",\"state\":\"GA\",\"amount\":37586.56,\"address\":\"1700 North Brown Road\",\"zip_code\":\"30043\",\"event\":2760853,\"uid\":5419068},{\"name\":\"RUF\",\"created\":\"2012-05-24 03:13:12\",\"country\":\"US\",\"state\":\"GA\",\"amount\":18560.8,\"address\":\"1700 North Brown Road\",\"zip_code\":\"30043\",\"event\":3049167,\"uid\":5419068},{\"name\":\"RUF\",\"created\":\"2012-09-01 03:30:39\",\"country\":\"US\",\"state\":\"GA\",\"amount\":4965.98,\"address\":\"1700 North Brown Road\",\"zip_code\":\"30043\",\"event\":3877318,\"uid\":5419068},{\"name\":\"RUF\",\"created\":\"2012-09-15 03:30:38\",\"country\":\"US\",\"state\":\"GA\",\"amount\":2029.86,\"address\":\"1700 North Brown Road\",\"zip_code\":\"30043\",\"event\":2831243,\"uid\":5419068},{\"name\":\"RUF\",\"created\":\"2012-09-15 03:30:38\",\"country\":\"US\",\"state\":\"GA\",\"amount\":28205.81,\"address\":\"1700 North Brown Road\",\"zip_code\":\"30043\",\"event\":3877318,\"uid\":5419068},{\"name\":\"RUF\",\"created\":\"2012-09-28 03:16:13\",\"country\":\"US\",\"state\":\"GA\",\"amount\":14120.8,\"address\":\"1700 North Brown Road\",\"zip_code\":\"30043\",\"event\":3877318,\"uid\":5419068},{\"name\":\"RUF\",\"created\":\"2012-10-05 03:17:30\",\"country\":\"US\",\"state\":\"GA\",\"amount\":4242.5,\"address\":\"1700 North Brown Road\",\"zip_code\":\"30043\",\"event\":2831243,\"uid\":5419068},{\"name\":\"RUF\",\"created\":\"2012-10-18 03:14:48\",\"country\":\"US\",\"state\":\"GA\",\"amount\":4832.31,\"address\":\"1700 North Brown Road\",\"zip_code\":\"30043\",\"event\":4256932,\"uid\":5419068},{\"name\":\"RUF\",\"created\":\"2013-09-01 03:32:05\",\"country\":\"US\",\"state\":\"GA\",\"amount\":37.26,\"address\":\"1700 North Brown Road\",\"zip_code\":\"30043\",\"event\":4909773,\"uid\":5419068},{\"name\":\"RUF\",\"created\":\"2013-09-01 03:32:06\",\"country\":\"US\",\"state\":\"GA\",\"amount\":4361.34,\"address\":\"1700 North Brown Road\",\"zip_code\":\"30043\",\"event\":7579105,\"uid\":5419068},{\"name\":\"RUF\",\"created\":\"2013-09-15 03:30:55\",\"country\":\"US\",\"state\":\"GA\",\"amount\":664.72,\"address\":\"1700 North Brown Road\",\"zip_code\":\"30043\",\"event\":4909773,\"uid\":5419068},{\"name\":\"RUF\",\"created\":\"2013-09-15 03:30:55\",\"country\":\"US\",\"state\":\"GA\",\"amount\":28941.9,\"address\":\"1700 North Brown Road\",\"zip_code\":\"30043\",\"event\":7579105,\"uid\":5419068},{\"name\":\"RUF\",\"created\":\"2013-09-27 03:13:28\",\"country\":\"US\",\"state\":\"GA\",\"amount\":14657.28,\"address\":\"1700 North Brown Road\",\"zip_code\":\"30043\",\"event\":7579105,\"uid\":5419068},{\"name\":\"RUF\",\"created\":\"2013-10-04 03:12:18\",\"country\":\"US\",\"state\":\"GA\",\"amount\":4715.34,\"address\":\"1700 North Brown Road\",\"zip_code\":\"30043\",\"event\":4909773,\"uid\":5419068}],\"sale_duration\":28.0,\"sale_duration2\":28,\"show_map\":0,\"ticket_types\":[{\"event_id\":786878,\"cost\":35.0,\"availability\":1,\"quantity_total\":50,\"quantity_sold\":22},{\"event_id\":786878,\"cost\":35.0,\"availability\":1,\"quantity_total\":50,\"quantity_sold\":3}],\"user_age\":149,\"user_created\":1280942776,\"user_type\":3,\"venue_address\":\"\",\"venue_country\":\"US\",\"venue_latitude\":32.7765656,\"venue_longitude\":-79.9309216,\"venue_name\":\"The Charleston, SC area\",\"venue_state\":\"SC\"}\n"
     ]
    }
   ],
   "source": [
    "json_ex1 = json_df.iloc[0,:].to_json()\n",
    "json_ex2 = json_df.iloc[1,:].to_json()\n",
    "# my_json=pd.concat([json_ex1, json_ex2], axis=1).to_frame()\n",
    "# my_json = .to_json()\n",
    "# a = pd.read_json(my_json)\n",
    "# my_json.head()\n",
    "# a = pd.read_json('{' + json_ex1 + ',' + json_ex2 + '}')\n",
    "print json_ex1\n",
    "print\n",
    "print json_ex2"
   ]
  },
  {
   "cell_type": "code",
   "execution_count": null,
   "metadata": {},
   "outputs": [],
   "source": [
    "b = pd.DataFrame(a)\n",
    "print b"
   ]
  },
  {
   "cell_type": "code",
   "execution_count": null,
   "metadata": {},
   "outputs": [],
   "source": [
    "from src.pipeline import pipeline_json\n",
    "pj = pipeline_json(my_json)\n",
    "X = pj.convert_to_df(scaling=True, filtered=True)\n",
    "y = pj.output_labelarray()"
   ]
  },
  {
   "cell_type": "code",
   "execution_count": null,
   "metadata": {
    "scrolled": false
   },
   "outputs": [],
   "source": [
    "date_cols = ['approx_payout_date', 'event_created', 'event_created', 'event_end', \\\n",
    "             'event_published', 'event_start', 'user_created']\n",
    "for col in date_cols:\n",
    "    a[col] = pd.to_datetime(a[col], unit='s')\n",
    "    \n",
    "a"
   ]
  },
  {
   "cell_type": "code",
   "execution_count": null,
   "metadata": {},
   "outputs": [],
   "source": [
    "a['acct_type']\n"
   ]
  },
  {
   "cell_type": "code",
   "execution_count": 29,
   "metadata": {},
   "outputs": [
    {
     "ename": "TypeError",
     "evalue": "expected string or buffer",
     "output_type": "error",
     "traceback": [
      "\u001b[0;31m---------------------------------------------------------------------------\u001b[0m",
      "\u001b[0;31mTypeError\u001b[0m                                 Traceback (most recent call last)",
      "\u001b[0;32m<ipython-input-29-13e4fe83b0ff>\u001b[0m in \u001b[0;36m<module>\u001b[0;34m()\u001b[0m\n\u001b[1;32m      3\u001b[0m \u001b[0;34m\u001b[0m\u001b[0m\n\u001b[1;32m      4\u001b[0m \u001b[0mresponse\u001b[0m \u001b[0;34m=\u001b[0m \u001b[0mrequests\u001b[0m\u001b[0;34m.\u001b[0m\u001b[0mget\u001b[0m\u001b[0;34m(\u001b[0m\u001b[0;34m'http://galvanize-case-study-on-fraud.herokuapp.com/data_point'\u001b[0m\u001b[0;34m)\u001b[0m\u001b[0;34m\u001b[0m\u001b[0m\n\u001b[0;32m----> 5\u001b[0;31m \u001b[0mjson_data\u001b[0m \u001b[0;34m=\u001b[0m \u001b[0mjson\u001b[0m\u001b[0;34m.\u001b[0m\u001b[0mloads\u001b[0m\u001b[0;34m(\u001b[0m\u001b[0mresponse\u001b[0m\u001b[0;34m)\u001b[0m\u001b[0;34m\u001b[0m\u001b[0m\n\u001b[0m",
      "\u001b[0;32m/Users/wallace/anaconda2/lib/python2.7/json/__init__.pyc\u001b[0m in \u001b[0;36mloads\u001b[0;34m(s, encoding, cls, object_hook, parse_float, parse_int, parse_constant, object_pairs_hook, **kw)\u001b[0m\n\u001b[1;32m    337\u001b[0m             \u001b[0mparse_int\u001b[0m \u001b[0;32mis\u001b[0m \u001b[0mNone\u001b[0m \u001b[0;32mand\u001b[0m \u001b[0mparse_float\u001b[0m \u001b[0;32mis\u001b[0m \u001b[0mNone\u001b[0m \u001b[0;32mand\u001b[0m\u001b[0;34m\u001b[0m\u001b[0m\n\u001b[1;32m    338\u001b[0m             parse_constant is None and object_pairs_hook is None and not kw):\n\u001b[0;32m--> 339\u001b[0;31m         \u001b[0;32mreturn\u001b[0m \u001b[0m_default_decoder\u001b[0m\u001b[0;34m.\u001b[0m\u001b[0mdecode\u001b[0m\u001b[0;34m(\u001b[0m\u001b[0ms\u001b[0m\u001b[0;34m)\u001b[0m\u001b[0;34m\u001b[0m\u001b[0m\n\u001b[0m\u001b[1;32m    340\u001b[0m     \u001b[0;32mif\u001b[0m \u001b[0mcls\u001b[0m \u001b[0;32mis\u001b[0m \u001b[0mNone\u001b[0m\u001b[0;34m:\u001b[0m\u001b[0;34m\u001b[0m\u001b[0m\n\u001b[1;32m    341\u001b[0m         \u001b[0mcls\u001b[0m \u001b[0;34m=\u001b[0m \u001b[0mJSONDecoder\u001b[0m\u001b[0;34m\u001b[0m\u001b[0m\n",
      "\u001b[0;32m/Users/wallace/anaconda2/lib/python2.7/json/decoder.pyc\u001b[0m in \u001b[0;36mdecode\u001b[0;34m(self, s, _w)\u001b[0m\n\u001b[1;32m    362\u001b[0m \u001b[0;34m\u001b[0m\u001b[0m\n\u001b[1;32m    363\u001b[0m         \"\"\"\n\u001b[0;32m--> 364\u001b[0;31m         \u001b[0mobj\u001b[0m\u001b[0;34m,\u001b[0m \u001b[0mend\u001b[0m \u001b[0;34m=\u001b[0m \u001b[0mself\u001b[0m\u001b[0;34m.\u001b[0m\u001b[0mraw_decode\u001b[0m\u001b[0;34m(\u001b[0m\u001b[0ms\u001b[0m\u001b[0;34m,\u001b[0m \u001b[0midx\u001b[0m\u001b[0;34m=\u001b[0m\u001b[0m_w\u001b[0m\u001b[0;34m(\u001b[0m\u001b[0ms\u001b[0m\u001b[0;34m,\u001b[0m \u001b[0;36m0\u001b[0m\u001b[0;34m)\u001b[0m\u001b[0;34m.\u001b[0m\u001b[0mend\u001b[0m\u001b[0;34m(\u001b[0m\u001b[0;34m)\u001b[0m\u001b[0;34m)\u001b[0m\u001b[0;34m\u001b[0m\u001b[0m\n\u001b[0m\u001b[1;32m    365\u001b[0m         \u001b[0mend\u001b[0m \u001b[0;34m=\u001b[0m \u001b[0m_w\u001b[0m\u001b[0;34m(\u001b[0m\u001b[0ms\u001b[0m\u001b[0;34m,\u001b[0m \u001b[0mend\u001b[0m\u001b[0;34m)\u001b[0m\u001b[0;34m.\u001b[0m\u001b[0mend\u001b[0m\u001b[0;34m(\u001b[0m\u001b[0;34m)\u001b[0m\u001b[0;34m\u001b[0m\u001b[0m\n\u001b[1;32m    366\u001b[0m         \u001b[0;32mif\u001b[0m \u001b[0mend\u001b[0m \u001b[0;34m!=\u001b[0m \u001b[0mlen\u001b[0m\u001b[0;34m(\u001b[0m\u001b[0ms\u001b[0m\u001b[0;34m)\u001b[0m\u001b[0;34m:\u001b[0m\u001b[0;34m\u001b[0m\u001b[0m\n",
      "\u001b[0;31mTypeError\u001b[0m: expected string or buffer"
     ]
    }
   ],
   "source": []
  },
  {
   "cell_type": "code",
   "execution_count": 67,
   "metadata": {},
   "outputs": [],
   "source": [
    "from src.request_json import get_json\n",
    "s1 = get_json()\n",
    "s2 = get_json()"
   ]
  },
  {
   "cell_type": "code",
   "execution_count": 66,
   "metadata": {
    "scrolled": false
   },
   "outputs": [],
   "source": [
    "# print s1 \n",
    "\n",
    "# print \n",
    "\n",
    "# print s2\n",
    "\n"
   ]
  },
  {
   "cell_type": "code",
   "execution_count": 65,
   "metadata": {},
   "outputs": [],
   "source": [
    "# print s1.json()"
   ]
  },
  {
   "cell_type": "code",
   "execution_count": 61,
   "metadata": {
    "collapsed": true
   },
   "outputs": [],
   "source": [
    "query_df = pd.DataFrame.from_dict(s1,  orient='index')\n",
    "query_df = query_df.transpose()"
   ]
  },
  {
   "cell_type": "code",
   "execution_count": 72,
   "metadata": {},
   "outputs": [
    {
     "name": "stdout",
     "output_type": "stream",
     "text": [
      "<class 'pandas.core.frame.DataFrame'>\n",
      "RangeIndex: 1 entries, 0 to 0\n",
      "Data columns (total 43 columns):\n",
      "org_name              1 non-null object\n",
      "name_length           1 non-null object\n",
      "event_end             1 non-null object\n",
      "venue_latitude        1 non-null object\n",
      "event_published       1 non-null object\n",
      "user_type             1 non-null object\n",
      "channels              1 non-null object\n",
      "currency              1 non-null object\n",
      "org_desc              1 non-null object\n",
      "event_created         1 non-null object\n",
      "event_start           1 non-null object\n",
      "has_logo              1 non-null object\n",
      "email_domain          1 non-null object\n",
      "user_created          1 non-null object\n",
      "payee_name            1 non-null object\n",
      "payout_type           1 non-null object\n",
      "venue_name            1 non-null object\n",
      "sale_duration2        1 non-null object\n",
      "venue_address         1 non-null object\n",
      "approx_payout_date    1 non-null object\n",
      "org_twitter           1 non-null object\n",
      "gts                   1 non-null object\n",
      "listed                1 non-null object\n",
      "ticket_types          1 non-null object\n",
      "org_facebook          1 non-null object\n",
      "num_order             1 non-null object\n",
      "user_age              1 non-null object\n",
      "body_length           1 non-null object\n",
      "description           1 non-null object\n",
      "object_id             1 non-null object\n",
      "venue_longitude       1 non-null object\n",
      "venue_country         1 non-null object\n",
      "previous_payouts      1 non-null object\n",
      "sale_duration         1 non-null object\n",
      "num_payouts           1 non-null object\n",
      "name                  1 non-null object\n",
      "country               1 non-null object\n",
      "delivery_method       1 non-null object\n",
      "has_analytics         1 non-null object\n",
      "fb_published          1 non-null object\n",
      "venue_state           1 non-null object\n",
      "has_header            1 non-null object\n",
      "show_map              1 non-null object\n",
      "dtypes: object(43)\n",
      "memory usage: 416.0+ bytes\n"
     ]
    }
   ],
   "source": [
    "query_df.info()"
   ]
  },
  {
   "cell_type": "code",
   "execution_count": 79,
   "metadata": {},
   "outputs": [],
   "source": [
    "from src.pipeline import pipeline_json\n",
    "# pj = pipeline_json(my_json)\n",
    "# X = pj.convert_to_df(scaling=True, filtered=True)\n",
    "# y = pj.output_labelarray()\n",
    "pj = pipeline_json(s1)\n",
    "# X = pj.convert_to_df(scaling=True, filtered=True)"
   ]
  },
  {
   "cell_type": "code",
   "execution_count": 80,
   "metadata": {},
   "outputs": [],
   "source": [
    "X = pj.convert_to_df(scaling=False, filtered=True)"
   ]
  },
  {
   "cell_type": "code",
   "execution_count": 75,
   "metadata": {},
   "outputs": [
    {
     "data": {
      "text/plain": [
       "False"
      ]
     },
     "execution_count": 75,
     "metadata": {},
     "output_type": "execute_result"
    }
   ],
   "source": [
    "'acct_type' in query_df.columns"
   ]
  },
  {
   "cell_type": "code",
   "execution_count": 81,
   "metadata": {},
   "outputs": [
    {
     "name": "stdout",
     "output_type": "stream",
     "text": [
      "<class 'pandas.core.frame.DataFrame'>\n",
      "RangeIndex: 1 entries, 0 to 0\n",
      "Data columns (total 14 columns):\n",
      "payout_type            1 non-null int64\n",
      "fb_published           1 non-null bool\n",
      "org_facebook           1 non-null float64\n",
      "has_analytics          1 non-null bool\n",
      "has_header             1 non-null float64\n",
      "org_twitter            1 non-null float64\n",
      "account_life           1 non-null int64\n",
      "event_life             1 non-null int64\n",
      "eu_currency            1 non-null int64\n",
      "payout_count           1 non-null int64\n",
      "total_payout           1 non-null float64\n",
      "ticket_sales_amount    1 non-null float64\n",
      "ticket_sales_count     1 non-null int64\n",
      "wc_description         1 non-null int64\n",
      "dtypes: bool(2), float64(5), int64(7)\n",
      "memory usage: 170.0 bytes\n"
     ]
    }
   ],
   "source": [
    "X.info()"
   ]
  },
  {
   "cell_type": "code",
   "execution_count": null,
   "metadata": {
    "collapsed": true
   },
   "outputs": [],
   "source": []
  }
 ],
 "metadata": {
  "kernelspec": {
   "display_name": "Python 2",
   "language": "python",
   "name": "python2"
  },
  "language_info": {
   "codemirror_mode": {
    "name": "ipython",
    "version": 2
   },
   "file_extension": ".py",
   "mimetype": "text/x-python",
   "name": "python",
   "nbconvert_exporter": "python",
   "pygments_lexer": "ipython2",
   "version": "2.7.13"
  }
 },
 "nbformat": 4,
 "nbformat_minor": 2
}
