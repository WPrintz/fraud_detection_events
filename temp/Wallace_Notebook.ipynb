{
 "cells": [
  {
   "cell_type": "markdown",
   "metadata": {},
   "source": [
    "# Import modules"
   ]
  },
  {
   "cell_type": "code",
   "execution_count": 1,
   "metadata": {
    "scrolled": true
   },
   "outputs": [],
   "source": [
    "import numpy as np\n",
    "import pandas as pd\n",
    "import matplotlib.pyplot as plt\n",
    "%matplotlib inline\n",
    "from collections import Counter\n",
    "import datetime"
   ]
  },
  {
   "cell_type": "code",
   "execution_count": 2,
   "metadata": {
    "collapsed": true
   },
   "outputs": [],
   "source": [
    "import os\n",
    "import sys\n",
    "module_path = os.path.abspath(os.path.join('..'))\n",
    "if module_path not in sys.path:\n",
    "    sys.path.append(module_path)\n",
    "    \n",
    "# ex: from src.create_model_pickle import *\n"
   ]
  },
  {
   "cell_type": "markdown",
   "metadata": {},
   "source": [
    "# Import data"
   ]
  },
  {
   "cell_type": "code",
   "execution_count": 3,
   "metadata": {},
   "outputs": [],
   "source": [
    "# Use our json to dataframe conversion class\n",
    "from src.pipeline import pipeline_json\n",
    "pj = pipeline_json('../data/data.json')"
   ]
  },
  {
   "cell_type": "code",
   "execution_count": 15,
   "metadata": {},
   "outputs": [
    {
     "ename": "TypeError",
     "evalue": "append() takes exactly one argument (2 given)",
     "output_type": "error",
     "traceback": [
      "\u001b[0;31m---------------------------------------------------------------------------\u001b[0m",
      "\u001b[0;31mTypeError\u001b[0m                                 Traceback (most recent call last)",
      "\u001b[0;32m<ipython-input-15-7a110de529fa>\u001b[0m in \u001b[0;36m<module>\u001b[0;34m()\u001b[0m\n\u001b[0;32m----> 1\u001b[0;31m \u001b[0mdf\u001b[0m \u001b[0;34m=\u001b[0m \u001b[0mpj\u001b[0m\u001b[0;34m.\u001b[0m\u001b[0mconvert_to_df\u001b[0m\u001b[0;34m(\u001b[0m\u001b[0mscaling\u001b[0m\u001b[0;34m=\u001b[0m\u001b[0mTrue\u001b[0m\u001b[0;34m,\u001b[0m \u001b[0mfiltered\u001b[0m\u001b[0;34m=\u001b[0m\u001b[0mTrue\u001b[0m\u001b[0;34m)\u001b[0m\u001b[0;34m\u001b[0m\u001b[0m\n\u001b[0m\u001b[1;32m      2\u001b[0m \u001b[0mdf\u001b[0m\u001b[0;34m.\u001b[0m\u001b[0minfo\u001b[0m\u001b[0;34m(\u001b[0m\u001b[0;34m)\u001b[0m\u001b[0;34m\u001b[0m\u001b[0m\n",
      "\u001b[0;32m/Users/wallace/Documents/GitHub/Case_Studies/fraud_detection_events/src/pipeline.py\u001b[0m in \u001b[0;36mconvert_to_df\u001b[0;34m(self, scaling, filtered)\u001b[0m\n\u001b[1;32m     51\u001b[0m         \u001b[0mself\u001b[0m\u001b[0;34m.\u001b[0m\u001b[0m_convert_datetime\u001b[0m\u001b[0;34m(\u001b[0m\u001b[0;34m)\u001b[0m\u001b[0;34m\u001b[0m\u001b[0m\n\u001b[1;32m     52\u001b[0m         \u001b[0mself\u001b[0m\u001b[0;34m.\u001b[0m\u001b[0m_convert_bools\u001b[0m\u001b[0;34m(\u001b[0m\u001b[0;34m)\u001b[0m\u001b[0;34m\u001b[0m\u001b[0m\n\u001b[0;32m---> 53\u001b[0;31m         \u001b[0mself\u001b[0m\u001b[0;34m.\u001b[0m\u001b[0m_add_features\u001b[0m\u001b[0;34m(\u001b[0m\u001b[0;34m)\u001b[0m\u001b[0;34m\u001b[0m\u001b[0m\n\u001b[0m\u001b[1;32m     54\u001b[0m \u001b[0;34m\u001b[0m\u001b[0m\n\u001b[1;32m     55\u001b[0m \u001b[0;34m\u001b[0m\u001b[0m\n",
      "\u001b[0;32m/Users/wallace/Documents/GitHub/Case_Studies/fraud_detection_events/src/pipeline.py\u001b[0m in \u001b[0;36m_add_features\u001b[0;34m(self)\u001b[0m\n\u001b[1;32m    177\u001b[0m         \u001b[0mlst\u001b[0m\u001b[0;34m=\u001b[0m\u001b[0;34m[\u001b[0m\u001b[0;34m]\u001b[0m\u001b[0;34m\u001b[0m\u001b[0m\n\u001b[1;32m    178\u001b[0m         \u001b[0;32mfor\u001b[0m \u001b[0mi\u001b[0m \u001b[0;32min\u001b[0m \u001b[0mxrange\u001b[0m\u001b[0;34m(\u001b[0m\u001b[0mlen\u001b[0m\u001b[0;34m(\u001b[0m\u001b[0mself\u001b[0m\u001b[0;34m.\u001b[0m\u001b[0mdf\u001b[0m\u001b[0;34m)\u001b[0m\u001b[0;34m)\u001b[0m\u001b[0;34m:\u001b[0m\u001b[0;34m\u001b[0m\u001b[0m\n\u001b[0;32m--> 179\u001b[0;31m             \u001b[0mlst\u001b[0m\u001b[0;34m.\u001b[0m\u001b[0mappend\u001b[0m\u001b[0;34m(\u001b[0m\u001b[0mlen\u001b[0m\u001b[0;34m(\u001b[0m\u001b[0mBeautifulSoup\u001b[0m\u001b[0;34m(\u001b[0m\u001b[0mself\u001b[0m\u001b[0;34m.\u001b[0m\u001b[0mdf\u001b[0m\u001b[0;34m[\u001b[0m\u001b[0;34m'description'\u001b[0m\u001b[0;34m]\u001b[0m\u001b[0;34m[\u001b[0m\u001b[0mi\u001b[0m\u001b[0;34m]\u001b[0m\u001b[0;34m)\u001b[0m\u001b[0;34m.\u001b[0m\u001b[0mtext\u001b[0m\u001b[0;34m)\u001b[0m\u001b[0;34m,\u001b[0m \u001b[0;34m'html.parser'\u001b[0m\u001b[0;34m)\u001b[0m\u001b[0;34m\u001b[0m\u001b[0m\n\u001b[0m\u001b[1;32m    180\u001b[0m         \u001b[0mself\u001b[0m\u001b[0;34m.\u001b[0m\u001b[0mdf\u001b[0m\u001b[0;34m[\u001b[0m\u001b[0;34m'wc_description'\u001b[0m\u001b[0;34m]\u001b[0m \u001b[0;34m=\u001b[0m \u001b[0mpd\u001b[0m\u001b[0;34m.\u001b[0m\u001b[0mSeries\u001b[0m\u001b[0;34m(\u001b[0m\u001b[0mlst\u001b[0m\u001b[0;34m)\u001b[0m\u001b[0;34m\u001b[0m\u001b[0m\n\u001b[1;32m    181\u001b[0m \u001b[0;34m\u001b[0m\u001b[0m\n",
      "\u001b[0;31mTypeError\u001b[0m: append() takes exactly one argument (2 given)"
     ]
    }
   ],
   "source": [
    "df = pj.convert_to_df(scaling=True, filtered=True)\n",
    "df.info()"
   ]
  },
  {
   "cell_type": "code",
   "execution_count": 7,
   "metadata": {},
   "outputs": [
    {
     "data": {
      "text/html": [
       "<div>\n",
       "<style>\n",
       "    .dataframe thead tr:only-child th {\n",
       "        text-align: right;\n",
       "    }\n",
       "\n",
       "    .dataframe thead th {\n",
       "        text-align: left;\n",
       "    }\n",
       "\n",
       "    .dataframe tbody tr th {\n",
       "        vertical-align: top;\n",
       "    }\n",
       "</style>\n",
       "<table border=\"1\" class=\"dataframe\">\n",
       "  <thead>\n",
       "    <tr style=\"text-align: right;\">\n",
       "      <th></th>\n",
       "      <th>payout_type</th>\n",
       "      <th>org_facebook</th>\n",
       "      <th>has_analytics</th>\n",
       "      <th>has_header</th>\n",
       "      <th>org_twitter</th>\n",
       "      <th>account_life</th>\n",
       "      <th>event_life</th>\n",
       "      <th>eu_currency</th>\n",
       "      <th>payout_count</th>\n",
       "      <th>total_payout</th>\n",
       "      <th>ticket_sales_amount</th>\n",
       "      <th>ticket_sales_count</th>\n",
       "      <th>wc_description</th>\n",
       "    </tr>\n",
       "  </thead>\n",
       "  <tbody>\n",
       "    <tr>\n",
       "      <th>count</th>\n",
       "      <td>14337.000000</td>\n",
       "      <td>1.433700e+04</td>\n",
       "      <td>1.433700e+04</td>\n",
       "      <td>14337.000000</td>\n",
       "      <td>1.433700e+04</td>\n",
       "      <td>1.433700e+04</td>\n",
       "      <td>14238.000000</td>\n",
       "      <td>14337.000000</td>\n",
       "      <td>1.433700e+04</td>\n",
       "      <td>1.433700e+04</td>\n",
       "      <td>1.433700e+04</td>\n",
       "      <td>1.433700e+04</td>\n",
       "      <td>1.433700e+04</td>\n",
       "    </tr>\n",
       "    <tr>\n",
       "      <th>mean</th>\n",
       "      <td>0.965613</td>\n",
       "      <td>-8.005345e-16</td>\n",
       "      <td>9.346642e-16</td>\n",
       "      <td>-0.251447</td>\n",
       "      <td>7.391885e-16</td>\n",
       "      <td>2.965706e-16</td>\n",
       "      <td>56.684015</td>\n",
       "      <td>0.173258</td>\n",
       "      <td>1.126291e-16</td>\n",
       "      <td>7.708140e-17</td>\n",
       "      <td>-5.693600e-17</td>\n",
       "      <td>2.669274e-17</td>\n",
       "      <td>5.642879e-17</td>\n",
       "    </tr>\n",
       "    <tr>\n",
       "      <th>std</th>\n",
       "      <td>0.182226</td>\n",
       "      <td>1.000035e+00</td>\n",
       "      <td>1.000035e+00</td>\n",
       "      <td>0.663256</td>\n",
       "      <td>1.000035e+00</td>\n",
       "      <td>1.000035e+00</td>\n",
       "      <td>977.609649</td>\n",
       "      <td>0.378483</td>\n",
       "      <td>1.000035e+00</td>\n",
       "      <td>1.000035e+00</td>\n",
       "      <td>1.000035e+00</td>\n",
       "      <td>1.000035e+00</td>\n",
       "      <td>1.000035e+00</td>\n",
       "    </tr>\n",
       "    <tr>\n",
       "      <th>min</th>\n",
       "      <td>0.000000</td>\n",
       "      <td>-7.605960e-01</td>\n",
       "      <td>-2.806796e-01</td>\n",
       "      <td>-1.000000</td>\n",
       "      <td>-8.796040e-01</td>\n",
       "      <td>-8.932491e-01</td>\n",
       "      <td>-601.000000</td>\n",
       "      <td>0.000000</td>\n",
       "      <td>-3.202421e-01</td>\n",
       "      <td>-1.744858e-01</td>\n",
       "      <td>-2.021541e-01</td>\n",
       "      <td>-1.927533e-01</td>\n",
       "      <td>-8.124691e-01</td>\n",
       "    </tr>\n",
       "    <tr>\n",
       "      <th>25%</th>\n",
       "      <td>1.000000</td>\n",
       "      <td>-6.754944e-01</td>\n",
       "      <td>-2.806796e-01</td>\n",
       "      <td>-1.000000</td>\n",
       "      <td>-7.131743e-01</td>\n",
       "      <td>-8.645752e-01</td>\n",
       "      <td>-1.000000</td>\n",
       "      <td>0.000000</td>\n",
       "      <td>-3.118750e-01</td>\n",
       "      <td>-1.732202e-01</td>\n",
       "      <td>-1.963488e-01</td>\n",
       "      <td>-1.841894e-01</td>\n",
       "      <td>-5.579025e-01</td>\n",
       "    </tr>\n",
       "    <tr>\n",
       "      <th>50%</th>\n",
       "      <td>1.000000</td>\n",
       "      <td>-6.754944e-01</td>\n",
       "      <td>-2.806796e-01</td>\n",
       "      <td>0.000000</td>\n",
       "      <td>-7.131743e-01</td>\n",
       "      <td>-3.173805e-01</td>\n",
       "      <td>-1.000000</td>\n",
       "      <td>0.000000</td>\n",
       "      <td>-2.867738e-01</td>\n",
       "      <td>-1.639917e-01</td>\n",
       "      <td>-1.754496e-01</td>\n",
       "      <td>-1.527884e-01</td>\n",
       "      <td>-2.426315e-01</td>\n",
       "    </tr>\n",
       "    <tr>\n",
       "      <th>75%</th>\n",
       "      <td>1.000000</td>\n",
       "      <td>5.159282e-01</td>\n",
       "      <td>-2.806796e-01</td>\n",
       "      <td>0.000000</td>\n",
       "      <td>1.117553e+00</td>\n",
       "      <td>5.452277e-01</td>\n",
       "      <td>-1.000000</td>\n",
       "      <td>0.000000</td>\n",
       "      <td>-1.696349e-01</td>\n",
       "      <td>-1.112408e-01</td>\n",
       "      <td>-9.718430e-02</td>\n",
       "      <td>-6.429459e-02</td>\n",
       "      <td>2.443087e-01</td>\n",
       "    </tr>\n",
       "    <tr>\n",
       "      <th>max</th>\n",
       "      <td>1.000000</td>\n",
       "      <td>7.068752e+00</td>\n",
       "      <td>3.562781e+00</td>\n",
       "      <td>1.000000</td>\n",
       "      <td>4.945438e+00</td>\n",
       "      <td>8.170110e+00</td>\n",
       "      <td>15980.000000</td>\n",
       "      <td>1.000000</td>\n",
       "      <td>8.247634e+00</td>\n",
       "      <td>2.967627e+01</td>\n",
       "      <td>6.284213e+01</td>\n",
       "      <td>5.695712e+01</td>\n",
       "      <td>4.168188e+01</td>\n",
       "    </tr>\n",
       "  </tbody>\n",
       "</table>\n",
       "</div>"
      ],
      "text/plain": [
       "        payout_type  org_facebook  has_analytics    has_header   org_twitter  \\\n",
       "count  14337.000000  1.433700e+04   1.433700e+04  14337.000000  1.433700e+04   \n",
       "mean       0.965613 -8.005345e-16   9.346642e-16     -0.251447  7.391885e-16   \n",
       "std        0.182226  1.000035e+00   1.000035e+00      0.663256  1.000035e+00   \n",
       "min        0.000000 -7.605960e-01  -2.806796e-01     -1.000000 -8.796040e-01   \n",
       "25%        1.000000 -6.754944e-01  -2.806796e-01     -1.000000 -7.131743e-01   \n",
       "50%        1.000000 -6.754944e-01  -2.806796e-01      0.000000 -7.131743e-01   \n",
       "75%        1.000000  5.159282e-01  -2.806796e-01      0.000000  1.117553e+00   \n",
       "max        1.000000  7.068752e+00   3.562781e+00      1.000000  4.945438e+00   \n",
       "\n",
       "       account_life    event_life   eu_currency  payout_count  total_payout  \\\n",
       "count  1.433700e+04  14238.000000  14337.000000  1.433700e+04  1.433700e+04   \n",
       "mean   2.965706e-16     56.684015      0.173258  1.126291e-16  7.708140e-17   \n",
       "std    1.000035e+00    977.609649      0.378483  1.000035e+00  1.000035e+00   \n",
       "min   -8.932491e-01   -601.000000      0.000000 -3.202421e-01 -1.744858e-01   \n",
       "25%   -8.645752e-01     -1.000000      0.000000 -3.118750e-01 -1.732202e-01   \n",
       "50%   -3.173805e-01     -1.000000      0.000000 -2.867738e-01 -1.639917e-01   \n",
       "75%    5.452277e-01     -1.000000      0.000000 -1.696349e-01 -1.112408e-01   \n",
       "max    8.170110e+00  15980.000000      1.000000  8.247634e+00  2.967627e+01   \n",
       "\n",
       "       ticket_sales_amount  ticket_sales_count  wc_description  \n",
       "count         1.433700e+04        1.433700e+04    1.433700e+04  \n",
       "mean         -5.693600e-17        2.669274e-17    5.642879e-17  \n",
       "std           1.000035e+00        1.000035e+00    1.000035e+00  \n",
       "min          -2.021541e-01       -1.927533e-01   -8.124691e-01  \n",
       "25%          -1.963488e-01       -1.841894e-01   -5.579025e-01  \n",
       "50%          -1.754496e-01       -1.527884e-01   -2.426315e-01  \n",
       "75%          -9.718430e-02       -6.429459e-02    2.443087e-01  \n",
       "max           6.284213e+01        5.695712e+01    4.168188e+01  "
      ]
     },
     "execution_count": 7,
     "metadata": {},
     "output_type": "execute_result"
    }
   ],
   "source": [
    "df.describe()"
   ]
  },
  {
   "cell_type": "code",
   "execution_count": null,
   "metadata": {},
   "outputs": [],
   "source": [
    "df.describe()"
   ]
  },
  {
   "cell_type": "markdown",
   "metadata": {},
   "source": [
    "date_cols = ['approx_payout_date', 'event_created', 'event_created', 'event_end', \\\n",
    "                     'event_published', 'event_start', 'user_created']\n",
    "\n",
    "for col in date_cols:\n",
    "    print df[col][:5] - df['user_created'][:5]"
   ]
  },
  {
   "cell_type": "code",
   "execution_count": null,
   "metadata": {},
   "outputs": [],
   "source": [
    "df['has_header'][:10]\n",
    "    "
   ]
  },
  {
   "cell_type": "markdown",
   "metadata": {},
   "source": [
    "a = df['event_published'][:5] - df['user_created'][:5]\n",
    "a.var"
   ]
  },
  {
   "cell_type": "markdown",
   "metadata": {},
   "source": [
    "i=12\n",
    "total_payout = 0\n",
    "payout_count = len(df['previous_payouts'][i])\n",
    "payees = set()\n",
    "for d in df['previous_payouts'][i]:\n",
    "    total_payout += d['amount']\n",
    "    payees.add(d['name'])\n",
    "print total_payout, payout_count, payees"
   ]
  },
  {
   "cell_type": "code",
   "execution_count": null,
   "metadata": {
    "collapsed": true
   },
   "outputs": [],
   "source": [
    "a = set()"
   ]
  },
  {
   "cell_type": "code",
   "execution_count": null,
   "metadata": {},
   "outputs": [],
   "source": [
    "df['ticket_types'][0][0].keys()"
   ]
  },
  {
   "cell_type": "code",
   "execution_count": null,
   "metadata": {},
   "outputs": [],
   "source": [
    "Counter(df['fraud'])"
   ]
  },
  {
   "cell_type": "code",
   "execution_count": null,
   "metadata": {},
   "outputs": [],
   "source": [
    "col = 'ticket_sales_amount'\n",
    "print col\n",
    "print \"fraud :\", df[df['fraud'] == True][col].mean()\n",
    "print \"not fraud :\", df[df['fraud'] == False][col].mean()"
   ]
  },
  {
   "cell_type": "code",
   "execution_count": null,
   "metadata": {},
   "outputs": [],
   "source": [
    "col = 'ticket_sales_count'\n",
    "print col\n",
    "print \"fraud :\", df[df['fraud'] == True][col].mean()\n",
    "print \"not fraud :\", df[df['fraud'] == False][col].mean()"
   ]
  },
  {
   "cell_type": "code",
   "execution_count": null,
   "metadata": {},
   "outputs": [],
   "source": [
    "\n",
    "col = 'body_length'\n",
    "print col\n",
    "print \"fraud :\", df[df['fraud'] == True][col].mean()\n",
    "print \"not fraud :\", df[df['fraud'] == False][col].mean()"
   ]
  },
  {
   "cell_type": "code",
   "execution_count": null,
   "metadata": {},
   "outputs": [],
   "source": [
    "df['short_description'][:10]"
   ]
  },
  {
   "cell_type": "code",
   "execution_count": null,
   "metadata": {},
   "outputs": [],
   "source": [
    "df['body_length'][:10]"
   ]
  },
  {
   "cell_type": "code",
   "execution_count": null,
   "metadata": {},
   "outputs": [],
   "source": [
    "Counter(df['currency'])"
   ]
  },
  {
   "cell_type": "code",
   "execution_count": null,
   "metadata": {},
   "outputs": [],
   "source": [
    "# table = pivot_table(df, values='D', index=['A', 'B'],\n",
    "# ...                     columns=['C'], aggfunc=np.sum)\n",
    "table = pd.pivot_table(df, columns=['currency'], values=['fraud'], aggfunc=np.mean)\n",
    "print table"
   ]
  },
  {
   "cell_type": "code",
   "execution_count": null,
   "metadata": {},
   "outputs": [],
   "source": [
    "Counter(df['currency'])"
   ]
  },
  {
   "cell_type": "code",
   "execution_count": null,
   "metadata": {},
   "outputs": [],
   "source": [
    "col = 'ticket_sales_events'\n",
    "print col\n",
    "print \"fraud :\", (df[df['fraud'] == True]['event_created'] - df[df['fraud'] == True]['user_created']).mean()\n",
    "print \"not fraud :\", (df[df['fraud'] == False]['event_created'] - df[df['fraud'] == False]['user_created']).mean()\n"
   ]
  },
  {
   "cell_type": "code",
   "execution_count": null,
   "metadata": {},
   "outputs": [],
   "source": [
    "col = 'has_analytics'\n",
    "print col\n",
    "print \"fraud :\", (df[df['fraud'] == True][col]).mean()\n",
    "print \"not fraud :\", (df[df['fraud'] == False][col]).mean()\n"
   ]
  },
  {
   "cell_type": "code",
   "execution_count": null,
   "metadata": {},
   "outputs": [],
   "source": []
  },
  {
   "cell_type": "code",
   "execution_count": null,
   "metadata": {},
   "outputs": [],
   "source": [
    "import bs4"
   ]
  },
  {
   "cell_type": "code",
   "execution_count": 14,
   "metadata": {},
   "outputs": [
    {
     "ename": "SyntaxError",
     "evalue": "invalid syntax (<ipython-input-14-23fe34dca953>, line 1)",
     "output_type": "error",
     "traceback": [
      "\u001b[0;36m  File \u001b[0;32m\"<ipython-input-14-23fe34dca953>\"\u001b[0;36m, line \u001b[0;32m1\u001b[0m\n\u001b[0;31m    df['event_life'].map(lambda x: 0 if np.isnan(x))\u001b[0m\n\u001b[0m                                                   ^\u001b[0m\n\u001b[0;31mSyntaxError\u001b[0m\u001b[0;31m:\u001b[0m invalid syntax\n"
     ]
    }
   ],
   "source": [
    "df['event_life'].map(lambda x: 0 if np.isnan(x))"
   ]
  },
  {
   "cell_type": "code",
   "execution_count": 13,
   "metadata": {},
   "outputs": [
    {
     "name": "stdout",
     "output_type": "stream",
     "text": [
      "<class 'pandas.core.frame.DataFrame'>\n",
      "Int64Index: 14337 entries, 0 to 14336\n",
      "Data columns (total 16 columns):\n",
      "fraud                  14337 non-null bool\n",
      "short_description      14337 non-null bool\n",
      "payout_type            14337 non-null int64\n",
      "fb_published           14337 non-null bool\n",
      "org_facebook           14337 non-null float64\n",
      "has_analytics          14337 non-null float64\n",
      "has_header             14337 non-null float64\n",
      "org_twitter            14337 non-null float64\n",
      "account_life           14337 non-null float64\n",
      "event_life             14238 non-null float64\n",
      "eu_currency            14337 non-null int64\n",
      "payout_count           14337 non-null float64\n",
      "total_payout           14337 non-null float64\n",
      "ticket_sales_amount    14337 non-null float64\n",
      "ticket_sales_count     14337 non-null float64\n",
      "wc_description         14337 non-null float64\n",
      "dtypes: bool(3), float64(11), int64(2)\n",
      "memory usage: 1.6 MB\n"
     ]
    }
   ],
   "source": [
    "df.info()"
   ]
  },
  {
   "cell_type": "code",
   "execution_count": null,
   "metadata": {
    "collapsed": true
   },
   "outputs": [],
   "source": []
  }
 ],
 "metadata": {
  "kernelspec": {
   "display_name": "Python 2",
   "language": "python",
   "name": "python2"
  },
  "language_info": {
   "codemirror_mode": {
    "name": "ipython",
    "version": 2
   },
   "file_extension": ".py",
   "mimetype": "text/x-python",
   "name": "python",
   "nbconvert_exporter": "python",
   "pygments_lexer": "ipython2",
   "version": "2.7.13"
  }
 },
 "nbformat": 4,
 "nbformat_minor": 2
}
